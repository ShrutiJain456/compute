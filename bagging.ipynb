{
  "nbformat": 4,
  "nbformat_minor": 0,
  "metadata": {
    "colab": {
      "provenance": [],
      "authorship_tag": "ABX9TyPbAhpF0KfiMz/gs3/tstgG",
      "include_colab_link": true
    },
    "kernelspec": {
      "name": "python3",
      "display_name": "Python 3"
    },
    "language_info": {
      "name": "python"
    }
  },
  "cells": [
    {
      "cell_type": "markdown",
      "metadata": {
        "id": "view-in-github",
        "colab_type": "text"
      },
      "source": [
        "<a href=\"https://colab.research.google.com/github/ShrutiJain456/compute/blob/main/bagging.ipynb\" target=\"_parent\"><img src=\"https://colab.research.google.com/assets/colab-badge.svg\" alt=\"Open In Colab\"/></a>"
      ]
    },
    {
      "cell_type": "markdown",
      "source": [
        "Importing libraries"
      ],
      "metadata": {
        "id": "goFztpK4Ln9Y"
      }
    },
    {
      "cell_type": "code",
      "execution_count": 75,
      "metadata": {
        "id": "VUMK2liG1bO-"
      },
      "outputs": [],
      "source": [
        "import pandas as pd\n",
        "import numpy as np\n",
        "import matplotlib.pyplot as plt\n",
        "import seaborn as sns"
      ]
    },
    {
      "cell_type": "markdown",
      "source": [
        "importing data"
      ],
      "metadata": {
        "id": "PgipC__LL4-3"
      }
    },
    {
      "cell_type": "code",
      "source": [
        "data = '/content/churndata_processed.csv'\n",
        "df = pd.read_csv(data)"
      ],
      "metadata": {
        "id": "DVTFP5u0Li4S"
      },
      "execution_count": 76,
      "outputs": []
    },
    {
      "cell_type": "code",
      "source": [
        "df.info()"
      ],
      "metadata": {
        "colab": {
          "base_uri": "https://localhost:8080/"
        },
        "id": "xVIqGpuWMRTN",
        "outputId": "584878c3-7c37-497d-a91e-e4c4d1a7d840"
      },
      "execution_count": 77,
      "outputs": [
        {
          "output_type": "stream",
          "name": "stdout",
          "text": [
            "<class 'pandas.core.frame.DataFrame'>\n",
            "RangeIndex: 7043 entries, 0 to 7042\n",
            "Data columns (total 23 columns):\n",
            " #   Column                     Non-Null Count  Dtype  \n",
            "---  ------                     --------------  -----  \n",
            " 0   months                     7043 non-null   float64\n",
            " 1   multiple                   7043 non-null   int64  \n",
            " 2   gb_mon                     7043 non-null   float64\n",
            " 3   security                   7043 non-null   int64  \n",
            " 4   backup                     7043 non-null   int64  \n",
            " 5   protection                 7043 non-null   int64  \n",
            " 6   support                    7043 non-null   int64  \n",
            " 7   unlimited                  7043 non-null   int64  \n",
            " 8   contract                   7043 non-null   float64\n",
            " 9   paperless                  7043 non-null   int64  \n",
            " 10  monthly                    7043 non-null   float64\n",
            " 11  satisfaction               7043 non-null   float64\n",
            " 12  churn_value                7043 non-null   int64  \n",
            " 13  payment_Credit Card        7043 non-null   int64  \n",
            " 14  payment_Mailed Check       7043 non-null   int64  \n",
            " 15  internet_type_DSL          7043 non-null   int64  \n",
            " 16  internet_type_Fiber Optic  7043 non-null   int64  \n",
            " 17  internet_type_None         7043 non-null   int64  \n",
            " 18  offer_Offer A              7043 non-null   int64  \n",
            " 19  offer_Offer B              7043 non-null   int64  \n",
            " 20  offer_Offer C              7043 non-null   int64  \n",
            " 21  offer_Offer D              7043 non-null   int64  \n",
            " 22  offer_Offer E              7043 non-null   int64  \n",
            "dtypes: float64(5), int64(18)\n",
            "memory usage: 1.2 MB\n"
          ]
        }
      ]
    },
    {
      "cell_type": "code",
      "source": [
        "df.columns"
      ],
      "metadata": {
        "colab": {
          "base_uri": "https://localhost:8080/"
        },
        "id": "z2OmaLDDMxiy",
        "outputId": "8ec0ec60-e284-41d0-ad3a-0990d5ab7f31"
      },
      "execution_count": 78,
      "outputs": [
        {
          "output_type": "execute_result",
          "data": {
            "text/plain": [
              "Index(['months', 'multiple', 'gb_mon', 'security', 'backup', 'protection',\n",
              "       'support', 'unlimited', 'contract', 'paperless', 'monthly',\n",
              "       'satisfaction', 'churn_value', 'payment_Credit Card',\n",
              "       'payment_Mailed Check', 'internet_type_DSL',\n",
              "       'internet_type_Fiber Optic', 'internet_type_None', 'offer_Offer A',\n",
              "       'offer_Offer B', 'offer_Offer C', 'offer_Offer D', 'offer_Offer E'],\n",
              "      dtype='object')"
            ]
          },
          "metadata": {},
          "execution_count": 78
        }
      ]
    },
    {
      "cell_type": "code",
      "source": [
        "df.duplicated().sum()"
      ],
      "metadata": {
        "colab": {
          "base_uri": "https://localhost:8080/"
        },
        "id": "H_7zPeOjNzem",
        "outputId": "fa3e6450-8cce-4e47-85b7-8a675d5d0df8"
      },
      "execution_count": 79,
      "outputs": [
        {
          "output_type": "execute_result",
          "data": {
            "text/plain": [
              "92"
            ]
          },
          "metadata": {},
          "execution_count": 79
        }
      ]
    },
    {
      "cell_type": "code",
      "source": [
        "df.drop_duplicates(inplace = True)"
      ],
      "metadata": {
        "id": "nelQmZVQOFER"
      },
      "execution_count": 80,
      "outputs": []
    },
    {
      "cell_type": "code",
      "source": [
        "df.duplicated().sum()"
      ],
      "metadata": {
        "colab": {
          "base_uri": "https://localhost:8080/"
        },
        "id": "xM5zuyQFON8f",
        "outputId": "4c8feee7-db46-49ed-eb84-77ce9b7b60b1"
      },
      "execution_count": 81,
      "outputs": [
        {
          "output_type": "execute_result",
          "data": {
            "text/plain": [
              "0"
            ]
          },
          "metadata": {},
          "execution_count": 81
        }
      ]
    },
    {
      "cell_type": "code",
      "source": [
        "df.isnull().sum()"
      ],
      "metadata": {
        "colab": {
          "base_uri": "https://localhost:8080/"
        },
        "id": "STjPTGuzOjJe",
        "outputId": "fcffc10a-69cb-438b-9529-32d9f8028fa8"
      },
      "execution_count": 82,
      "outputs": [
        {
          "output_type": "execute_result",
          "data": {
            "text/plain": [
              "months                       0\n",
              "multiple                     0\n",
              "gb_mon                       0\n",
              "security                     0\n",
              "backup                       0\n",
              "protection                   0\n",
              "support                      0\n",
              "unlimited                    0\n",
              "contract                     0\n",
              "paperless                    0\n",
              "monthly                      0\n",
              "satisfaction                 0\n",
              "churn_value                  0\n",
              "payment_Credit Card          0\n",
              "payment_Mailed Check         0\n",
              "internet_type_DSL            0\n",
              "internet_type_Fiber Optic    0\n",
              "internet_type_None           0\n",
              "offer_Offer A                0\n",
              "offer_Offer B                0\n",
              "offer_Offer C                0\n",
              "offer_Offer D                0\n",
              "offer_Offer E                0\n",
              "dtype: int64"
            ]
          },
          "metadata": {},
          "execution_count": 82
        }
      ]
    },
    {
      "cell_type": "code",
      "source": [
        "df.info()"
      ],
      "metadata": {
        "colab": {
          "base_uri": "https://localhost:8080/"
        },
        "id": "JHTB7wFoPNq8",
        "outputId": "66f61c72-cfea-494f-d64b-de21c1c2c127"
      },
      "execution_count": 83,
      "outputs": [
        {
          "output_type": "stream",
          "name": "stdout",
          "text": [
            "<class 'pandas.core.frame.DataFrame'>\n",
            "Int64Index: 6951 entries, 0 to 7042\n",
            "Data columns (total 23 columns):\n",
            " #   Column                     Non-Null Count  Dtype  \n",
            "---  ------                     --------------  -----  \n",
            " 0   months                     6951 non-null   float64\n",
            " 1   multiple                   6951 non-null   int64  \n",
            " 2   gb_mon                     6951 non-null   float64\n",
            " 3   security                   6951 non-null   int64  \n",
            " 4   backup                     6951 non-null   int64  \n",
            " 5   protection                 6951 non-null   int64  \n",
            " 6   support                    6951 non-null   int64  \n",
            " 7   unlimited                  6951 non-null   int64  \n",
            " 8   contract                   6951 non-null   float64\n",
            " 9   paperless                  6951 non-null   int64  \n",
            " 10  monthly                    6951 non-null   float64\n",
            " 11  satisfaction               6951 non-null   float64\n",
            " 12  churn_value                6951 non-null   int64  \n",
            " 13  payment_Credit Card        6951 non-null   int64  \n",
            " 14  payment_Mailed Check       6951 non-null   int64  \n",
            " 15  internet_type_DSL          6951 non-null   int64  \n",
            " 16  internet_type_Fiber Optic  6951 non-null   int64  \n",
            " 17  internet_type_None         6951 non-null   int64  \n",
            " 18  offer_Offer A              6951 non-null   int64  \n",
            " 19  offer_Offer B              6951 non-null   int64  \n",
            " 20  offer_Offer C              6951 non-null   int64  \n",
            " 21  offer_Offer D              6951 non-null   int64  \n",
            " 22  offer_Offer E              6951 non-null   int64  \n",
            "dtypes: float64(5), int64(18)\n",
            "memory usage: 1.3 MB\n"
          ]
        }
      ]
    },
    {
      "cell_type": "code",
      "source": [
        "df['churn_value'].value_counts()"
      ],
      "metadata": {
        "colab": {
          "base_uri": "https://localhost:8080/"
        },
        "id": "GHwImqE2352D",
        "outputId": "11c08d92-7e43-4127-8697-9512b193a7be"
      },
      "execution_count": 84,
      "outputs": [
        {
          "output_type": "execute_result",
          "data": {
            "text/plain": [
              "0    5084\n",
              "1    1867\n",
              "Name: churn_value, dtype: int64"
            ]
          },
          "metadata": {},
          "execution_count": 84
        }
      ]
    },
    {
      "cell_type": "code",
      "source": [
        "from sklearn.utils import resample\n",
        "df_majority=df[df['churn_value']==0]\n",
        "df_minority=df[df['churn_value']==1]\n",
        "df_new=resample(df_minority,replace=True,n_samples=5174,random_state=50)"
      ],
      "metadata": {
        "id": "alOYSYMc4AF1"
      },
      "execution_count": 85,
      "outputs": []
    },
    {
      "cell_type": "code",
      "source": [
        "df1=pd.concat([df_new,df_majority])"
      ],
      "metadata": {
        "id": "WhL50v6s4fZ-"
      },
      "execution_count": 86,
      "outputs": []
    },
    {
      "cell_type": "code",
      "source": [
        "df1['churn_value'].value_counts()"
      ],
      "metadata": {
        "colab": {
          "base_uri": "https://localhost:8080/"
        },
        "id": "t-WH4iFL4juL",
        "outputId": "7b5590d4-9856-4f07-d3d4-18e9f919d8a8"
      },
      "execution_count": 87,
      "outputs": [
        {
          "output_type": "execute_result",
          "data": {
            "text/plain": [
              "1    5174\n",
              "0    5084\n",
              "Name: churn_value, dtype: int64"
            ]
          },
          "metadata": {},
          "execution_count": 87
        }
      ]
    },
    {
      "cell_type": "code",
      "source": [
        "y=df1.loc[:,'churn_value'].values\n",
        "X=df1.drop(['churn_value'],axis=1).values"
      ],
      "metadata": {
        "id": "GF0GgzVj4n2_"
      },
      "execution_count": 88,
      "outputs": []
    },
    {
      "cell_type": "markdown",
      "source": [
        "splitting and training the data"
      ],
      "metadata": {
        "id": "5leJVc84QuAi"
      }
    },
    {
      "cell_type": "code",
      "source": [
        "from sklearn.model_selection import train_test_split\n",
        "from sklearn.ensemble import RandomForestClassifier\n",
        "from sklearn.ensemble import BaggingClassifier"
      ],
      "metadata": {
        "id": "JuNQ4IMeQ93n"
      },
      "execution_count": 89,
      "outputs": []
    },
    {
      "cell_type": "code",
      "source": [
        "X_train, X_test, y_train, y_test = train_test_split(X, y,test_size = 0.33, random_state = 20)"
      ],
      "metadata": {
        "id": "1O7E6JE7U2AK"
      },
      "execution_count": 90,
      "outputs": []
    },
    {
      "cell_type": "code",
      "source": [
        "model = RandomForestClassifier(n_estimators = 10, random_state = 0, criterion = 'gini')\n",
        "model.fit(X_train, y_train)\n",
        "y_pred = model.predict(X_test)"
      ],
      "metadata": {
        "id": "y3t3NCC9TZhn"
      },
      "execution_count": 91,
      "outputs": []
    },
    {
      "cell_type": "markdown",
      "source": [
        "Since the data is imbalanced, we can use f1 score as it combines precision and recall."
      ],
      "metadata": {
        "id": "K_FbPvEhYCee"
      }
    },
    {
      "cell_type": "code",
      "source": [
        "from sklearn.metrics import confusion_matrix\n",
        "from sklearn.metrics import f1_score\n",
        "from sklearn.metrics import classification_report,accuracy_score"
      ],
      "metadata": {
        "id": "fySDjw02XcZY"
      },
      "execution_count": 92,
      "outputs": []
    },
    {
      "cell_type": "code",
      "source": [
        "cm = confusion_matrix(y_test, y_pred)\n",
        "cm"
      ],
      "metadata": {
        "colab": {
          "base_uri": "https://localhost:8080/"
        },
        "id": "RpFyNssBXuja",
        "outputId": "5f107e17-9d9e-4c10-d9ca-526cb63635c5"
      },
      "execution_count": 93,
      "outputs": [
        {
          "output_type": "execute_result",
          "data": {
            "text/plain": [
              "array([[1599,   65],\n",
              "       [  39, 1683]])"
            ]
          },
          "metadata": {},
          "execution_count": 93
        }
      ]
    },
    {
      "cell_type": "code",
      "source": [
        "print(classification_report(y_test, y_pred))"
      ],
      "metadata": {
        "colab": {
          "base_uri": "https://localhost:8080/"
        },
        "id": "rvdWIDDKX_hj",
        "outputId": "68255fb4-2f9b-4022-f6d9-5caa354c3b43"
      },
      "execution_count": 94,
      "outputs": [
        {
          "output_type": "stream",
          "name": "stdout",
          "text": [
            "              precision    recall  f1-score   support\n",
            "\n",
            "           0       0.98      0.96      0.97      1664\n",
            "           1       0.96      0.98      0.97      1722\n",
            "\n",
            "    accuracy                           0.97      3386\n",
            "   macro avg       0.97      0.97      0.97      3386\n",
            "weighted avg       0.97      0.97      0.97      3386\n",
            "\n"
          ]
        }
      ]
    },
    {
      "cell_type": "code",
      "source": [
        "bg = BaggingClassifier(base_estimator = RandomForestClassifier(), random_state = 20)\n",
        "bg.fit(X_train, y_train)\n",
        "y_bg_pred = bg.predict(X_test)"
      ],
      "metadata": {
        "id": "cEHhcMkDaaPq"
      },
      "execution_count": 95,
      "outputs": []
    },
    {
      "cell_type": "code",
      "source": [
        "from sklearn import model_selection\n",
        "result = model_selection.cross_val_score(model, X, y)\n",
        "print(result.mean())"
      ],
      "metadata": {
        "colab": {
          "base_uri": "https://localhost:8080/"
        },
        "id": "AzF8D92LcAgx",
        "outputId": "7f05a24c-a45d-49bd-9aca-3922fb3d47e4"
      },
      "execution_count": 96,
      "outputs": [
        {
          "output_type": "stream",
          "name": "stdout",
          "text": [
            "0.9774809131284791\n"
          ]
        }
      ]
    },
    {
      "cell_type": "code",
      "source": [
        "y_pred_train = bg.predict(X_train)\n",
        "print(classification_report(y_train, y_pred_train))"
      ],
      "metadata": {
        "colab": {
          "base_uri": "https://localhost:8080/"
        },
        "id": "Ky9e9QIn1Ru2",
        "outputId": "5a930960-3c67-434a-a2ea-9114f925d814"
      },
      "execution_count": 97,
      "outputs": [
        {
          "output_type": "stream",
          "name": "stdout",
          "text": [
            "              precision    recall  f1-score   support\n",
            "\n",
            "           0       1.00      0.99      0.99      3420\n",
            "           1       0.99      1.00      0.99      3452\n",
            "\n",
            "    accuracy                           0.99      6872\n",
            "   macro avg       0.99      0.99      0.99      6872\n",
            "weighted avg       0.99      0.99      0.99      6872\n",
            "\n"
          ]
        }
      ]
    },
    {
      "cell_type": "markdown",
      "source": [
        "the model fits perfectly"
      ],
      "metadata": {
        "id": "Aw0W9SyW3eqe"
      }
    }
  ]
}