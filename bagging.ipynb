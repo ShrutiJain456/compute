{
  "nbformat": 4,
  "nbformat_minor": 0,
  "metadata": {
    "colab": {
      "provenance": [],
      "authorship_tag": "ABX9TyPwatN/epvJYU3Fr1yARSq0",
      "include_colab_link": true
    },
    "kernelspec": {
      "name": "python3",
      "display_name": "Python 3"
    },
    "language_info": {
      "name": "python"
    }
  },
  "cells": [
    {
      "cell_type": "markdown",
      "metadata": {
        "id": "view-in-github",
        "colab_type": "text"
      },
      "source": [
        "<a href=\"https://colab.research.google.com/github/ShrutiJain456/compute/blob/main/bagging.ipynb\" target=\"_parent\"><img src=\"https://colab.research.google.com/assets/colab-badge.svg\" alt=\"Open In Colab\"/></a>"
      ]
    },
    {
      "cell_type": "markdown",
      "source": [
        "Importing libraries"
      ],
      "metadata": {
        "id": "goFztpK4Ln9Y"
      }
    },
    {
      "cell_type": "code",
      "execution_count": 34,
      "metadata": {
        "id": "VUMK2liG1bO-"
      },
      "outputs": [],
      "source": [
        "import pandas as pd\n",
        "import numpy as np\n",
        "import matplotlib.pyplot as plt\n",
        "import seaborn as sns"
      ]
    },
    {
      "cell_type": "markdown",
      "source": [
        "importing data"
      ],
      "metadata": {
        "id": "PgipC__LL4-3"
      }
    },
    {
      "cell_type": "code",
      "source": [
        "data = '/content/churndata_processed.csv'\n",
        "df = pd.read_csv(data)"
      ],
      "metadata": {
        "id": "DVTFP5u0Li4S"
      },
      "execution_count": 35,
      "outputs": []
    },
    {
      "cell_type": "code",
      "source": [
        "df.info()"
      ],
      "metadata": {
        "colab": {
          "base_uri": "https://localhost:8080/"
        },
        "id": "xVIqGpuWMRTN",
        "outputId": "06a3588d-8ba7-4e8a-a8a0-4b2ea192109f"
      },
      "execution_count": 36,
      "outputs": [
        {
          "output_type": "stream",
          "name": "stdout",
          "text": [
            "<class 'pandas.core.frame.DataFrame'>\n",
            "RangeIndex: 7043 entries, 0 to 7042\n",
            "Data columns (total 23 columns):\n",
            " #   Column                     Non-Null Count  Dtype  \n",
            "---  ------                     --------------  -----  \n",
            " 0   months                     7043 non-null   float64\n",
            " 1   multiple                   7043 non-null   int64  \n",
            " 2   gb_mon                     7043 non-null   float64\n",
            " 3   security                   7043 non-null   int64  \n",
            " 4   backup                     7043 non-null   int64  \n",
            " 5   protection                 7043 non-null   int64  \n",
            " 6   support                    7043 non-null   int64  \n",
            " 7   unlimited                  7043 non-null   int64  \n",
            " 8   contract                   7043 non-null   float64\n",
            " 9   paperless                  7043 non-null   int64  \n",
            " 10  monthly                    7043 non-null   float64\n",
            " 11  satisfaction               7043 non-null   float64\n",
            " 12  churn_value                7043 non-null   int64  \n",
            " 13  payment_Credit Card        7043 non-null   int64  \n",
            " 14  payment_Mailed Check       7043 non-null   int64  \n",
            " 15  internet_type_DSL          7043 non-null   int64  \n",
            " 16  internet_type_Fiber Optic  7043 non-null   int64  \n",
            " 17  internet_type_None         7043 non-null   int64  \n",
            " 18  offer_Offer A              7043 non-null   int64  \n",
            " 19  offer_Offer B              7043 non-null   int64  \n",
            " 20  offer_Offer C              7043 non-null   int64  \n",
            " 21  offer_Offer D              7043 non-null   int64  \n",
            " 22  offer_Offer E              7043 non-null   int64  \n",
            "dtypes: float64(5), int64(18)\n",
            "memory usage: 1.2 MB\n"
          ]
        }
      ]
    },
    {
      "cell_type": "code",
      "source": [
        "df.columns"
      ],
      "metadata": {
        "colab": {
          "base_uri": "https://localhost:8080/"
        },
        "id": "z2OmaLDDMxiy",
        "outputId": "7a727ca7-16b2-4a7e-b093-1f72bd0b8a11"
      },
      "execution_count": 37,
      "outputs": [
        {
          "output_type": "execute_result",
          "data": {
            "text/plain": [
              "Index(['months', 'multiple', 'gb_mon', 'security', 'backup', 'protection',\n",
              "       'support', 'unlimited', 'contract', 'paperless', 'monthly',\n",
              "       'satisfaction', 'churn_value', 'payment_Credit Card',\n",
              "       'payment_Mailed Check', 'internet_type_DSL',\n",
              "       'internet_type_Fiber Optic', 'internet_type_None', 'offer_Offer A',\n",
              "       'offer_Offer B', 'offer_Offer C', 'offer_Offer D', 'offer_Offer E'],\n",
              "      dtype='object')"
            ]
          },
          "metadata": {},
          "execution_count": 37
        }
      ]
    },
    {
      "cell_type": "code",
      "source": [
        "df.duplicated().sum()"
      ],
      "metadata": {
        "colab": {
          "base_uri": "https://localhost:8080/"
        },
        "id": "H_7zPeOjNzem",
        "outputId": "ed5761ca-d369-44c0-f55d-8cfe031cea4d"
      },
      "execution_count": 38,
      "outputs": [
        {
          "output_type": "execute_result",
          "data": {
            "text/plain": [
              "92"
            ]
          },
          "metadata": {},
          "execution_count": 38
        }
      ]
    },
    {
      "cell_type": "code",
      "source": [
        "df.drop_duplicates(inplace = True)"
      ],
      "metadata": {
        "id": "nelQmZVQOFER"
      },
      "execution_count": 39,
      "outputs": []
    },
    {
      "cell_type": "code",
      "source": [
        "df.duplicated().sum()"
      ],
      "metadata": {
        "colab": {
          "base_uri": "https://localhost:8080/"
        },
        "id": "xM5zuyQFON8f",
        "outputId": "89bdf9af-2ff6-4116-a89f-4fc6389232b6"
      },
      "execution_count": 40,
      "outputs": [
        {
          "output_type": "execute_result",
          "data": {
            "text/plain": [
              "0"
            ]
          },
          "metadata": {},
          "execution_count": 40
        }
      ]
    },
    {
      "cell_type": "code",
      "source": [
        "df.isnull().sum()"
      ],
      "metadata": {
        "colab": {
          "base_uri": "https://localhost:8080/"
        },
        "id": "STjPTGuzOjJe",
        "outputId": "8e18b5e4-7ca1-4d31-f968-88cf4b697e1e"
      },
      "execution_count": 41,
      "outputs": [
        {
          "output_type": "execute_result",
          "data": {
            "text/plain": [
              "months                       0\n",
              "multiple                     0\n",
              "gb_mon                       0\n",
              "security                     0\n",
              "backup                       0\n",
              "protection                   0\n",
              "support                      0\n",
              "unlimited                    0\n",
              "contract                     0\n",
              "paperless                    0\n",
              "monthly                      0\n",
              "satisfaction                 0\n",
              "churn_value                  0\n",
              "payment_Credit Card          0\n",
              "payment_Mailed Check         0\n",
              "internet_type_DSL            0\n",
              "internet_type_Fiber Optic    0\n",
              "internet_type_None           0\n",
              "offer_Offer A                0\n",
              "offer_Offer B                0\n",
              "offer_Offer C                0\n",
              "offer_Offer D                0\n",
              "offer_Offer E                0\n",
              "dtype: int64"
            ]
          },
          "metadata": {},
          "execution_count": 41
        }
      ]
    },
    {
      "cell_type": "code",
      "source": [
        "df.info()"
      ],
      "metadata": {
        "colab": {
          "base_uri": "https://localhost:8080/"
        },
        "id": "JHTB7wFoPNq8",
        "outputId": "ca673249-102c-45e9-afb0-504daeecdd2f"
      },
      "execution_count": 42,
      "outputs": [
        {
          "output_type": "stream",
          "name": "stdout",
          "text": [
            "<class 'pandas.core.frame.DataFrame'>\n",
            "Int64Index: 6951 entries, 0 to 7042\n",
            "Data columns (total 23 columns):\n",
            " #   Column                     Non-Null Count  Dtype  \n",
            "---  ------                     --------------  -----  \n",
            " 0   months                     6951 non-null   float64\n",
            " 1   multiple                   6951 non-null   int64  \n",
            " 2   gb_mon                     6951 non-null   float64\n",
            " 3   security                   6951 non-null   int64  \n",
            " 4   backup                     6951 non-null   int64  \n",
            " 5   protection                 6951 non-null   int64  \n",
            " 6   support                    6951 non-null   int64  \n",
            " 7   unlimited                  6951 non-null   int64  \n",
            " 8   contract                   6951 non-null   float64\n",
            " 9   paperless                  6951 non-null   int64  \n",
            " 10  monthly                    6951 non-null   float64\n",
            " 11  satisfaction               6951 non-null   float64\n",
            " 12  churn_value                6951 non-null   int64  \n",
            " 13  payment_Credit Card        6951 non-null   int64  \n",
            " 14  payment_Mailed Check       6951 non-null   int64  \n",
            " 15  internet_type_DSL          6951 non-null   int64  \n",
            " 16  internet_type_Fiber Optic  6951 non-null   int64  \n",
            " 17  internet_type_None         6951 non-null   int64  \n",
            " 18  offer_Offer A              6951 non-null   int64  \n",
            " 19  offer_Offer B              6951 non-null   int64  \n",
            " 20  offer_Offer C              6951 non-null   int64  \n",
            " 21  offer_Offer D              6951 non-null   int64  \n",
            " 22  offer_Offer E              6951 non-null   int64  \n",
            "dtypes: float64(5), int64(18)\n",
            "memory usage: 1.3 MB\n"
          ]
        }
      ]
    },
    {
      "cell_type": "markdown",
      "source": [
        "splitting and training the data"
      ],
      "metadata": {
        "id": "5leJVc84QuAi"
      }
    },
    {
      "cell_type": "code",
      "source": [
        "from sklearn.model_selection import train_test_split\n",
        "from sklearn.ensemble import RandomForestClassifier\n",
        "from sklearn.ensemble import BaggingClassifier"
      ],
      "metadata": {
        "id": "JuNQ4IMeQ93n"
      },
      "execution_count": 43,
      "outputs": []
    },
    {
      "cell_type": "code",
      "source": [
        "X = df.drop(columns = 'churn_value')\n",
        "y = df['churn_value']"
      ],
      "metadata": {
        "id": "C7IZFBe1PaOM"
      },
      "execution_count": 44,
      "outputs": []
    },
    {
      "cell_type": "code",
      "source": [
        "X_train, X_test, y_train, y_test = train_test_split(X, y, random_state = 20)"
      ],
      "metadata": {
        "id": "1O7E6JE7U2AK"
      },
      "execution_count": 45,
      "outputs": []
    },
    {
      "cell_type": "code",
      "source": [
        "model = RandomForestClassifier(n_estimators = 10, random_state = 0, criterion = 'gini')\n",
        "model.fit(X_train, y_train)\n",
        "y_pred = model.predict(X_test)"
      ],
      "metadata": {
        "id": "y3t3NCC9TZhn"
      },
      "execution_count": 46,
      "outputs": []
    },
    {
      "cell_type": "markdown",
      "source": [
        "Since the data is imbalanced, we can use f1 score as it combines precision and recall."
      ],
      "metadata": {
        "id": "K_FbPvEhYCee"
      }
    },
    {
      "cell_type": "code",
      "source": [
        "from sklearn.metrics import confusion_matrix\n",
        "from sklearn.metrics import f1_score\n",
        "from sklearn.metrics import classification_report,accuracy_score"
      ],
      "metadata": {
        "id": "fySDjw02XcZY"
      },
      "execution_count": 47,
      "outputs": []
    },
    {
      "cell_type": "code",
      "source": [
        "cm = confusion_matrix(y_test, y_pred)\n",
        "cm"
      ],
      "metadata": {
        "colab": {
          "base_uri": "https://localhost:8080/"
        },
        "id": "RpFyNssBXuja",
        "outputId": "19defb61-9282-4f51-ae00-333ee9a019dc"
      },
      "execution_count": 48,
      "outputs": [
        {
          "output_type": "execute_result",
          "data": {
            "text/plain": [
              "array([[1231,   20],\n",
              "       [  80,  407]])"
            ]
          },
          "metadata": {},
          "execution_count": 48
        }
      ]
    },
    {
      "cell_type": "code",
      "source": [
        "print(classification_report(y_test, y_pred))"
      ],
      "metadata": {
        "colab": {
          "base_uri": "https://localhost:8080/"
        },
        "id": "rvdWIDDKX_hj",
        "outputId": "3af60ae4-7f10-40ca-b517-e707ec9dc55f"
      },
      "execution_count": 49,
      "outputs": [
        {
          "output_type": "stream",
          "name": "stdout",
          "text": [
            "              precision    recall  f1-score   support\n",
            "\n",
            "           0       0.94      0.98      0.96      1251\n",
            "           1       0.95      0.84      0.89       487\n",
            "\n",
            "    accuracy                           0.94      1738\n",
            "   macro avg       0.95      0.91      0.93      1738\n",
            "weighted avg       0.94      0.94      0.94      1738\n",
            "\n"
          ]
        }
      ]
    },
    {
      "cell_type": "code",
      "source": [
        "bg = BaggingClassifier(base_estimator = RandomForestClassifier(), random_state = 20)\n",
        "bg.fit(X_train, y_train)\n",
        "y_bg_pred = bg.predict(X_test)"
      ],
      "metadata": {
        "id": "cEHhcMkDaaPq"
      },
      "execution_count": 50,
      "outputs": []
    },
    {
      "cell_type": "code",
      "source": [
        "from sklearn import model_selection\n",
        "result = model_selection.cross_val_score(model, X, y)\n",
        "print(result.mean())"
      ],
      "metadata": {
        "colab": {
          "base_uri": "https://localhost:8080/"
        },
        "id": "AzF8D92LcAgx",
        "outputId": "5edfc9b0-d5a3-4f22-b04e-3392b51e65d3"
      },
      "execution_count": 51,
      "outputs": [
        {
          "output_type": "stream",
          "name": "stdout",
          "text": [
            "0.9457623261563288\n"
          ]
        }
      ]
    },
    {
      "cell_type": "code",
      "source": [
        "y_pred_train = bg.predict(X_train)\n",
        "print(classification_report(y_train, y_pred_train))"
      ],
      "metadata": {
        "colab": {
          "base_uri": "https://localhost:8080/"
        },
        "id": "Ky9e9QIn1Ru2",
        "outputId": "4e43b7e4-4da0-4bda-fb19-fdaddd7ef667"
      },
      "execution_count": 53,
      "outputs": [
        {
          "output_type": "stream",
          "name": "stdout",
          "text": [
            "              precision    recall  f1-score   support\n",
            "\n",
            "           0       0.99      1.00      0.99      3833\n",
            "           1       0.99      0.96      0.98      1380\n",
            "\n",
            "    accuracy                           0.99      5213\n",
            "   macro avg       0.99      0.98      0.99      5213\n",
            "weighted avg       0.99      0.99      0.99      5213\n",
            "\n"
          ]
        }
      ]
    },
    {
      "cell_type": "markdown",
      "source": [
        "the model fits perfectly"
      ],
      "metadata": {
        "id": "Aw0W9SyW3eqe"
      }
    }
  ]
}