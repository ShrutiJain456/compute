{
  "nbformat": 4,
  "nbformat_minor": 0,
  "metadata": {
    "colab": {
      "provenance": [],
      "authorship_tag": "ABX9TyNCNFME3ODlw5FLAop6dhzq",
      "include_colab_link": true
    },
    "kernelspec": {
      "name": "python3",
      "display_name": "Python 3"
    },
    "language_info": {
      "name": "python"
    }
  },
  "cells": [
    {
      "cell_type": "markdown",
      "metadata": {
        "id": "view-in-github",
        "colab_type": "text"
      },
      "source": [
        "<a href=\"https://colab.research.google.com/github/ShrutiJain456/compute/blob/main/bagging.ipynb\" target=\"_parent\"><img src=\"https://colab.research.google.com/assets/colab-badge.svg\" alt=\"Open In Colab\"/></a>"
      ]
    },
    {
      "cell_type": "markdown",
      "source": [
        "Importing libraries"
      ],
      "metadata": {
        "id": "goFztpK4Ln9Y"
      }
    },
    {
      "cell_type": "code",
      "execution_count": 106,
      "metadata": {
        "id": "VUMK2liG1bO-"
      },
      "outputs": [],
      "source": [
        "import pandas as pd\n",
        "import numpy as np\n",
        "import matplotlib.pyplot as plt\n",
        "import seaborn as sns"
      ]
    },
    {
      "cell_type": "markdown",
      "source": [
        "importing data"
      ],
      "metadata": {
        "id": "PgipC__LL4-3"
      }
    },
    {
      "cell_type": "code",
      "source": [
        "data = '/content/churndata_processed.csv'\n",
        "df = pd.read_csv(data)"
      ],
      "metadata": {
        "id": "DVTFP5u0Li4S"
      },
      "execution_count": 107,
      "outputs": []
    },
    {
      "cell_type": "code",
      "source": [
        "df.info()"
      ],
      "metadata": {
        "colab": {
          "base_uri": "https://localhost:8080/"
        },
        "id": "xVIqGpuWMRTN",
        "outputId": "ddd3d81a-7149-4b30-e699-81765d855545"
      },
      "execution_count": 108,
      "outputs": [
        {
          "output_type": "stream",
          "name": "stdout",
          "text": [
            "<class 'pandas.core.frame.DataFrame'>\n",
            "RangeIndex: 7043 entries, 0 to 7042\n",
            "Data columns (total 23 columns):\n",
            " #   Column                     Non-Null Count  Dtype  \n",
            "---  ------                     --------------  -----  \n",
            " 0   months                     7043 non-null   float64\n",
            " 1   multiple                   7043 non-null   int64  \n",
            " 2   gb_mon                     7043 non-null   float64\n",
            " 3   security                   7043 non-null   int64  \n",
            " 4   backup                     7043 non-null   int64  \n",
            " 5   protection                 7043 non-null   int64  \n",
            " 6   support                    7043 non-null   int64  \n",
            " 7   unlimited                  7043 non-null   int64  \n",
            " 8   contract                   7043 non-null   float64\n",
            " 9   paperless                  7043 non-null   int64  \n",
            " 10  monthly                    7043 non-null   float64\n",
            " 11  satisfaction               7043 non-null   float64\n",
            " 12  churn_value                7043 non-null   int64  \n",
            " 13  payment_Credit Card        7043 non-null   int64  \n",
            " 14  payment_Mailed Check       7043 non-null   int64  \n",
            " 15  internet_type_DSL          7043 non-null   int64  \n",
            " 16  internet_type_Fiber Optic  7043 non-null   int64  \n",
            " 17  internet_type_None         7043 non-null   int64  \n",
            " 18  offer_Offer A              7043 non-null   int64  \n",
            " 19  offer_Offer B              7043 non-null   int64  \n",
            " 20  offer_Offer C              7043 non-null   int64  \n",
            " 21  offer_Offer D              7043 non-null   int64  \n",
            " 22  offer_Offer E              7043 non-null   int64  \n",
            "dtypes: float64(5), int64(18)\n",
            "memory usage: 1.2 MB\n"
          ]
        }
      ]
    },
    {
      "cell_type": "code",
      "source": [
        "df.columns"
      ],
      "metadata": {
        "colab": {
          "base_uri": "https://localhost:8080/"
        },
        "id": "z2OmaLDDMxiy",
        "outputId": "24c68bab-49c5-400c-921b-d9dc9f69d940"
      },
      "execution_count": 109,
      "outputs": [
        {
          "output_type": "execute_result",
          "data": {
            "text/plain": [
              "Index(['months', 'multiple', 'gb_mon', 'security', 'backup', 'protection',\n",
              "       'support', 'unlimited', 'contract', 'paperless', 'monthly',\n",
              "       'satisfaction', 'churn_value', 'payment_Credit Card',\n",
              "       'payment_Mailed Check', 'internet_type_DSL',\n",
              "       'internet_type_Fiber Optic', 'internet_type_None', 'offer_Offer A',\n",
              "       'offer_Offer B', 'offer_Offer C', 'offer_Offer D', 'offer_Offer E'],\n",
              "      dtype='object')"
            ]
          },
          "metadata": {},
          "execution_count": 109
        }
      ]
    },
    {
      "cell_type": "code",
      "source": [
        "df.duplicated().sum()"
      ],
      "metadata": {
        "colab": {
          "base_uri": "https://localhost:8080/"
        },
        "id": "H_7zPeOjNzem",
        "outputId": "a30b57b3-ab65-4e29-e0cf-b5fa5d8e1893"
      },
      "execution_count": 110,
      "outputs": [
        {
          "output_type": "execute_result",
          "data": {
            "text/plain": [
              "92"
            ]
          },
          "metadata": {},
          "execution_count": 110
        }
      ]
    },
    {
      "cell_type": "code",
      "source": [
        "df.drop_duplicates(inplace = True)"
      ],
      "metadata": {
        "id": "nelQmZVQOFER"
      },
      "execution_count": 111,
      "outputs": []
    },
    {
      "cell_type": "code",
      "source": [
        "df.duplicated().sum()"
      ],
      "metadata": {
        "colab": {
          "base_uri": "https://localhost:8080/"
        },
        "id": "xM5zuyQFON8f",
        "outputId": "ec68b2a9-d8c4-470a-848c-735d58c3e6f0"
      },
      "execution_count": 112,
      "outputs": [
        {
          "output_type": "execute_result",
          "data": {
            "text/plain": [
              "0"
            ]
          },
          "metadata": {},
          "execution_count": 112
        }
      ]
    },
    {
      "cell_type": "code",
      "source": [
        "df.isnull().sum()"
      ],
      "metadata": {
        "colab": {
          "base_uri": "https://localhost:8080/"
        },
        "id": "STjPTGuzOjJe",
        "outputId": "cff3f74f-e6d9-4961-d32f-537bfdb67b64"
      },
      "execution_count": 113,
      "outputs": [
        {
          "output_type": "execute_result",
          "data": {
            "text/plain": [
              "months                       0\n",
              "multiple                     0\n",
              "gb_mon                       0\n",
              "security                     0\n",
              "backup                       0\n",
              "protection                   0\n",
              "support                      0\n",
              "unlimited                    0\n",
              "contract                     0\n",
              "paperless                    0\n",
              "monthly                      0\n",
              "satisfaction                 0\n",
              "churn_value                  0\n",
              "payment_Credit Card          0\n",
              "payment_Mailed Check         0\n",
              "internet_type_DSL            0\n",
              "internet_type_Fiber Optic    0\n",
              "internet_type_None           0\n",
              "offer_Offer A                0\n",
              "offer_Offer B                0\n",
              "offer_Offer C                0\n",
              "offer_Offer D                0\n",
              "offer_Offer E                0\n",
              "dtype: int64"
            ]
          },
          "metadata": {},
          "execution_count": 113
        }
      ]
    },
    {
      "cell_type": "code",
      "source": [
        "df.info()"
      ],
      "metadata": {
        "colab": {
          "base_uri": "https://localhost:8080/"
        },
        "id": "JHTB7wFoPNq8",
        "outputId": "3724582a-8563-42c9-95ee-0507b47a6bb0"
      },
      "execution_count": 114,
      "outputs": [
        {
          "output_type": "stream",
          "name": "stdout",
          "text": [
            "<class 'pandas.core.frame.DataFrame'>\n",
            "Int64Index: 6951 entries, 0 to 7042\n",
            "Data columns (total 23 columns):\n",
            " #   Column                     Non-Null Count  Dtype  \n",
            "---  ------                     --------------  -----  \n",
            " 0   months                     6951 non-null   float64\n",
            " 1   multiple                   6951 non-null   int64  \n",
            " 2   gb_mon                     6951 non-null   float64\n",
            " 3   security                   6951 non-null   int64  \n",
            " 4   backup                     6951 non-null   int64  \n",
            " 5   protection                 6951 non-null   int64  \n",
            " 6   support                    6951 non-null   int64  \n",
            " 7   unlimited                  6951 non-null   int64  \n",
            " 8   contract                   6951 non-null   float64\n",
            " 9   paperless                  6951 non-null   int64  \n",
            " 10  monthly                    6951 non-null   float64\n",
            " 11  satisfaction               6951 non-null   float64\n",
            " 12  churn_value                6951 non-null   int64  \n",
            " 13  payment_Credit Card        6951 non-null   int64  \n",
            " 14  payment_Mailed Check       6951 non-null   int64  \n",
            " 15  internet_type_DSL          6951 non-null   int64  \n",
            " 16  internet_type_Fiber Optic  6951 non-null   int64  \n",
            " 17  internet_type_None         6951 non-null   int64  \n",
            " 18  offer_Offer A              6951 non-null   int64  \n",
            " 19  offer_Offer B              6951 non-null   int64  \n",
            " 20  offer_Offer C              6951 non-null   int64  \n",
            " 21  offer_Offer D              6951 non-null   int64  \n",
            " 22  offer_Offer E              6951 non-null   int64  \n",
            "dtypes: float64(5), int64(18)\n",
            "memory usage: 1.3 MB\n"
          ]
        }
      ]
    },
    {
      "cell_type": "code",
      "source": [
        "df['churn_value'].value_counts()"
      ],
      "metadata": {
        "colab": {
          "base_uri": "https://localhost:8080/"
        },
        "id": "GHwImqE2352D",
        "outputId": "1d607bf7-c4d4-4f07-be27-68d21d2358be"
      },
      "execution_count": 115,
      "outputs": [
        {
          "output_type": "execute_result",
          "data": {
            "text/plain": [
              "0    5084\n",
              "1    1867\n",
              "Name: churn_value, dtype: int64"
            ]
          },
          "metadata": {},
          "execution_count": 115
        }
      ]
    },
    {
      "cell_type": "code",
      "source": [
        "from sklearn.utils import resample\n",
        "df_majority=df[df['churn_value']==0]\n",
        "df_minority=df[df['churn_value']==1]\n",
        "df_new=resample(df_minority,replace=True,n_samples=5084,random_state=50)"
      ],
      "metadata": {
        "id": "alOYSYMc4AF1"
      },
      "execution_count": 116,
      "outputs": []
    },
    {
      "cell_type": "code",
      "source": [
        "df1=pd.concat([df_new,df_majority])"
      ],
      "metadata": {
        "id": "WhL50v6s4fZ-"
      },
      "execution_count": 117,
      "outputs": []
    },
    {
      "cell_type": "code",
      "source": [
        "df1['churn_value'].value_counts()"
      ],
      "metadata": {
        "colab": {
          "base_uri": "https://localhost:8080/"
        },
        "id": "t-WH4iFL4juL",
        "outputId": "2c964f81-81b0-4c88-ce7a-0a2887f74380"
      },
      "execution_count": 118,
      "outputs": [
        {
          "output_type": "execute_result",
          "data": {
            "text/plain": [
              "1    5084\n",
              "0    5084\n",
              "Name: churn_value, dtype: int64"
            ]
          },
          "metadata": {},
          "execution_count": 118
        }
      ]
    },
    {
      "cell_type": "code",
      "source": [
        "y=df1.loc[:,'churn_value'].values\n",
        "X=df1.drop(['churn_value'],axis=1).values"
      ],
      "metadata": {
        "id": "GF0GgzVj4n2_"
      },
      "execution_count": 119,
      "outputs": []
    },
    {
      "cell_type": "markdown",
      "source": [
        "splitting and training the data"
      ],
      "metadata": {
        "id": "5leJVc84QuAi"
      }
    },
    {
      "cell_type": "code",
      "source": [
        "from sklearn.model_selection import train_test_split\n",
        "from sklearn.ensemble import RandomForestClassifier\n",
        "from sklearn.ensemble import BaggingClassifier"
      ],
      "metadata": {
        "id": "JuNQ4IMeQ93n"
      },
      "execution_count": 120,
      "outputs": []
    },
    {
      "cell_type": "code",
      "source": [
        "X_train, X_test, y_train, y_test = train_test_split(X, y,test_size = 0.22, random_state = 20)"
      ],
      "metadata": {
        "id": "1O7E6JE7U2AK"
      },
      "execution_count": 129,
      "outputs": []
    },
    {
      "cell_type": "code",
      "source": [
        "model = RandomForestClassifier(n_estimators = 10, random_state = 0, criterion = 'gini')\n",
        "model.fit(X_train, y_train)\n",
        "y_pred = model.predict(X_test)"
      ],
      "metadata": {
        "id": "y3t3NCC9TZhn"
      },
      "execution_count": 130,
      "outputs": []
    },
    {
      "cell_type": "markdown",
      "source": [
        "Since the data is imbalanced, we can use f1 score as it combines precision and recall."
      ],
      "metadata": {
        "id": "K_FbPvEhYCee"
      }
    },
    {
      "cell_type": "code",
      "source": [
        "from sklearn.metrics import confusion_matrix\n",
        "from sklearn.metrics import f1_score\n",
        "from sklearn.metrics import classification_report,accuracy_score"
      ],
      "metadata": {
        "id": "fySDjw02XcZY"
      },
      "execution_count": 131,
      "outputs": []
    },
    {
      "cell_type": "code",
      "source": [
        "cm = confusion_matrix(y_test, y_pred)\n",
        "cm"
      ],
      "metadata": {
        "colab": {
          "base_uri": "https://localhost:8080/"
        },
        "id": "RpFyNssBXuja",
        "outputId": "1f55371d-f012-47a0-bafd-9e8b9ad2a6ff"
      },
      "execution_count": 132,
      "outputs": [
        {
          "output_type": "execute_result",
          "data": {
            "text/plain": [
              "array([[1084,   35],\n",
              "       [  25, 1093]])"
            ]
          },
          "metadata": {},
          "execution_count": 132
        }
      ]
    },
    {
      "cell_type": "code",
      "source": [
        "print(classification_report(y_test, y_pred))"
      ],
      "metadata": {
        "colab": {
          "base_uri": "https://localhost:8080/"
        },
        "id": "rvdWIDDKX_hj",
        "outputId": "a4695fc8-d2fa-46b3-8948-4ce4a1fa8a0e"
      },
      "execution_count": 133,
      "outputs": [
        {
          "output_type": "stream",
          "name": "stdout",
          "text": [
            "              precision    recall  f1-score   support\n",
            "\n",
            "           0       0.98      0.97      0.97      1119\n",
            "           1       0.97      0.98      0.97      1118\n",
            "\n",
            "    accuracy                           0.97      2237\n",
            "   macro avg       0.97      0.97      0.97      2237\n",
            "weighted avg       0.97      0.97      0.97      2237\n",
            "\n"
          ]
        }
      ]
    },
    {
      "cell_type": "code",
      "source": [
        "bg = BaggingClassifier(base_estimator = RandomForestClassifier(), random_state = 20)\n",
        "bg.fit(X_train, y_train)\n",
        "y_bg_pred = bg.predict(X_test)"
      ],
      "metadata": {
        "id": "cEHhcMkDaaPq"
      },
      "execution_count": 134,
      "outputs": []
    },
    {
      "cell_type": "code",
      "source": [
        "from sklearn import model_selection\n",
        "result = model_selection.cross_val_score(model, X, y)\n",
        "print(result.mean())"
      ],
      "metadata": {
        "colab": {
          "base_uri": "https://localhost:8080/"
        },
        "id": "AzF8D92LcAgx",
        "outputId": "b16b801e-c3e5-4a8c-af82-2df8f1ac9934"
      },
      "execution_count": 135,
      "outputs": [
        {
          "output_type": "stream",
          "name": "stdout",
          "text": [
            "0.9762982083720868\n"
          ]
        }
      ]
    },
    {
      "cell_type": "code",
      "source": [
        "y_pred_train = bg.predict(X_train)\n",
        "print(classification_report(y_train, y_pred_train))"
      ],
      "metadata": {
        "colab": {
          "base_uri": "https://localhost:8080/"
        },
        "id": "Ky9e9QIn1Ru2",
        "outputId": "dd2f0072-519a-481e-b4cc-a2d541eae6c1"
      },
      "execution_count": 136,
      "outputs": [
        {
          "output_type": "stream",
          "name": "stdout",
          "text": [
            "              precision    recall  f1-score   support\n",
            "\n",
            "           0       1.00      0.99      0.99      3965\n",
            "           1       0.99      1.00      0.99      3966\n",
            "\n",
            "    accuracy                           0.99      7931\n",
            "   macro avg       0.99      0.99      0.99      7931\n",
            "weighted avg       0.99      0.99      0.99      7931\n",
            "\n"
          ]
        }
      ]
    },
    {
      "cell_type": "markdown",
      "source": [
        "the model fits perfectly"
      ],
      "metadata": {
        "id": "Aw0W9SyW3eqe"
      }
    }
  ]
}