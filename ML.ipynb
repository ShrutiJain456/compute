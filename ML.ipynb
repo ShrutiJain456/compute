{
  "nbformat": 4,
  "nbformat_minor": 0,
  "metadata": {
    "colab": {
      "provenance": [],
      "authorship_tag": "ABX9TyOxtlGQFn0moIHRiIY7BCfd",
      "include_colab_link": true
    },
    "kernelspec": {
      "name": "python3",
      "display_name": "Python 3"
    },
    "language_info": {
      "name": "python"
    }
  },
  "cells": [
    {
      "cell_type": "markdown",
      "metadata": {
        "id": "view-in-github",
        "colab_type": "text"
      },
      "source": [
        "<a href=\"https://colab.research.google.com/github/ShrutiJain456/compute/blob/main/ML.ipynb\" target=\"_parent\"><img src=\"https://colab.research.google.com/assets/colab-badge.svg\" alt=\"Open In Colab\"/></a>"
      ]
    },
    {
      "cell_type": "code",
      "source": [
        "#q6\n",
        "l_1 = []\n",
        "l_2 = []\n",
        "n1 = int(input(\"Enter  number of elements in list 1: \"))\n",
        "n2 = int(input(\"Enter  number of elements in list 2: \"))\n",
        "for i in range(n1):\n",
        "    e1 = int(input(\"Enter the elements of list 1: \"))\n",
        "    l_1.append(e1)\n",
        "for j in range(n2):\n",
        "    e2 = int(input(\"Enter the elements of list 2: \"))\n",
        "    l_2.append(e2)\n",
        "print(l_1)\n",
        "print(l_2)\n",
        "\n",
        "if l_1[-1] == l_2[-1]:\n",
        "   print(\"last elements are same\")\n",
        "else:\n",
        "   print(\"last elements are not same\")"
      ],
      "metadata": {
        "colab": {
          "base_uri": "https://localhost:8080/"
        },
        "id": "cfnyc_t8DbGW",
        "outputId": "b52bb1b7-f1d2-4b8c-e102-69fd55495c01"
      },
      "execution_count": 7,
      "outputs": [
        {
          "output_type": "stream",
          "name": "stdout",
          "text": [
            "Enter  number of elements in list 1: 3\n",
            "Enter  number of elements in list 2: 4\n",
            "Enter the elements of list 1: 30\n",
            "Enter the elements of list 1: 20\n",
            "Enter the elements of list 1: 39\n",
            "Enter the elements of list 2: 29\n",
            "Enter the elements of list 2: 47\n",
            "Enter the elements of list 2: 38\n",
            "Enter the elements of list 2: 39\n",
            "[30, 20, 39]\n",
            "[29, 47, 38, 39]\n",
            "last elements are same\n"
          ]
        }
      ]
    },
    {
      "cell_type": "code",
      "source": [
        "#q7\n",
        "row = int(input(\"enter no. of rows: \"))\n",
        "for i in range(row +1) :\n",
        "  for j in range(i):\n",
        "    print(i, end = '')\n",
        "  print('')\n"
      ],
      "metadata": {
        "id": "hck9h2wLDlG0",
        "colab": {
          "base_uri": "https://localhost:8080/"
        },
        "outputId": "f730b238-32f5-4c14-cc90-ab9a1d7529ab"
      },
      "execution_count": 2,
      "outputs": [
        {
          "output_type": "stream",
          "name": "stdout",
          "text": [
            "enter no. of rows: 4\n",
            "\n",
            "1\n",
            "22\n",
            "333\n",
            "4444\n"
          ]
        }
      ]
    },
    {
      "cell_type": "code",
      "source": [
        "#q1\n",
        "N = 5\n",
        "X = 3\n",
        "s1 = [89, 90, 78, 93, 80]\n",
        "s2 = [90, 91, 85, 88, 86]\n",
        "s3 = [91, 92, 83, 89, 90.5]\n",
        "z1 = zip(s1, s2, s3)\n",
        "for (x) in z1:\n",
        "  avg = sum(x)/len(x)\n",
        "  print(avg)"
      ],
      "metadata": {
        "id": "V3xWWRyGUvGf",
        "colab": {
          "base_uri": "https://localhost:8080/"
        },
        "outputId": "0f20c55b-d4c4-416c-f7cc-140fb188c5c9"
      },
      "execution_count": 3,
      "outputs": [
        {
          "output_type": "stream",
          "name": "stdout",
          "text": [
            "90.0\n",
            "91.0\n",
            "82.0\n",
            "90.0\n",
            "85.5\n"
          ]
        }
      ]
    },
    {
      "cell_type": "code",
      "source": [
        "#q5\n",
        "def mutate_string(string, position, character):\n",
        "    # Mutations in Python - HackerRank Solution START\n",
        "    l = list(string)\n",
        "    l[position] = character;\n",
        "    string = ''.join(l)\n",
        "    return string\n",
        "if __name__ == '__main__':\n",
        "    s = input()\n",
        "    i, c = input().split()\n",
        "    s_new = mutate_string(s, int(i), c)\n",
        "    print(s_new)"
      ],
      "metadata": {
        "colab": {
          "base_uri": "https://localhost:8080/"
        },
        "id": "txZ6t9ql6Kn5",
        "outputId": "a069ccb2-5762-41a0-b580-28e2b96443c1"
      },
      "execution_count": 5,
      "outputs": [
        {
          "output_type": "stream",
          "name": "stdout",
          "text": [
            "sprite\n",
            "4 z\n",
            "sprize\n"
          ]
        }
      ]
    },
    {
      "cell_type": "code",
      "source": [
        "#4\n",
        "import re\n",
        "def fun(s):\n",
        "  pattern  = \"^[a-zA-Z0-9-_]+@[a-zA-Z0-9]+\\.[a-zA-Z]{1,3}$\"\n",
        "  result = re.match(pattern, s)\n",
        "  return result\n",
        "\n",
        "def filter_mail(emails):\n",
        "    return list(filter(fun, emails))\n",
        "\n",
        "if __name__ == '__main__':\n",
        "    n = int(input())\n",
        "    emails = []\n",
        "    for _ in range(n):\n",
        "        emails.append(input())\n",
        "filtered_emails = filter_mail(emails)\n",
        "filtered_emails.sort()\n",
        "print(filtered_emails)"
      ],
      "metadata": {
        "colab": {
          "base_uri": "https://localhost:8080/"
        },
        "id": "oBz7kLh1_9qb",
        "outputId": "f706f5a6-177e-453b-ca21-855736c1ad71"
      },
      "execution_count": null,
      "outputs": [
        {
          "output_type": "stream",
          "name": "stdout",
          "text": [
            "2\n",
            "shruti34@gmail.per\n",
            "$#ruti@yahoo.com\n",
            "['shruti34@gmail.per']\n"
          ]
        }
      ]
    },
    {
      "cell_type": "code",
      "source": [
        "#2 #doubt\n",
        "if __name__ == '__main__':\n",
        "    N = int(input())\n",
        "    alist=[];\n",
        "for i in range(0,N):\n",
        "    aliste=input().split();\n",
        "    if aliste[0] == \"insert\":   \n",
        "        alist.insert(int(aliste[1]),int(aliste[2]))\n",
        "    elif aliste[0] == \"append\":\n",
        "        alist.append(int(aliste[1]))\n",
        "    elif aliste[0] == \"pop\":\n",
        "        alist.pop();\n",
        "    elif aliste[0] == \"print\":\n",
        "        print(alist)\n",
        "    elif aliste[0] == \"remove\":\n",
        "        alist.remove(int(aliste[1]))\n",
        "    elif aliste[0] == \"sort\":\n",
        "        alist.sort();\n",
        "    else:\n",
        "        alist.reverse();"
      ],
      "metadata": {
        "id": "5RE2rwAoE_zO"
      },
      "execution_count": null,
      "outputs": []
    },
    {
      "cell_type": "code",
      "source": [
        "#q3\n",
        "if __name__ == '__main__':\n",
        "    n = int(input(\"No. of students: \"))\n",
        "    student_mrks = {}\n",
        "    for _ in range(n):\n",
        "        line = input(\"Student name and marks scored: \").split()\n",
        "        name, scores = line[0], line[1:]\n",
        "        scores = map(float, scores)\n",
        "        student_mrks[name] = scores\n",
        "    query_name = input(\"Student's name for avg marks calculation: \")\n",
        "    mrks=0\n",
        "for i in student_mrks[query_name]:\n",
        "    mrks=mrks+i\n",
        "avg=mrks/3\n",
        "print(\"Avg marks %.2f\"%avg)"
      ],
      "metadata": {
        "colab": {
          "base_uri": "https://localhost:8080/"
        },
        "id": "Tgt2weUFIgSP",
        "outputId": "bc11622a-8ee2-418a-cb5e-3c2d5359b206"
      },
      "execution_count": 1,
      "outputs": [
        {
          "output_type": "stream",
          "name": "stdout",
          "text": [
            "No. of students: 3\n",
            "Student name and marks scored: tisha 30 30 30\n",
            "Student name and marks scored: aakshi 20 30 49\n",
            "Student name and marks scored: dhruvv 20 39 48\n",
            "Student's name for avg marks calculation: dhruvv\n",
            "Avg marks 35.67\n"
          ]
        }
      ]
    }
  ]
}