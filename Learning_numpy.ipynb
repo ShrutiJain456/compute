{
  "cells": [
    {
      "cell_type": "markdown",
      "metadata": {
        "id": "view-in-github",
        "colab_type": "text"
      },
      "source": [
        "<a href=\"https://colab.research.google.com/github/ShrutiJain456/compute/blob/main/Copy_of_Compute_Task_2_Numpy.ipynb\" target=\"_parent\"><img src=\"https://colab.research.google.com/assets/colab-badge.svg\" alt=\"Open In Colab\"/></a>"
      ]
    },
    {
      "cell_type": "markdown",
      "metadata": {
        "id": "X7z3U2pxCAvN"
      },
      "source": [
        "#### Import NumPy "
      ]
    },
    {
      "cell_type": "code",
      "execution_count": null,
      "metadata": {
        "collapsed": true,
        "id": "jusgfjcDCAvN"
      },
      "outputs": [],
      "source": [
        "import numpy as np"
      ]
    },
    {
      "cell_type": "markdown",
      "metadata": {
        "id": "5qcAR8--CAvN"
      },
      "source": [
        "#### Create an array of 10 zeros "
      ]
    },
    {
      "cell_type": "code",
      "execution_count": null,
      "metadata": {
        "id": "xmEjfwcGCAvO",
        "outputId": "2a5afe26-4f03-4884-bdbe-729a973691b7",
        "colab": {
          "base_uri": "https://localhost:8080/"
        }
      },
      "outputs": [
        {
          "output_type": "stream",
          "name": "stdout",
          "text": [
            "[0. 0. 0. 0. 0. 0. 0. 0. 0. 0.]\n"
          ]
        }
      ],
      "source": [
        "array = np.zeros(10)\n",
        "print(array)"
      ]
    },
    {
      "cell_type": "markdown",
      "metadata": {
        "id": "-sJqSut2CAvO"
      },
      "source": [
        "#### Create an array of 10 ones"
      ]
    },
    {
      "cell_type": "code",
      "execution_count": null,
      "metadata": {
        "id": "hecGx7cECAvO",
        "outputId": "c09b7a6a-f877-48e5-da43-1cdbd825f60d",
        "colab": {
          "base_uri": "https://localhost:8080/"
        }
      },
      "outputs": [
        {
          "output_type": "stream",
          "name": "stdout",
          "text": [
            "[1. 1. 1. 1. 1. 1. 1. 1. 1. 1.]\n"
          ]
        }
      ],
      "source": [
        "array = np.ones(10)\n",
        "print(array)"
      ]
    },
    {
      "cell_type": "markdown",
      "metadata": {
        "id": "ARYEHlU5CAvO"
      },
      "source": [
        "#### Create an array of 10 fives"
      ]
    },
    {
      "cell_type": "code",
      "execution_count": null,
      "metadata": {
        "id": "y-1rWnr7CAvP",
        "outputId": "e178f693-d427-49fe-a9ff-e01adad21948",
        "colab": {
          "base_uri": "https://localhost:8080/"
        }
      },
      "outputs": [
        {
          "output_type": "stream",
          "name": "stdout",
          "text": [
            "[5. 5. 5. 5. 5. 5. 5. 5. 5. 5.]\n"
          ]
        }
      ],
      "source": [
        "array = np.ones(10)*5\n",
        "print(array)"
      ]
    },
    {
      "cell_type": "markdown",
      "metadata": {
        "id": "7IROlwxJCAvP"
      },
      "source": [
        "#### Create an array of the integers from 10 to 50 -!del!-"
      ]
    },
    {
      "cell_type": "code",
      "execution_count": null,
      "metadata": {
        "id": "UFwQhJT8CAvP",
        "outputId": "fd0d7bb2-fe94-4cc2-8680-6d6fe72d5e9a",
        "colab": {
          "base_uri": "https://localhost:8080/"
        }
      },
      "outputs": [
        {
          "output_type": "stream",
          "name": "stdout",
          "text": [
            "[10 11 12 13 14 15 16 17 18 19 20 21 22 23 24 25 26 27 28 29 30 31 32 33\n",
            " 34 35 36 37 38 39 40 41 42 43 44 45 46 47 48 49 50]\n"
          ]
        }
      ],
      "source": [
        "array = np.arange(10,51)\n",
        "print(array)\n",
        "  "
      ]
    },
    {
      "cell_type": "markdown",
      "metadata": {
        "id": "wxoKdt6aCAvP"
      },
      "source": [
        "#### Create an array of all the even integers from 10 to 50  -!del!-"
      ]
    },
    {
      "cell_type": "code",
      "execution_count": null,
      "metadata": {
        "id": "7Ix-9XyZCAvP",
        "outputId": "ab51210a-5e5c-415c-928b-5ed4c5e7b70e",
        "colab": {
          "base_uri": "https://localhost:8080/"
        }
      },
      "outputs": [
        {
          "output_type": "execute_result",
          "data": {
            "text/plain": [
              "array([10, 12, 14, 16, 18, 20, 22, 24, 26, 28, 30, 32, 34, 36, 38, 40, 42,\n",
              "       44, 46, 48, 50])"
            ]
          },
          "metadata": {},
          "execution_count": 14
        }
      ],
      "source": [
        "array = np.arange(10,51,2)\n",
        "array"
      ]
    },
    {
      "cell_type": "markdown",
      "metadata": {
        "id": "0jPx7PpWCAvP"
      },
      "source": [
        "#### Create a 3x3 matrix with values ranging from 0 to 8"
      ]
    },
    {
      "cell_type": "code",
      "execution_count": null,
      "metadata": {
        "id": "vLtfhOdwCAvP",
        "outputId": "f160962c-5de6-4982-ee78-1b86c2c00bec",
        "colab": {
          "base_uri": "https://localhost:8080/"
        }
      },
      "outputs": [
        {
          "output_type": "execute_result",
          "data": {
            "text/plain": [
              "array([[6, 3, 1],\n",
              "       [4, 6, 2],\n",
              "       [8, 8, 2]])"
            ]
          },
          "metadata": {},
          "execution_count": 13
        }
      ],
      "source": [
        "array = np.random.randint((9), size =(3,3))\n",
        "array"
      ]
    },
    {
      "cell_type": "markdown",
      "metadata": {
        "id": "JcO95k-XCAvQ"
      },
      "source": [
        "#### Create a 3x3 identity matrix"
      ]
    },
    {
      "cell_type": "code",
      "execution_count": null,
      "metadata": {
        "id": "JPVEIdl3CAvQ",
        "outputId": "0e9f8adf-46b3-40c0-e1ae-3378e48e0770",
        "colab": {
          "base_uri": "https://localhost:8080/"
        }
      },
      "outputs": [
        {
          "output_type": "execute_result",
          "data": {
            "text/plain": [
              "array([[1., 0., 0.],\n",
              "       [0., 1., 0.],\n",
              "       [0., 0., 1.]])"
            ]
          },
          "metadata": {},
          "execution_count": 19
        }
      ],
      "source": [
        "array = np.identity(3)\n",
        "array"
      ]
    },
    {
      "cell_type": "markdown",
      "metadata": {
        "id": "Sn7Hj9KyCAvQ"
      },
      "source": [
        "#### Use NumPy to generate a random number between 0 and 1  -!del!-"
      ]
    },
    {
      "cell_type": "code",
      "execution_count": null,
      "metadata": {
        "id": "jjB53PpTCAvQ",
        "outputId": "11e82481-f891-487b-85e0-36abd454c763",
        "colab": {
          "base_uri": "https://localhost:8080/"
        }
      },
      "outputs": [
        {
          "output_type": "execute_result",
          "data": {
            "text/plain": [
              "0.38712312305711616"
            ]
          },
          "metadata": {},
          "execution_count": 20
        }
      ],
      "source": [
        "from numpy import random\n",
        "array = np.random.rand()\n",
        "array"
      ]
    },
    {
      "cell_type": "markdown",
      "metadata": {
        "id": "xAn14oziCAvQ"
      },
      "source": [
        "#### Use NumPy to generate an array of 25 random numbers sampled from a standard normal distribution"
      ]
    },
    {
      "cell_type": "code",
      "source": [
        "#in the code below, 0 denotes loc which is mean of the distribution and 1 denotes the standard deviation or scale and 25 is the no. of elements required by the user\n",
        "array = np.random.normal(0,1,25)\n",
        "array"
      ],
      "metadata": {
        "id": "_nht538XaCk2",
        "colab": {
          "base_uri": "https://localhost:8080/"
        },
        "outputId": "8a6cb6ae-e6eb-479f-f7fa-cb364a11f9fa"
      },
      "execution_count": null,
      "outputs": [
        {
          "output_type": "execute_result",
          "data": {
            "text/plain": [
              "array([ 0.01483022, -1.50739284, -1.73332657,  0.04969254, -1.32363305,\n",
              "        0.59413226, -0.74112765,  0.79901413, -0.21519925,  2.66845674,\n",
              "        0.31337506,  2.17587785, -0.05234174,  0.66978759,  0.74351154,\n",
              "        0.95077331, -0.70644912,  0.53488072,  0.34997502,  0.61706907,\n",
              "       -0.21882566, -0.06173044, -2.3070523 , -2.56659483, -1.08714102])"
            ]
          },
          "metadata": {},
          "execution_count": 3
        }
      ]
    },
    {
      "cell_type": "code",
      "execution_count": null,
      "metadata": {
        "id": "MIeS99CiCAvQ",
        "outputId": "7cb243e8-f52b-44eb-d814-a4643519110a"
      },
      "outputs": [
        {
          "data": {
            "text/plain": [
              "array([ 1.32031013,  1.6798602 , -0.42985892, -1.53116655,  0.85753232,\n",
              "        0.87339938,  0.35668636, -1.47491157,  0.15349697,  0.99530727,\n",
              "       -0.94865451, -1.69174783,  1.57525349, -0.70615234,  0.10991879,\n",
              "       -0.49478947,  1.08279872,  0.76488333, -2.3039931 ,  0.35401124,\n",
              "       -0.45454399, -0.64754649, -0.29391671,  0.02339861,  0.38272124])"
            ]
          },
          "execution_count": 33,
          "metadata": {},
          "output_type": "execute_result"
        }
      ],
      "source": []
    },
    {
      "cell_type": "markdown",
      "metadata": {
        "id": "LbRgd6OyCAvQ"
      },
      "source": [
        "#### Create the following matrix: -!del!-"
      ]
    },
    {
      "cell_type": "code",
      "source": [
        "array = np.arange(0.01,1.01,0.01)\n",
        "array"
      ],
      "metadata": {
        "colab": {
          "base_uri": "https://localhost:8080/"
        },
        "id": "ODOomkg1ic_w",
        "outputId": "bee8dc84-bcbb-4eed-8f9f-7411409e255b"
      },
      "execution_count": null,
      "outputs": [
        {
          "output_type": "execute_result",
          "data": {
            "text/plain": [
              "array([0.01, 0.02, 0.03, 0.04, 0.05, 0.06, 0.07, 0.08, 0.09, 0.1 , 0.11,\n",
              "       0.12, 0.13, 0.14, 0.15, 0.16, 0.17, 0.18, 0.19, 0.2 , 0.21, 0.22,\n",
              "       0.23, 0.24, 0.25, 0.26, 0.27, 0.28, 0.29, 0.3 , 0.31, 0.32, 0.33,\n",
              "       0.34, 0.35, 0.36, 0.37, 0.38, 0.39, 0.4 , 0.41, 0.42, 0.43, 0.44,\n",
              "       0.45, 0.46, 0.47, 0.48, 0.49, 0.5 , 0.51, 0.52, 0.53, 0.54, 0.55,\n",
              "       0.56, 0.57, 0.58, 0.59, 0.6 , 0.61, 0.62, 0.63, 0.64, 0.65, 0.66,\n",
              "       0.67, 0.68, 0.69, 0.7 , 0.71, 0.72, 0.73, 0.74, 0.75, 0.76, 0.77,\n",
              "       0.78, 0.79, 0.8 , 0.81, 0.82, 0.83, 0.84, 0.85, 0.86, 0.87, 0.88,\n",
              "       0.89, 0.9 , 0.91, 0.92, 0.93, 0.94, 0.95, 0.96, 0.97, 0.98, 0.99,\n",
              "       1.  ])"
            ]
          },
          "metadata": {},
          "execution_count": 7
        }
      ]
    },
    {
      "cell_type": "code",
      "execution_count": null,
      "metadata": {
        "id": "AENeDra9CAvR",
        "outputId": "066545fe-41f7-4aa9-9d74-94c3717730bb"
      },
      "outputs": [
        {
          "data": {
            "text/plain": [
              "array([[ 0.01,  0.02,  0.03,  0.04,  0.05,  0.06,  0.07,  0.08,  0.09,  0.1 ],\n",
              "       [ 0.11,  0.12,  0.13,  0.14,  0.15,  0.16,  0.17,  0.18,  0.19,  0.2 ],\n",
              "       [ 0.21,  0.22,  0.23,  0.24,  0.25,  0.26,  0.27,  0.28,  0.29,  0.3 ],\n",
              "       [ 0.31,  0.32,  0.33,  0.34,  0.35,  0.36,  0.37,  0.38,  0.39,  0.4 ],\n",
              "       [ 0.41,  0.42,  0.43,  0.44,  0.45,  0.46,  0.47,  0.48,  0.49,  0.5 ],\n",
              "       [ 0.51,  0.52,  0.53,  0.54,  0.55,  0.56,  0.57,  0.58,  0.59,  0.6 ],\n",
              "       [ 0.61,  0.62,  0.63,  0.64,  0.65,  0.66,  0.67,  0.68,  0.69,  0.7 ],\n",
              "       [ 0.71,  0.72,  0.73,  0.74,  0.75,  0.76,  0.77,  0.78,  0.79,  0.8 ],\n",
              "       [ 0.81,  0.82,  0.83,  0.84,  0.85,  0.86,  0.87,  0.88,  0.89,  0.9 ],\n",
              "       [ 0.91,  0.92,  0.93,  0.94,  0.95,  0.96,  0.97,  0.98,  0.99,  1.  ]])"
            ]
          },
          "execution_count": 35,
          "metadata": {},
          "output_type": "execute_result"
        }
      ],
      "source": []
    },
    {
      "cell_type": "markdown",
      "metadata": {
        "id": "QBZWHYOFCAvR"
      },
      "source": [
        "#### Create an array of 20 linearly spaced points between 0 and 1: "
      ]
    },
    {
      "cell_type": "code",
      "source": [
        "array = np.linspace(0,1,20)\n",
        "array"
      ],
      "metadata": {
        "colab": {
          "base_uri": "https://localhost:8080/"
        },
        "id": "7BE9I_GDjZJc",
        "outputId": "d518221d-c8bd-4fb9-ce0e-13472ac81260"
      },
      "execution_count": null,
      "outputs": [
        {
          "output_type": "execute_result",
          "data": {
            "text/plain": [
              "array([0.        , 0.05263158, 0.10526316, 0.15789474, 0.21052632,\n",
              "       0.26315789, 0.31578947, 0.36842105, 0.42105263, 0.47368421,\n",
              "       0.52631579, 0.57894737, 0.63157895, 0.68421053, 0.73684211,\n",
              "       0.78947368, 0.84210526, 0.89473684, 0.94736842, 1.        ])"
            ]
          },
          "metadata": {},
          "execution_count": 8
        }
      ]
    },
    {
      "cell_type": "code",
      "execution_count": null,
      "metadata": {
        "id": "3ra8KFjgCAvR",
        "outputId": "e62f01e4-878d-4211-c13d-1238c7f9d9f3"
      },
      "outputs": [
        {
          "data": {
            "text/plain": [
              "array([ 0.        ,  0.05263158,  0.10526316,  0.15789474,  0.21052632,\n",
              "        0.26315789,  0.31578947,  0.36842105,  0.42105263,  0.47368421,\n",
              "        0.52631579,  0.57894737,  0.63157895,  0.68421053,  0.73684211,\n",
              "        0.78947368,  0.84210526,  0.89473684,  0.94736842,  1.        ])"
            ]
          },
          "execution_count": 36,
          "metadata": {},
          "output_type": "execute_result"
        }
      ],
      "source": []
    },
    {
      "cell_type": "markdown",
      "metadata": {
        "id": "WDFRH7mRCAvR"
      },
      "source": [
        "## Numpy Indexing and Selection\n",
        "\n",
        "Now you will be given a few matrices, and be asked to replicate the resulting matrix outputs:"
      ]
    },
    {
      "cell_type": "code",
      "execution_count": null,
      "metadata": {
        "id": "B_2McpqmCAvR",
        "outputId": "b29a8ff7-d759-4cac-ef3b-9a1d75aa5a1d",
        "colab": {
          "base_uri": "https://localhost:8080/"
        }
      },
      "outputs": [
        {
          "output_type": "execute_result",
          "data": {
            "text/plain": [
              "array([[ 1,  2,  3,  4,  5],\n",
              "       [ 6,  7,  8,  9, 10],\n",
              "       [11, 12, 13, 14, 15],\n",
              "       [16, 17, 18, 19, 20],\n",
              "       [21, 22, 23, 24, 25]])"
            ]
          },
          "metadata": {},
          "execution_count": 4
        }
      ],
      "source": [
        "mat = np.arange(1,26).reshape(5,5)\n",
        "mat"
      ]
    },
    {
      "cell_type": "code",
      "execution_count": null,
      "metadata": {
        "collapsed": true,
        "id": "oxyloFWDCAvR",
        "colab": {
          "base_uri": "https://localhost:8080/"
        },
        "outputId": "b5b7cd35-de0a-4f60-aa8a-e7a6d53ba9aa"
      },
      "outputs": [
        {
          "output_type": "execute_result",
          "data": {
            "text/plain": [
              "array([[12, 13, 14, 15],\n",
              "       [17, 18, 19, 20],\n",
              "       [22, 23, 24, 25]])"
            ]
          },
          "metadata": {},
          "execution_count": 2
        }
      ],
      "source": [
        "# WRITE CODE HERE THAT REPRODUCES THE OUTPUT OF THE CELL BELOW\n",
        "arr = np.arange(12,26)\n",
        "arr = np.delete(arr, [4,9]).reshape(3,4)\n",
        "arr\n",
        "# BE CAREFUL NOT TO RUN THE CELL BELOW, OTHERWISE YOU WON'T\n",
        "# BE ABLE TO SEE THE OUTPUT ANY MORE"
      ]
    },
    {
      "cell_type": "code",
      "execution_count": null,
      "metadata": {
        "id": "V_GnVZsBCAvR",
        "outputId": "e3e74409-39eb-4d6e-d72a-b5c8bea004e4"
      },
      "outputs": [
        {
          "data": {
            "text/plain": [
              "array([[12, 13, 14, 15],\n",
              "       [17, 18, 19, 20],\n",
              "       [22, 23, 24, 25]])"
            ]
          },
          "execution_count": 40,
          "metadata": {},
          "output_type": "execute_result"
        }
      ],
      "source": []
    },
    {
      "cell_type": "code",
      "execution_count": null,
      "metadata": {
        "id": "OE0SKA7bCAvS",
        "colab": {
          "base_uri": "https://localhost:8080/"
        },
        "outputId": "0fe65f7c-d28b-411e-bbf1-29fbb427a8c8"
      },
      "outputs": [
        {
          "output_type": "execute_result",
          "data": {
            "text/plain": [
              "20"
            ]
          },
          "metadata": {},
          "execution_count": 28
        }
      ],
      "source": [
        "# WRITE CODE HERE THAT REPRODUCES THE OUTPUT OF THE CELL BELOW\n",
        "array = 20\n",
        "array\n",
        "# BE CAREFUL NOT TO RUN THE CELL BELOW, OTHERWISE YOU WON'T\n",
        "# BE ABLE TO SEE THE OUTPUT ANY MORE"
      ]
    },
    {
      "cell_type": "code",
      "execution_count": null,
      "metadata": {
        "id": "M9CB9jd2CAvS",
        "outputId": "6cc5b128-1eed-47c7-a1f7-d494208e3920"
      },
      "outputs": [
        {
          "data": {
            "text/plain": [
              "20"
            ]
          },
          "execution_count": 41,
          "metadata": {},
          "output_type": "execute_result"
        }
      ],
      "source": []
    },
    {
      "cell_type": "code",
      "execution_count": null,
      "metadata": {
        "collapsed": true,
        "id": "5qPTLISjCAvS",
        "colab": {
          "base_uri": "https://localhost:8080/"
        },
        "outputId": "3f61d732-3cc3-464c-fc95-baabe8fa0cd7"
      },
      "outputs": [
        {
          "output_type": "execute_result",
          "data": {
            "text/plain": [
              "array([[ 2],\n",
              "       [ 7],\n",
              "       [12]])"
            ]
          },
          "metadata": {},
          "execution_count": 26
        }
      ],
      "source": [
        "# WRITE CODE HERE THAT REPRODUCES THE OUTPUT OF THE CELL BELOW\n",
        "array = np.arange(2,13,5).reshape(3,1)   #here \n",
        "array\n",
        "# BE CAREFUL NOT TO RUN THE CELL BELOW, OTHERWISE YOU WON'T\n",
        "# BE ABLE TO SEE THE OUTPUT ANY MORE"
      ]
    },
    {
      "cell_type": "code",
      "execution_count": null,
      "metadata": {
        "id": "6wT06ZgHCAvS",
        "outputId": "4dcc638f-7f92-4c4b-880a-bd30fede9150"
      },
      "outputs": [
        {
          "data": {
            "text/plain": [
              "array([[ 2],\n",
              "       [ 7],\n",
              "       [12]])"
            ]
          },
          "execution_count": 42,
          "metadata": {},
          "output_type": "execute_result"
        }
      ],
      "source": []
    },
    {
      "cell_type": "code",
      "execution_count": null,
      "metadata": {
        "id": "rQr3hBL6CAvS",
        "colab": {
          "base_uri": "https://localhost:8080/"
        },
        "outputId": "fd3ccda1-67f5-47be-f3fd-d44e1aaadcf7"
      },
      "outputs": [
        {
          "output_type": "execute_result",
          "data": {
            "text/plain": [
              "array([21, 22, 23, 24, 25])"
            ]
          },
          "metadata": {},
          "execution_count": 29
        }
      ],
      "source": [
        "# WRITE CODE HERE THAT REPRODUCES THE OUTPUT OF THE CELL BELOW\n",
        "array = np.arange(21,26)\n",
        "array\n",
        "# BE CAREFUL NOT TO RUN THE CELL BELOW, OTHERWISE YOU WON'T\n",
        "# BE ABLE TO SEE THE OUTPUT ANY MORE"
      ]
    },
    {
      "cell_type": "code",
      "execution_count": null,
      "metadata": {
        "id": "C1VdxOrTCAvS",
        "outputId": "2356b88f-4fa9-467a-b53e-8b8c2670d5ce"
      },
      "outputs": [
        {
          "data": {
            "text/plain": [
              "array([21, 22, 23, 24, 25])"
            ]
          },
          "execution_count": 46,
          "metadata": {},
          "output_type": "execute_result"
        }
      ],
      "source": []
    },
    {
      "cell_type": "code",
      "execution_count": null,
      "metadata": {
        "id": "ZRQgDH79CAvS",
        "colab": {
          "base_uri": "https://localhost:8080/"
        },
        "outputId": "03be4292-f50e-4b9e-9390-7b5d3b788a8d"
      },
      "outputs": [
        {
          "output_type": "execute_result",
          "data": {
            "text/plain": [
              "array([[16, 17, 18, 19, 20],\n",
              "       [21, 22, 23, 24, 25]])"
            ]
          },
          "metadata": {},
          "execution_count": 31
        }
      ],
      "source": [
        "# WRITE CODE HERE THAT REPRODUCES THE OUTPUT OF THE CELL BELOW\n",
        "array = np.arange(16,26).reshape(2,5)\n",
        "array\n",
        "# BE CAREFUL NOT TO RUN THE CELL BELOW, OTHERWISE YOU WON'T\n",
        "# BE ABLE TO SEE THE OUTPUT ANY MORE"
      ]
    },
    {
      "cell_type": "code",
      "execution_count": null,
      "metadata": {
        "id": "0fhU2bu7CAvT",
        "outputId": "39880f20-33a0-4557-fdb7-1973171c10e9"
      },
      "outputs": [
        {
          "data": {
            "text/plain": [
              "array([[16, 17, 18, 19, 20],\n",
              "       [21, 22, 23, 24, 25]])"
            ]
          },
          "execution_count": 49,
          "metadata": {},
          "output_type": "execute_result"
        }
      ],
      "source": []
    },
    {
      "cell_type": "markdown",
      "metadata": {
        "id": "Ih6-cRw_CAvT"
      },
      "source": [
        "### Now do the following"
      ]
    },
    {
      "cell_type": "markdown",
      "metadata": {
        "id": "Mi-WfNJOCAvT"
      },
      "source": [
        "#### Get the sum of all the values in mat"
      ]
    },
    {
      "cell_type": "code",
      "execution_count": null,
      "metadata": {
        "id": "T6SjcnWPCAvT",
        "outputId": "d0cf9f4f-3280-4893-eaad-ad29844858ee",
        "colab": {
          "base_uri": "https://localhost:8080/"
        }
      },
      "outputs": [
        {
          "output_type": "execute_result",
          "data": {
            "text/plain": [
              "325"
            ]
          },
          "metadata": {},
          "execution_count": 5
        }
      ],
      "source": [
        "sum = np.sum(mat)\n",
        "sum"
      ]
    },
    {
      "cell_type": "markdown",
      "metadata": {
        "id": "PwZD2RewCAvT"
      },
      "source": [
        "#### Get the standard deviation of the values in mat"
      ]
    },
    {
      "cell_type": "code",
      "execution_count": null,
      "metadata": {
        "id": "MxnOj36BCAvT",
        "outputId": "45d5977b-4da9-462a-81f5-7bb2d2cda88b",
        "colab": {
          "base_uri": "https://localhost:8080/"
        }
      },
      "outputs": [
        {
          "output_type": "execute_result",
          "data": {
            "text/plain": [
              "7.211102550927978"
            ]
          },
          "metadata": {},
          "execution_count": 6
        }
      ],
      "source": [
        "st_dev = np.std(mat)\n",
        "st_dev"
      ]
    },
    {
      "cell_type": "markdown",
      "metadata": {
        "id": "zO38BgXWCAvU"
      },
      "source": [
        "#### Get the sum of all the columns in mat"
      ]
    },
    {
      "cell_type": "code",
      "execution_count": null,
      "metadata": {
        "id": "BBJ0PLt5CAvU",
        "outputId": "0d345628-d086-4c43-b37b-21a8b8088678",
        "colab": {
          "base_uri": "https://localhost:8080/"
        }
      },
      "outputs": [
        {
          "output_type": "execute_result",
          "data": {
            "text/plain": [
              "array([55, 60, 65, 70, 75])"
            ]
          },
          "metadata": {},
          "execution_count": 10
        }
      ],
      "source": [
        "std_col = np.sum(mat, axis = 0)     #here axis = 0 specifies column\n",
        "std_col"
      ]
    },
    {
      "cell_type": "markdown",
      "source": [
        "#### Multiply two matrices using NumPy.\n",
        "\n",
        "A = [[1, 2], [2, 3]]\n",
        "\n",
        "B = [[4, 5], [6, 7]]\n",
        "\n",
        "So, A.B = [[1*4 + 2*6, 2*4 + 3*6], [1*5 + 2*7, 2*5 + 3*7]\n",
        "\n",
        "The computed answer will be: [[16, 26], [19, 31]]\n"
      ],
      "metadata": {
        "id": "AmoYw9QoljOW"
      }
    },
    {
      "cell_type": "code",
      "source": [
        "A = np.array([[1,2], [2,3]]) #doubt\n",
        "B = np.array([[4,5], [6,7]])\n",
        "C = np.dot(A,B)\n",
        "C"
      ],
      "metadata": {
        "id": "TlwnfZgYlzsQ",
        "colab": {
          "base_uri": "https://localhost:8080/"
        },
        "outputId": "ea7dfdc5-b413-475b-84b6-70ebdd566104"
      },
      "execution_count": null,
      "outputs": [
        {
          "output_type": "execute_result",
          "data": {
            "text/plain": [
              "array([[16, 19],\n",
              "       [26, 31]])"
            ]
          },
          "metadata": {},
          "execution_count": 14
        }
      ]
    },
    {
      "cell_type": "markdown",
      "source": [
        "####Replace NaN values with average of that column\n",
        "\n",
        "Initial array :  \n",
        "\n",
        "[[ 1.3  2.5  3.6  nan]\n",
        " [ 2.6  3.3  nan  5.5]\n",
        " [ 2.1  3.2  5.4  6.5]]\n"
      ],
      "metadata": {
        "id": "0bNmuR33mE10"
      }
    },
    {
      "cell_type": "code",
      "source": [
        "array = np.array([[1.3, 2.5, 3.6, np.nan], [2.6, 3.3, np.nan, 5.5], [2.1, 3.2, 5.4, 6.5]])\n",
        "array[np.isnan(array)] = np.nanmean(array)\n",
        "array"
      ],
      "metadata": {
        "id": "2lXzmm6EmRwN",
        "colab": {
          "base_uri": "https://localhost:8080/"
        },
        "outputId": "0da7cc6f-a461-4169-ada4-7bfcee177d43"
      },
      "execution_count": null,
      "outputs": [
        {
          "output_type": "execute_result",
          "data": {
            "text/plain": [
              "array([[1.3, 2.5, 3.6, 3.6],\n",
              "       [2.6, 3.3, 3.6, 5.5],\n",
              "       [2.1, 3.2, 5.4, 6.5]])"
            ]
          },
          "metadata": {},
          "execution_count": 21
        }
      ]
    },
    {
      "cell_type": "markdown",
      "metadata": {
        "collapsed": true,
        "id": "GiRsFFT_CAvU"
      },
      "source": [
        "# You're done!"
      ]
    }
  ],
  "metadata": {
    "kernelspec": {
      "display_name": "Python 3",
      "language": "python",
      "name": "python3"
    },
    "language_info": {
      "codemirror_mode": {
        "name": "ipython",
        "version": 3
      },
      "file_extension": ".py",
      "mimetype": "text/x-python",
      "name": "python",
      "nbconvert_exporter": "python",
      "pygments_lexer": "ipython3",
      "version": "3.5.1"
    },
    "colab": {
      "provenance": [],
      "include_colab_link": true
    }
  },
  "nbformat": 4,
  "nbformat_minor": 0
}
