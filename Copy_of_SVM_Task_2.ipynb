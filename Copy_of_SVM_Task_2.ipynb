{
  "cells": [
    {
      "cell_type": "markdown",
      "metadata": {
        "id": "view-in-github",
        "colab_type": "text"
      },
      "source": [
        "<a href=\"https://colab.research.google.com/github/ShrutiJain456/compute/blob/main/Copy_of_SVM_Task_2.ipynb\" target=\"_parent\"><img src=\"https://colab.research.google.com/assets/colab-badge.svg\" alt=\"Open In Colab\"/></a>"
      ]
    },
    {
      "cell_type": "markdown",
      "metadata": {
        "id": "aHQLsCXT_yf9"
      },
      "source": [
        "##Q1 Import and explore the data\n",
        "Dataset Link: https://drive.google.com/file/d/1tPHOMKD_ef-j8MuynCn2fSpbrL11-J1l/view?usp=sharing\n"
      ]
    },
    {
      "cell_type": "code",
      "execution_count": 1,
      "metadata": {
        "id": "xdKvMl2aTsjh"
      },
      "outputs": [],
      "source": [
        "import pandas as pd\n",
        "import numpy as np"
      ]
    },
    {
      "cell_type": "code",
      "execution_count": 2,
      "metadata": {
        "colab": {
          "base_uri": "https://localhost:8080/",
          "height": 520
        },
        "id": "CeXd8QbEUIIr",
        "outputId": "0eec54ff-f2f6-405b-cab0-2931fa60e68c"
      },
      "outputs": [
        {
          "output_type": "execute_result",
          "data": {
            "text/plain": [
              "        Mean of the integrated profile  \\\n",
              "0                           121.156250   \n",
              "1                            76.968750   \n",
              "2                           130.585938   \n",
              "3                           156.398438   \n",
              "4                            84.804688   \n",
              "...                                ...   \n",
              "12523                       124.312500   \n",
              "12524                       115.617188   \n",
              "12525                       116.031250   \n",
              "12526                       135.664062   \n",
              "12527                       120.726562   \n",
              "\n",
              "        Standard deviation of the integrated profile  \\\n",
              "0                                          48.372971   \n",
              "1                                          36.175557   \n",
              "2                                          53.229534   \n",
              "3                                          48.865942   \n",
              "4                                          36.117659   \n",
              "...                                              ...   \n",
              "12523                                      53.179053   \n",
              "12524                                      46.784600   \n",
              "12525                                      43.213846   \n",
              "12526                                      49.933749   \n",
              "12527                                      50.472256   \n",
              "\n",
              "        Excess kurtosis of the integrated profile  \\\n",
              "0                                        0.375485   \n",
              "1                                        0.712898   \n",
              "2                                        0.133408   \n",
              "3                                       -0.215989   \n",
              "4                                        0.825013   \n",
              "...                                           ...   \n",
              "12523                                   -0.012418   \n",
              "12524                                    0.218177   \n",
              "12525                                    0.663456   \n",
              "12526                                   -0.089940   \n",
              "12527                                    0.346178   \n",
              "\n",
              "        Skewness of the integrated profile   Mean of the DM-SNR curve  \\\n",
              "0                                -0.013165                   3.168896   \n",
              "1                                 3.388719                   2.399666   \n",
              "2                                -0.297242                   2.743311   \n",
              "3                                -0.171294                  17.471572   \n",
              "4                                 3.274125                   2.790134   \n",
              "...                                    ...                        ...   \n",
              "12523                            -0.556021                   7.186455   \n",
              "12524                             0.226757                   6.140468   \n",
              "12525                             0.433088                   0.785117   \n",
              "12526                            -0.226726                   3.859532   \n",
              "12527                             0.184797                   0.769231   \n",
              "\n",
              "        Standard deviation of the DM-SNR curve  \\\n",
              "0                                    18.399367   \n",
              "1                                    17.570997   \n",
              "2                                    22.362553   \n",
              "3                                          NaN   \n",
              "4                                    20.618009   \n",
              "...                                        ...   \n",
              "12523                                29.308266   \n",
              "12524                                      NaN   \n",
              "12525                                11.628149   \n",
              "12526                                21.501505   \n",
              "12527                                11.792603   \n",
              "\n",
              "        Excess kurtosis of the DM-SNR curve   Skewness of the DM-SNR curve  \\\n",
              "0                                  7.449874                      65.159298   \n",
              "1                                  9.414652                     102.722975   \n",
              "2                                  8.508364                      74.031324   \n",
              "3                                  2.958066                       7.197842   \n",
              "4                                  8.405008                      76.291128   \n",
              "...                                     ...                            ...   \n",
              "12523                              4.531382                      21.725143   \n",
              "12524                              5.732201                      34.357283   \n",
              "12525                             17.055215                     312.204325   \n",
              "12526                              7.398395                      62.334018   \n",
              "12527                             17.662222                     329.548016   \n",
              "\n",
              "       target_class  \n",
              "0               0.0  \n",
              "1               0.0  \n",
              "2               0.0  \n",
              "3               0.0  \n",
              "4               0.0  \n",
              "...             ...  \n",
              "12523           0.0  \n",
              "12524           0.0  \n",
              "12525           0.0  \n",
              "12526           0.0  \n",
              "12527           0.0  \n",
              "\n",
              "[12528 rows x 9 columns]"
            ],
            "text/html": [
              "\n",
              "  <div id=\"df-5c87a720-1cf6-4750-9577-1a0466175a2f\">\n",
              "    <div class=\"colab-df-container\">\n",
              "      <div>\n",
              "<style scoped>\n",
              "    .dataframe tbody tr th:only-of-type {\n",
              "        vertical-align: middle;\n",
              "    }\n",
              "\n",
              "    .dataframe tbody tr th {\n",
              "        vertical-align: top;\n",
              "    }\n",
              "\n",
              "    .dataframe thead th {\n",
              "        text-align: right;\n",
              "    }\n",
              "</style>\n",
              "<table border=\"1\" class=\"dataframe\">\n",
              "  <thead>\n",
              "    <tr style=\"text-align: right;\">\n",
              "      <th></th>\n",
              "      <th>Mean of the integrated profile</th>\n",
              "      <th>Standard deviation of the integrated profile</th>\n",
              "      <th>Excess kurtosis of the integrated profile</th>\n",
              "      <th>Skewness of the integrated profile</th>\n",
              "      <th>Mean of the DM-SNR curve</th>\n",
              "      <th>Standard deviation of the DM-SNR curve</th>\n",
              "      <th>Excess kurtosis of the DM-SNR curve</th>\n",
              "      <th>Skewness of the DM-SNR curve</th>\n",
              "      <th>target_class</th>\n",
              "    </tr>\n",
              "  </thead>\n",
              "  <tbody>\n",
              "    <tr>\n",
              "      <th>0</th>\n",
              "      <td>121.156250</td>\n",
              "      <td>48.372971</td>\n",
              "      <td>0.375485</td>\n",
              "      <td>-0.013165</td>\n",
              "      <td>3.168896</td>\n",
              "      <td>18.399367</td>\n",
              "      <td>7.449874</td>\n",
              "      <td>65.159298</td>\n",
              "      <td>0.0</td>\n",
              "    </tr>\n",
              "    <tr>\n",
              "      <th>1</th>\n",
              "      <td>76.968750</td>\n",
              "      <td>36.175557</td>\n",
              "      <td>0.712898</td>\n",
              "      <td>3.388719</td>\n",
              "      <td>2.399666</td>\n",
              "      <td>17.570997</td>\n",
              "      <td>9.414652</td>\n",
              "      <td>102.722975</td>\n",
              "      <td>0.0</td>\n",
              "    </tr>\n",
              "    <tr>\n",
              "      <th>2</th>\n",
              "      <td>130.585938</td>\n",
              "      <td>53.229534</td>\n",
              "      <td>0.133408</td>\n",
              "      <td>-0.297242</td>\n",
              "      <td>2.743311</td>\n",
              "      <td>22.362553</td>\n",
              "      <td>8.508364</td>\n",
              "      <td>74.031324</td>\n",
              "      <td>0.0</td>\n",
              "    </tr>\n",
              "    <tr>\n",
              "      <th>3</th>\n",
              "      <td>156.398438</td>\n",
              "      <td>48.865942</td>\n",
              "      <td>-0.215989</td>\n",
              "      <td>-0.171294</td>\n",
              "      <td>17.471572</td>\n",
              "      <td>NaN</td>\n",
              "      <td>2.958066</td>\n",
              "      <td>7.197842</td>\n",
              "      <td>0.0</td>\n",
              "    </tr>\n",
              "    <tr>\n",
              "      <th>4</th>\n",
              "      <td>84.804688</td>\n",
              "      <td>36.117659</td>\n",
              "      <td>0.825013</td>\n",
              "      <td>3.274125</td>\n",
              "      <td>2.790134</td>\n",
              "      <td>20.618009</td>\n",
              "      <td>8.405008</td>\n",
              "      <td>76.291128</td>\n",
              "      <td>0.0</td>\n",
              "    </tr>\n",
              "    <tr>\n",
              "      <th>...</th>\n",
              "      <td>...</td>\n",
              "      <td>...</td>\n",
              "      <td>...</td>\n",
              "      <td>...</td>\n",
              "      <td>...</td>\n",
              "      <td>...</td>\n",
              "      <td>...</td>\n",
              "      <td>...</td>\n",
              "      <td>...</td>\n",
              "    </tr>\n",
              "    <tr>\n",
              "      <th>12523</th>\n",
              "      <td>124.312500</td>\n",
              "      <td>53.179053</td>\n",
              "      <td>-0.012418</td>\n",
              "      <td>-0.556021</td>\n",
              "      <td>7.186455</td>\n",
              "      <td>29.308266</td>\n",
              "      <td>4.531382</td>\n",
              "      <td>21.725143</td>\n",
              "      <td>0.0</td>\n",
              "    </tr>\n",
              "    <tr>\n",
              "      <th>12524</th>\n",
              "      <td>115.617188</td>\n",
              "      <td>46.784600</td>\n",
              "      <td>0.218177</td>\n",
              "      <td>0.226757</td>\n",
              "      <td>6.140468</td>\n",
              "      <td>NaN</td>\n",
              "      <td>5.732201</td>\n",
              "      <td>34.357283</td>\n",
              "      <td>0.0</td>\n",
              "    </tr>\n",
              "    <tr>\n",
              "      <th>12525</th>\n",
              "      <td>116.031250</td>\n",
              "      <td>43.213846</td>\n",
              "      <td>0.663456</td>\n",
              "      <td>0.433088</td>\n",
              "      <td>0.785117</td>\n",
              "      <td>11.628149</td>\n",
              "      <td>17.055215</td>\n",
              "      <td>312.204325</td>\n",
              "      <td>0.0</td>\n",
              "    </tr>\n",
              "    <tr>\n",
              "      <th>12526</th>\n",
              "      <td>135.664062</td>\n",
              "      <td>49.933749</td>\n",
              "      <td>-0.089940</td>\n",
              "      <td>-0.226726</td>\n",
              "      <td>3.859532</td>\n",
              "      <td>21.501505</td>\n",
              "      <td>7.398395</td>\n",
              "      <td>62.334018</td>\n",
              "      <td>0.0</td>\n",
              "    </tr>\n",
              "    <tr>\n",
              "      <th>12527</th>\n",
              "      <td>120.726562</td>\n",
              "      <td>50.472256</td>\n",
              "      <td>0.346178</td>\n",
              "      <td>0.184797</td>\n",
              "      <td>0.769231</td>\n",
              "      <td>11.792603</td>\n",
              "      <td>17.662222</td>\n",
              "      <td>329.548016</td>\n",
              "      <td>0.0</td>\n",
              "    </tr>\n",
              "  </tbody>\n",
              "</table>\n",
              "<p>12528 rows × 9 columns</p>\n",
              "</div>\n",
              "      <button class=\"colab-df-convert\" onclick=\"convertToInteractive('df-5c87a720-1cf6-4750-9577-1a0466175a2f')\"\n",
              "              title=\"Convert this dataframe to an interactive table.\"\n",
              "              style=\"display:none;\">\n",
              "        \n",
              "  <svg xmlns=\"http://www.w3.org/2000/svg\" height=\"24px\"viewBox=\"0 0 24 24\"\n",
              "       width=\"24px\">\n",
              "    <path d=\"M0 0h24v24H0V0z\" fill=\"none\"/>\n",
              "    <path d=\"M18.56 5.44l.94 2.06.94-2.06 2.06-.94-2.06-.94-.94-2.06-.94 2.06-2.06.94zm-11 1L8.5 8.5l.94-2.06 2.06-.94-2.06-.94L8.5 2.5l-.94 2.06-2.06.94zm10 10l.94 2.06.94-2.06 2.06-.94-2.06-.94-.94-2.06-.94 2.06-2.06.94z\"/><path d=\"M17.41 7.96l-1.37-1.37c-.4-.4-.92-.59-1.43-.59-.52 0-1.04.2-1.43.59L10.3 9.45l-7.72 7.72c-.78.78-.78 2.05 0 2.83L4 21.41c.39.39.9.59 1.41.59.51 0 1.02-.2 1.41-.59l7.78-7.78 2.81-2.81c.8-.78.8-2.07 0-2.86zM5.41 20L4 18.59l7.72-7.72 1.47 1.35L5.41 20z\"/>\n",
              "  </svg>\n",
              "      </button>\n",
              "      \n",
              "  <style>\n",
              "    .colab-df-container {\n",
              "      display:flex;\n",
              "      flex-wrap:wrap;\n",
              "      gap: 12px;\n",
              "    }\n",
              "\n",
              "    .colab-df-convert {\n",
              "      background-color: #E8F0FE;\n",
              "      border: none;\n",
              "      border-radius: 50%;\n",
              "      cursor: pointer;\n",
              "      display: none;\n",
              "      fill: #1967D2;\n",
              "      height: 32px;\n",
              "      padding: 0 0 0 0;\n",
              "      width: 32px;\n",
              "    }\n",
              "\n",
              "    .colab-df-convert:hover {\n",
              "      background-color: #E2EBFA;\n",
              "      box-shadow: 0px 1px 2px rgba(60, 64, 67, 0.3), 0px 1px 3px 1px rgba(60, 64, 67, 0.15);\n",
              "      fill: #174EA6;\n",
              "    }\n",
              "\n",
              "    [theme=dark] .colab-df-convert {\n",
              "      background-color: #3B4455;\n",
              "      fill: #D2E3FC;\n",
              "    }\n",
              "\n",
              "    [theme=dark] .colab-df-convert:hover {\n",
              "      background-color: #434B5C;\n",
              "      box-shadow: 0px 1px 3px 1px rgba(0, 0, 0, 0.15);\n",
              "      filter: drop-shadow(0px 1px 2px rgba(0, 0, 0, 0.3));\n",
              "      fill: #FFFFFF;\n",
              "    }\n",
              "  </style>\n",
              "\n",
              "      <script>\n",
              "        const buttonEl =\n",
              "          document.querySelector('#df-5c87a720-1cf6-4750-9577-1a0466175a2f button.colab-df-convert');\n",
              "        buttonEl.style.display =\n",
              "          google.colab.kernel.accessAllowed ? 'block' : 'none';\n",
              "\n",
              "        async function convertToInteractive(key) {\n",
              "          const element = document.querySelector('#df-5c87a720-1cf6-4750-9577-1a0466175a2f');\n",
              "          const dataTable =\n",
              "            await google.colab.kernel.invokeFunction('convertToInteractive',\n",
              "                                                     [key], {});\n",
              "          if (!dataTable) return;\n",
              "\n",
              "          const docLinkHtml = 'Like what you see? Visit the ' +\n",
              "            '<a target=\"_blank\" href=https://colab.research.google.com/notebooks/data_table.ipynb>data table notebook</a>'\n",
              "            + ' to learn more about interactive tables.';\n",
              "          element.innerHTML = '';\n",
              "          dataTable['output_type'] = 'display_data';\n",
              "          await google.colab.output.renderOutput(dataTable, element);\n",
              "          const docLink = document.createElement('div');\n",
              "          docLink.innerHTML = docLinkHtml;\n",
              "          element.appendChild(docLink);\n",
              "        }\n",
              "      </script>\n",
              "    </div>\n",
              "  </div>\n",
              "  "
            ]
          },
          "metadata": {},
          "execution_count": 2
        }
      ],
      "source": [
        "df = pd.read_csv('/content/pulsar.txt')\n",
        "df"
      ]
    },
    {
      "cell_type": "code",
      "execution_count": 3,
      "metadata": {
        "colab": {
          "base_uri": "https://localhost:8080/",
          "height": 485
        },
        "id": "_genG75_YNbd",
        "outputId": "f806c6ba-85e7-4153-b373-90849e29f5b3"
      },
      "outputs": [
        {
          "output_type": "execute_result",
          "data": {
            "text/plain": [
              "          Mean_IP     STD_IP  ExcessKurtosis_IP  Skewness_IP  \\\n",
              "0      121.156250  48.372971           0.375485    -0.013165   \n",
              "1       76.968750  36.175557           0.712898     3.388719   \n",
              "2      130.585938  53.229534           0.133408    -0.297242   \n",
              "3      156.398438  48.865942          -0.215989    -0.171294   \n",
              "4       84.804688  36.117659           0.825013     3.274125   \n",
              "...           ...        ...                ...          ...   \n",
              "12523  124.312500  53.179053          -0.012418    -0.556021   \n",
              "12524  115.617188  46.784600           0.218177     0.226757   \n",
              "12525  116.031250  43.213846           0.663456     0.433088   \n",
              "12526  135.664062  49.933749          -0.089940    -0.226726   \n",
              "12527  120.726562  50.472256           0.346178     0.184797   \n",
              "\n",
              "       MeanDM-SNR_Curve  STD-DM-SNR_Curve  ExcessKurtosisDM-SNR_Curve  \\\n",
              "0              3.168896         18.399367                    7.449874   \n",
              "1              2.399666         17.570997                    9.414652   \n",
              "2              2.743311         22.362553                    8.508364   \n",
              "3             17.471572               NaN                    2.958066   \n",
              "4              2.790134         20.618009                    8.405008   \n",
              "...                 ...               ...                         ...   \n",
              "12523          7.186455         29.308266                    4.531382   \n",
              "12524          6.140468               NaN                    5.732201   \n",
              "12525          0.785117         11.628149                   17.055215   \n",
              "12526          3.859532         21.501505                    7.398395   \n",
              "12527          0.769231         11.792603                   17.662222   \n",
              "\n",
              "       SkewnessDM-SNR_Curve  target_class  \n",
              "0                 65.159298           0.0  \n",
              "1                102.722975           0.0  \n",
              "2                 74.031324           0.0  \n",
              "3                  7.197842           0.0  \n",
              "4                 76.291128           0.0  \n",
              "...                     ...           ...  \n",
              "12523             21.725143           0.0  \n",
              "12524             34.357283           0.0  \n",
              "12525            312.204325           0.0  \n",
              "12526             62.334018           0.0  \n",
              "12527            329.548016           0.0  \n",
              "\n",
              "[12528 rows x 9 columns]"
            ],
            "text/html": [
              "\n",
              "  <div id=\"df-7aa4eb76-ae4d-4d1f-810e-b337cee837e4\">\n",
              "    <div class=\"colab-df-container\">\n",
              "      <div>\n",
              "<style scoped>\n",
              "    .dataframe tbody tr th:only-of-type {\n",
              "        vertical-align: middle;\n",
              "    }\n",
              "\n",
              "    .dataframe tbody tr th {\n",
              "        vertical-align: top;\n",
              "    }\n",
              "\n",
              "    .dataframe thead th {\n",
              "        text-align: right;\n",
              "    }\n",
              "</style>\n",
              "<table border=\"1\" class=\"dataframe\">\n",
              "  <thead>\n",
              "    <tr style=\"text-align: right;\">\n",
              "      <th></th>\n",
              "      <th>Mean_IP</th>\n",
              "      <th>STD_IP</th>\n",
              "      <th>ExcessKurtosis_IP</th>\n",
              "      <th>Skewness_IP</th>\n",
              "      <th>MeanDM-SNR_Curve</th>\n",
              "      <th>STD-DM-SNR_Curve</th>\n",
              "      <th>ExcessKurtosisDM-SNR_Curve</th>\n",
              "      <th>SkewnessDM-SNR_Curve</th>\n",
              "      <th>target_class</th>\n",
              "    </tr>\n",
              "  </thead>\n",
              "  <tbody>\n",
              "    <tr>\n",
              "      <th>0</th>\n",
              "      <td>121.156250</td>\n",
              "      <td>48.372971</td>\n",
              "      <td>0.375485</td>\n",
              "      <td>-0.013165</td>\n",
              "      <td>3.168896</td>\n",
              "      <td>18.399367</td>\n",
              "      <td>7.449874</td>\n",
              "      <td>65.159298</td>\n",
              "      <td>0.0</td>\n",
              "    </tr>\n",
              "    <tr>\n",
              "      <th>1</th>\n",
              "      <td>76.968750</td>\n",
              "      <td>36.175557</td>\n",
              "      <td>0.712898</td>\n",
              "      <td>3.388719</td>\n",
              "      <td>2.399666</td>\n",
              "      <td>17.570997</td>\n",
              "      <td>9.414652</td>\n",
              "      <td>102.722975</td>\n",
              "      <td>0.0</td>\n",
              "    </tr>\n",
              "    <tr>\n",
              "      <th>2</th>\n",
              "      <td>130.585938</td>\n",
              "      <td>53.229534</td>\n",
              "      <td>0.133408</td>\n",
              "      <td>-0.297242</td>\n",
              "      <td>2.743311</td>\n",
              "      <td>22.362553</td>\n",
              "      <td>8.508364</td>\n",
              "      <td>74.031324</td>\n",
              "      <td>0.0</td>\n",
              "    </tr>\n",
              "    <tr>\n",
              "      <th>3</th>\n",
              "      <td>156.398438</td>\n",
              "      <td>48.865942</td>\n",
              "      <td>-0.215989</td>\n",
              "      <td>-0.171294</td>\n",
              "      <td>17.471572</td>\n",
              "      <td>NaN</td>\n",
              "      <td>2.958066</td>\n",
              "      <td>7.197842</td>\n",
              "      <td>0.0</td>\n",
              "    </tr>\n",
              "    <tr>\n",
              "      <th>4</th>\n",
              "      <td>84.804688</td>\n",
              "      <td>36.117659</td>\n",
              "      <td>0.825013</td>\n",
              "      <td>3.274125</td>\n",
              "      <td>2.790134</td>\n",
              "      <td>20.618009</td>\n",
              "      <td>8.405008</td>\n",
              "      <td>76.291128</td>\n",
              "      <td>0.0</td>\n",
              "    </tr>\n",
              "    <tr>\n",
              "      <th>...</th>\n",
              "      <td>...</td>\n",
              "      <td>...</td>\n",
              "      <td>...</td>\n",
              "      <td>...</td>\n",
              "      <td>...</td>\n",
              "      <td>...</td>\n",
              "      <td>...</td>\n",
              "      <td>...</td>\n",
              "      <td>...</td>\n",
              "    </tr>\n",
              "    <tr>\n",
              "      <th>12523</th>\n",
              "      <td>124.312500</td>\n",
              "      <td>53.179053</td>\n",
              "      <td>-0.012418</td>\n",
              "      <td>-0.556021</td>\n",
              "      <td>7.186455</td>\n",
              "      <td>29.308266</td>\n",
              "      <td>4.531382</td>\n",
              "      <td>21.725143</td>\n",
              "      <td>0.0</td>\n",
              "    </tr>\n",
              "    <tr>\n",
              "      <th>12524</th>\n",
              "      <td>115.617188</td>\n",
              "      <td>46.784600</td>\n",
              "      <td>0.218177</td>\n",
              "      <td>0.226757</td>\n",
              "      <td>6.140468</td>\n",
              "      <td>NaN</td>\n",
              "      <td>5.732201</td>\n",
              "      <td>34.357283</td>\n",
              "      <td>0.0</td>\n",
              "    </tr>\n",
              "    <tr>\n",
              "      <th>12525</th>\n",
              "      <td>116.031250</td>\n",
              "      <td>43.213846</td>\n",
              "      <td>0.663456</td>\n",
              "      <td>0.433088</td>\n",
              "      <td>0.785117</td>\n",
              "      <td>11.628149</td>\n",
              "      <td>17.055215</td>\n",
              "      <td>312.204325</td>\n",
              "      <td>0.0</td>\n",
              "    </tr>\n",
              "    <tr>\n",
              "      <th>12526</th>\n",
              "      <td>135.664062</td>\n",
              "      <td>49.933749</td>\n",
              "      <td>-0.089940</td>\n",
              "      <td>-0.226726</td>\n",
              "      <td>3.859532</td>\n",
              "      <td>21.501505</td>\n",
              "      <td>7.398395</td>\n",
              "      <td>62.334018</td>\n",
              "      <td>0.0</td>\n",
              "    </tr>\n",
              "    <tr>\n",
              "      <th>12527</th>\n",
              "      <td>120.726562</td>\n",
              "      <td>50.472256</td>\n",
              "      <td>0.346178</td>\n",
              "      <td>0.184797</td>\n",
              "      <td>0.769231</td>\n",
              "      <td>11.792603</td>\n",
              "      <td>17.662222</td>\n",
              "      <td>329.548016</td>\n",
              "      <td>0.0</td>\n",
              "    </tr>\n",
              "  </tbody>\n",
              "</table>\n",
              "<p>12528 rows × 9 columns</p>\n",
              "</div>\n",
              "      <button class=\"colab-df-convert\" onclick=\"convertToInteractive('df-7aa4eb76-ae4d-4d1f-810e-b337cee837e4')\"\n",
              "              title=\"Convert this dataframe to an interactive table.\"\n",
              "              style=\"display:none;\">\n",
              "        \n",
              "  <svg xmlns=\"http://www.w3.org/2000/svg\" height=\"24px\"viewBox=\"0 0 24 24\"\n",
              "       width=\"24px\">\n",
              "    <path d=\"M0 0h24v24H0V0z\" fill=\"none\"/>\n",
              "    <path d=\"M18.56 5.44l.94 2.06.94-2.06 2.06-.94-2.06-.94-.94-2.06-.94 2.06-2.06.94zm-11 1L8.5 8.5l.94-2.06 2.06-.94-2.06-.94L8.5 2.5l-.94 2.06-2.06.94zm10 10l.94 2.06.94-2.06 2.06-.94-2.06-.94-.94-2.06-.94 2.06-2.06.94z\"/><path d=\"M17.41 7.96l-1.37-1.37c-.4-.4-.92-.59-1.43-.59-.52 0-1.04.2-1.43.59L10.3 9.45l-7.72 7.72c-.78.78-.78 2.05 0 2.83L4 21.41c.39.39.9.59 1.41.59.51 0 1.02-.2 1.41-.59l7.78-7.78 2.81-2.81c.8-.78.8-2.07 0-2.86zM5.41 20L4 18.59l7.72-7.72 1.47 1.35L5.41 20z\"/>\n",
              "  </svg>\n",
              "      </button>\n",
              "      \n",
              "  <style>\n",
              "    .colab-df-container {\n",
              "      display:flex;\n",
              "      flex-wrap:wrap;\n",
              "      gap: 12px;\n",
              "    }\n",
              "\n",
              "    .colab-df-convert {\n",
              "      background-color: #E8F0FE;\n",
              "      border: none;\n",
              "      border-radius: 50%;\n",
              "      cursor: pointer;\n",
              "      display: none;\n",
              "      fill: #1967D2;\n",
              "      height: 32px;\n",
              "      padding: 0 0 0 0;\n",
              "      width: 32px;\n",
              "    }\n",
              "\n",
              "    .colab-df-convert:hover {\n",
              "      background-color: #E2EBFA;\n",
              "      box-shadow: 0px 1px 2px rgba(60, 64, 67, 0.3), 0px 1px 3px 1px rgba(60, 64, 67, 0.15);\n",
              "      fill: #174EA6;\n",
              "    }\n",
              "\n",
              "    [theme=dark] .colab-df-convert {\n",
              "      background-color: #3B4455;\n",
              "      fill: #D2E3FC;\n",
              "    }\n",
              "\n",
              "    [theme=dark] .colab-df-convert:hover {\n",
              "      background-color: #434B5C;\n",
              "      box-shadow: 0px 1px 3px 1px rgba(0, 0, 0, 0.15);\n",
              "      filter: drop-shadow(0px 1px 2px rgba(0, 0, 0, 0.3));\n",
              "      fill: #FFFFFF;\n",
              "    }\n",
              "  </style>\n",
              "\n",
              "      <script>\n",
              "        const buttonEl =\n",
              "          document.querySelector('#df-7aa4eb76-ae4d-4d1f-810e-b337cee837e4 button.colab-df-convert');\n",
              "        buttonEl.style.display =\n",
              "          google.colab.kernel.accessAllowed ? 'block' : 'none';\n",
              "\n",
              "        async function convertToInteractive(key) {\n",
              "          const element = document.querySelector('#df-7aa4eb76-ae4d-4d1f-810e-b337cee837e4');\n",
              "          const dataTable =\n",
              "            await google.colab.kernel.invokeFunction('convertToInteractive',\n",
              "                                                     [key], {});\n",
              "          if (!dataTable) return;\n",
              "\n",
              "          const docLinkHtml = 'Like what you see? Visit the ' +\n",
              "            '<a target=\"_blank\" href=https://colab.research.google.com/notebooks/data_table.ipynb>data table notebook</a>'\n",
              "            + ' to learn more about interactive tables.';\n",
              "          element.innerHTML = '';\n",
              "          dataTable['output_type'] = 'display_data';\n",
              "          await google.colab.output.renderOutput(dataTable, element);\n",
              "          const docLink = document.createElement('div');\n",
              "          docLink.innerHTML = docLinkHtml;\n",
              "          element.appendChild(docLink);\n",
              "        }\n",
              "      </script>\n",
              "    </div>\n",
              "  </div>\n",
              "  "
            ]
          },
          "metadata": {},
          "execution_count": 3
        }
      ],
      "source": [
        "df.set_axis(['Mean_IP',\t'STD_IP',\t'ExcessKurtosis_IP',\t'Skewness_IP',\t'MeanDM-SNR_Curve',\t'STD-DM-SNR_Curve',\n",
        "             'ExcessKurtosisDM-SNR_Curve',\t'SkewnessDM-SNR_Curve',\t'target_class'], axis = 1 , inplace = True)\n",
        "df"
      ]
    },
    {
      "cell_type": "markdown",
      "metadata": {
        "id": "naklkC17ALnZ"
      },
      "source": [
        "##Q2 Carry out data pre-processing"
      ]
    },
    {
      "cell_type": "code",
      "execution_count": 4,
      "metadata": {
        "colab": {
          "base_uri": "https://localhost:8080/"
        },
        "id": "S3U28u1tZ6EC",
        "outputId": "916a5743-6138-4fed-f25b-623e6616b021"
      },
      "outputs": [
        {
          "output_type": "execute_result",
          "data": {
            "text/plain": [
              "(12528, 9)"
            ]
          },
          "metadata": {},
          "execution_count": 4
        }
      ],
      "source": [
        "df.shape"
      ]
    },
    {
      "cell_type": "code",
      "execution_count": 5,
      "metadata": {
        "colab": {
          "base_uri": "https://localhost:8080/"
        },
        "id": "Nqnyg6m3hP6E",
        "outputId": "d56d2ec6-907e-4abc-e040-12dfcde02868"
      },
      "outputs": [
        {
          "output_type": "execute_result",
          "data": {
            "text/plain": [
              "0.0    11375\n",
              "1.0     1153\n",
              "Name: target_class, dtype: int64"
            ]
          },
          "metadata": {},
          "execution_count": 5
        }
      ],
      "source": [
        "df['target_class'].value_counts()"
      ]
    },
    {
      "cell_type": "code",
      "execution_count": 6,
      "metadata": {
        "colab": {
          "base_uri": "https://localhost:8080/"
        },
        "id": "UsuC_xZthe4m",
        "outputId": "af9ce8bf-5cb0-4390-c918-79c921dd70f6"
      },
      "outputs": [
        {
          "output_type": "execute_result",
          "data": {
            "text/plain": [
              "Mean_IP                          0\n",
              "STD_IP                           0\n",
              "ExcessKurtosis_IP             1735\n",
              "Skewness_IP                      0\n",
              "MeanDM-SNR_Curve                 0\n",
              "STD-DM-SNR_Curve              1178\n",
              "ExcessKurtosisDM-SNR_Curve       0\n",
              "SkewnessDM-SNR_Curve           625\n",
              "target_class                     0\n",
              "dtype: int64"
            ]
          },
          "metadata": {},
          "execution_count": 6
        }
      ],
      "source": [
        "df.isnull().sum()"
      ]
    },
    {
      "cell_type": "code",
      "execution_count": 7,
      "metadata": {
        "colab": {
          "base_uri": "https://localhost:8080/"
        },
        "id": "_Ol4e4FOhqHW",
        "outputId": "fe94be85-1d77-4a13-c5eb-075a26d08e0a"
      },
      "outputs": [
        {
          "output_type": "stream",
          "name": "stdout",
          "text": [
            "278\n",
            "2.219029374201788\n"
          ]
        }
      ],
      "source": [
        "count = 0 \n",
        "for i in df.isnull().sum(axis = 1):\n",
        "  if i > 1:\n",
        "    count = count + 1\n",
        "print(count)\n",
        "percent = (count / len(df.index))*100\n",
        "print(percent)"
      ]
    },
    {
      "cell_type": "code",
      "execution_count": 8,
      "metadata": {
        "colab": {
          "base_uri": "https://localhost:8080/",
          "height": 681
        },
        "id": "iCmbgYAXuAJk",
        "outputId": "8d26e05e-6c0b-4c4a-d79e-9cf4f303c2dc"
      },
      "outputs": [
        {
          "output_type": "stream",
          "name": "stderr",
          "text": [
            "/usr/local/lib/python3.8/dist-packages/matplotlib/cbook/__init__.py:1376: VisibleDeprecationWarning: Creating an ndarray from ragged nested sequences (which is a list-or-tuple of lists-or-tuples-or ndarrays with different lengths or shapes) is deprecated. If you meant to do this, you must specify 'dtype=object' when creating the ndarray.\n",
            "  X = np.atleast_1d(X.T if isinstance(X, np.ndarray) else np.asarray(X))\n"
          ]
        },
        {
          "output_type": "execute_result",
          "data": {
            "text/plain": [
              "<matplotlib.axes._subplots.AxesSubplot at 0x7f6919a04bb0>"
            ]
          },
          "metadata": {},
          "execution_count": 8
        },
        {
          "output_type": "display_data",
          "data": {
            "text/plain": [
              "<Figure size 1080x720 with 1 Axes>"
            ],
            "image/png": "[encoded data removed]"
          },
          "metadata": {
            "needs_background": "light"
          }
        }
      ],
      "source": [
        "import matplotlib.pyplot as plt\n",
        "import seaborn as sns\n",
        "plt.figure(figsize = (15,10))\n",
        "plt.title('Outliers', fontsize =16)\n",
        "df.boxplot(vert = 0)"
      ]
    },
    {
      "cell_type": "code",
      "execution_count": 9,
      "metadata": {
        "colab": {
          "base_uri": "https://localhost:8080/"
        },
        "id": "SiWlc1vxis7r",
        "outputId": "ffd6be40-ba9c-478f-9951-df6ebb24c8e5"
      },
      "outputs": [
        {
          "output_type": "execute_result",
          "data": {
            "text/plain": [
              "Mean_IP                       0\n",
              "STD_IP                        0\n",
              "ExcessKurtosis_IP             0\n",
              "Skewness_IP                   0\n",
              "MeanDM-SNR_Curve              0\n",
              "STD-DM-SNR_Curve              0\n",
              "ExcessKurtosisDM-SNR_Curve    0\n",
              "SkewnessDM-SNR_Curve          0\n",
              "target_class                  0\n",
              "dtype: int64"
            ]
          },
          "metadata": {},
          "execution_count": 9
        }
      ],
      "source": [
        "#since data is quite skewed , replace missing values with median\n",
        "df = df.fillna(value = df[['ExcessKurtosis_IP', 'STD-DM-SNR_Curve', 'SkewnessDM-SNR_Curve']].median())\n",
        "df.isnull().sum()"
      ]
    },
    {
      "cell_type": "code",
      "execution_count": 10,
      "metadata": {
        "colab": {
          "base_uri": "https://localhost:8080/",
          "height": 362
        },
        "id": "KniI9zksJSnf",
        "outputId": "08b16f4c-992d-42aa-8f18-a787774c509e"
      },
      "outputs": [
        {
          "output_type": "execute_result",
          "data": {
            "text/plain": [
              "            Mean_IP        STD_IP  ExcessKurtosis_IP   Skewness_IP  \\\n",
              "count  12528.000000  12528.000000       12528.000000  12528.000000   \n",
              "mean     111.041841     46.521437           0.443251      1.778431   \n",
              "std       25.672828      6.801077           0.992144      6.208450   \n",
              "min        5.812500     24.772042          -1.738021     -1.791886   \n",
              "25%      100.871094     42.362222           0.057820     -0.188142   \n",
              "50%      115.183594     46.931022           0.223678      0.203317   \n",
              "75%      127.109375     50.979103           0.421239      0.932374   \n",
              "max      189.734375     91.808628           8.069522     68.101622   \n",
              "\n",
              "       MeanDM-SNR_Curve  STD-DM-SNR_Curve  ExcessKurtosisDM-SNR_Curve  \\\n",
              "count      12528.000000      12528.000000                12528.000000   \n",
              "mean          12.674758         25.604827                    8.333489   \n",
              "std           29.613230         18.809291                    4.535783   \n",
              "min            0.213211          7.370432                   -3.139270   \n",
              "25%            1.910535         14.761144                    5.803063   \n",
              "50%            2.792642         18.412402                    8.451097   \n",
              "75%            5.413253         26.473142                   10.727927   \n",
              "max          222.421405        110.642211                   34.539844   \n",
              "\n",
              "       SkewnessDM-SNR_Curve  target_class  \n",
              "count          12528.000000  12528.000000  \n",
              "mean             104.408308      0.092034  \n",
              "std              104.799639      0.289085  \n",
              "min               -1.976976      0.000000  \n",
              "25%               38.128424      0.000000  \n",
              "50%               83.126301      0.000000  \n",
              "75%              135.774973      0.000000  \n",
              "max             1191.000837      1.000000  "
            ],
            "text/html": [
              "\n",
              "  <div id=\"df-63218b56-4fbf-43b8-b45e-40bc7ce847cb\">\n",
              "    <div class=\"colab-df-container\">\n",
              "      <div>\n",
              "<style scoped>\n",
              "    .dataframe tbody tr th:only-of-type {\n",
              "        vertical-align: middle;\n",
              "    }\n",
              "\n",
              "    .dataframe tbody tr th {\n",
              "        vertical-align: top;\n",
              "    }\n",
              "\n",
              "    .dataframe thead th {\n",
              "        text-align: right;\n",
              "    }\n",
              "</style>\n",
              "<table border=\"1\" class=\"dataframe\">\n",
              "  <thead>\n",
              "    <tr style=\"text-align: right;\">\n",
              "      <th></th>\n",
              "      <th>Mean_IP</th>\n",
              "      <th>STD_IP</th>\n",
              "      <th>ExcessKurtosis_IP</th>\n",
              "      <th>Skewness_IP</th>\n",
              "      <th>MeanDM-SNR_Curve</th>\n",
              "      <th>STD-DM-SNR_Curve</th>\n",
              "      <th>ExcessKurtosisDM-SNR_Curve</th>\n",
              "      <th>SkewnessDM-SNR_Curve</th>\n",
              "      <th>target_class</th>\n",
              "    </tr>\n",
              "  </thead>\n",
              "  <tbody>\n",
              "    <tr>\n",
              "      <th>count</th>\n",
              "      <td>12528.000000</td>\n",
              "      <td>12528.000000</td>\n",
              "      <td>12528.000000</td>\n",
              "      <td>12528.000000</td>\n",
              "      <td>12528.000000</td>\n",
              "      <td>12528.000000</td>\n",
              "      <td>12528.000000</td>\n",
              "      <td>12528.000000</td>\n",
              "      <td>12528.000000</td>\n",
              "    </tr>\n",
              "    <tr>\n",
              "      <th>mean</th>\n",
              "      <td>111.041841</td>\n",
              "      <td>46.521437</td>\n",
              "      <td>0.443251</td>\n",
              "      <td>1.778431</td>\n",
              "      <td>12.674758</td>\n",
              "      <td>25.604827</td>\n",
              "      <td>8.333489</td>\n",
              "      <td>104.408308</td>\n",
              "      <td>0.092034</td>\n",
              "    </tr>\n",
              "    <tr>\n",
              "      <th>std</th>\n",
              "      <td>25.672828</td>\n",
              "      <td>6.801077</td>\n",
              "      <td>0.992144</td>\n",
              "      <td>6.208450</td>\n",
              "      <td>29.613230</td>\n",
              "      <td>18.809291</td>\n",
              "      <td>4.535783</td>\n",
              "      <td>104.799639</td>\n",
              "      <td>0.289085</td>\n",
              "    </tr>\n",
              "    <tr>\n",
              "      <th>min</th>\n",
              "      <td>5.812500</td>\n",
              "      <td>24.772042</td>\n",
              "      <td>-1.738021</td>\n",
              "      <td>-1.791886</td>\n",
              "      <td>0.213211</td>\n",
              "      <td>7.370432</td>\n",
              "      <td>-3.139270</td>\n",
              "      <td>-1.976976</td>\n",
              "      <td>0.000000</td>\n",
              "    </tr>\n",
              "    <tr>\n",
              "      <th>25%</th>\n",
              "      <td>100.871094</td>\n",
              "      <td>42.362222</td>\n",
              "      <td>0.057820</td>\n",
              "      <td>-0.188142</td>\n",
              "      <td>1.910535</td>\n",
              "      <td>14.761144</td>\n",
              "      <td>5.803063</td>\n",
              "      <td>38.128424</td>\n",
              "      <td>0.000000</td>\n",
              "    </tr>\n",
              "    <tr>\n",
              "      <th>50%</th>\n",
              "      <td>115.183594</td>\n",
              "      <td>46.931022</td>\n",
              "      <td>0.223678</td>\n",
              "      <td>0.203317</td>\n",
              "      <td>2.792642</td>\n",
              "      <td>18.412402</td>\n",
              "      <td>8.451097</td>\n",
              "      <td>83.126301</td>\n",
              "      <td>0.000000</td>\n",
              "    </tr>\n",
              "    <tr>\n",
              "      <th>75%</th>\n",
              "      <td>127.109375</td>\n",
              "      <td>50.979103</td>\n",
              "      <td>0.421239</td>\n",
              "      <td>0.932374</td>\n",
              "      <td>5.413253</td>\n",
              "      <td>26.473142</td>\n",
              "      <td>10.727927</td>\n",
              "      <td>135.774973</td>\n",
              "      <td>0.000000</td>\n",
              "    </tr>\n",
              "    <tr>\n",
              "      <th>max</th>\n",
              "      <td>189.734375</td>\n",
              "      <td>91.808628</td>\n",
              "      <td>8.069522</td>\n",
              "      <td>68.101622</td>\n",
              "      <td>222.421405</td>\n",
              "      <td>110.642211</td>\n",
              "      <td>34.539844</td>\n",
              "      <td>1191.000837</td>\n",
              "      <td>1.000000</td>\n",
              "    </tr>\n",
              "  </tbody>\n",
              "</table>\n",
              "</div>\n",
              "      <button class=\"colab-df-convert\" onclick=\"convertToInteractive('df-63218b56-4fbf-43b8-b45e-40bc7ce847cb')\"\n",
              "              title=\"Convert this dataframe to an interactive table.\"\n",
              "              style=\"display:none;\">\n",
              "        \n",
              "  <svg xmlns=\"http://www.w3.org/2000/svg\" height=\"24px\"viewBox=\"0 0 24 24\"\n",
              "       width=\"24px\">\n",
              "    <path d=\"M0 0h24v24H0V0z\" fill=\"none\"/>\n",
              "    <path d=\"M18.56 5.44l.94 2.06.94-2.06 2.06-.94-2.06-.94-.94-2.06-.94 2.06-2.06.94zm-11 1L8.5 8.5l.94-2.06 2.06-.94-2.06-.94L8.5 2.5l-.94 2.06-2.06.94zm10 10l.94 2.06.94-2.06 2.06-.94-2.06-.94-.94-2.06-.94 2.06-2.06.94z\"/><path d=\"M17.41 7.96l-1.37-1.37c-.4-.4-.92-.59-1.43-.59-.52 0-1.04.2-1.43.59L10.3 9.45l-7.72 7.72c-.78.78-.78 2.05 0 2.83L4 21.41c.39.39.9.59 1.41.59.51 0 1.02-.2 1.41-.59l7.78-7.78 2.81-2.81c.8-.78.8-2.07 0-2.86zM5.41 20L4 18.59l7.72-7.72 1.47 1.35L5.41 20z\"/>\n",
              "  </svg>\n",
              "      </button>\n",
              "      \n",
              "  <style>\n",
              "    .colab-df-container {\n",
              "      display:flex;\n",
              "      flex-wrap:wrap;\n",
              "      gap: 12px;\n",
              "    }\n",
              "\n",
              "    .colab-df-convert {\n",
              "      background-color: #E8F0FE;\n",
              "      border: none;\n",
              "      border-radius: 50%;\n",
              "      cursor: pointer;\n",
              "      display: none;\n",
              "      fill: #1967D2;\n",
              "      height: 32px;\n",
              "      padding: 0 0 0 0;\n",
              "      width: 32px;\n",
              "    }\n",
              "\n",
              "    .colab-df-convert:hover {\n",
              "      background-color: #E2EBFA;\n",
              "      box-shadow: 0px 1px 2px rgba(60, 64, 67, 0.3), 0px 1px 3px 1px rgba(60, 64, 67, 0.15);\n",
              "      fill: #174EA6;\n",
              "    }\n",
              "\n",
              "    [theme=dark] .colab-df-convert {\n",
              "      background-color: #3B4455;\n",
              "      fill: #D2E3FC;\n",
              "    }\n",
              "\n",
              "    [theme=dark] .colab-df-convert:hover {\n",
              "      background-color: #434B5C;\n",
              "      box-shadow: 0px 1px 3px 1px rgba(0, 0, 0, 0.15);\n",
              "      filter: drop-shadow(0px 1px 2px rgba(0, 0, 0, 0.3));\n",
              "      fill: #FFFFFF;\n",
              "    }\n",
              "  </style>\n",
              "\n",
              "      <script>\n",
              "        const buttonEl =\n",
              "          document.querySelector('#df-63218b56-4fbf-43b8-b45e-40bc7ce847cb button.colab-df-convert');\n",
              "        buttonEl.style.display =\n",
              "          google.colab.kernel.accessAllowed ? 'block' : 'none';\n",
              "\n",
              "        async function convertToInteractive(key) {\n",
              "          const element = document.querySelector('#df-63218b56-4fbf-43b8-b45e-40bc7ce847cb');\n",
              "          const dataTable =\n",
              "            await google.colab.kernel.invokeFunction('convertToInteractive',\n",
              "                                                     [key], {});\n",
              "          if (!dataTable) return;\n",
              "\n",
              "          const docLinkHtml = 'Like what you see? Visit the ' +\n",
              "            '<a target=\"_blank\" href=https://colab.research.google.com/notebooks/data_table.ipynb>data table notebook</a>'\n",
              "            + ' to learn more about interactive tables.';\n",
              "          element.innerHTML = '';\n",
              "          dataTable['output_type'] = 'display_data';\n",
              "          await google.colab.output.renderOutput(dataTable, element);\n",
              "          const docLink = document.createElement('div');\n",
              "          docLink.innerHTML = docLinkHtml;\n",
              "          element.appendChild(docLink);\n",
              "        }\n",
              "      </script>\n",
              "    </div>\n",
              "  </div>\n",
              "  "
            ]
          },
          "metadata": {},
          "execution_count": 10
        }
      ],
      "source": [
        "df.describe()"
      ]
    },
    {
      "cell_type": "markdown",
      "metadata": {
        "id": "qfCEvxCTAWMV"
      },
      "source": [
        "##Q3 Scale the data using Standard Scaler"
      ]
    },
    {
      "cell_type": "markdown",
      "metadata": {
        "id": "9TiEh5yjAvmi"
      },
      "source": [
        "####Q3a According to you, why is scaling important in SVM? What are the different methods for scaling the data available in sklearn.preprocessing?"
      ]
    },
    {
      "cell_type": "code",
      "execution_count": 11,
      "metadata": {
        "id": "IZH32pSW8Ste"
      },
      "outputs": [],
      "source": [
        "from sklearn.preprocessing import StandardScaler\n",
        "scaler = StandardScaler()\n",
        "scaled = scaler.fit_transform(df)"
      ]
    },
    {
      "cell_type": "markdown",
      "source": [
        "\n",
        "\n",
        "```\n",
        "scaling is important to adjust all the feature values in the same range making it easier to visualize and draw conclusions.\n",
        "Scaling is crucial in SVM as SVM considers distances between observations and they differ fro scaled aand non scaled values.\n",
        "Two prominent methods are : 1. StandardScaler() 2.MinMaxScaler()\n",
        "Other methods are : MaxAbsScaler, Robustscaler\n",
        "```\n",
        "\n"
      ],
      "metadata": {
        "id": "BfguftI6QddX"
      }
    },
    {
      "cell_type": "markdown",
      "source": [],
      "metadata": {
        "id": "-MclqJ99hkXS"
      }
    },
    {
      "cell_type": "markdown",
      "metadata": {
        "id": "ris4X7S3Bg3E"
      },
      "source": [
        "##Q4 Split the data in traina and test set"
      ]
    },
    {
      "cell_type": "code",
      "execution_count": 12,
      "metadata": {
        "id": "6tRph5J18UcR"
      },
      "outputs": [],
      "source": [
        "from sklearn.model_selection import train_test_split\n",
        "X = df.drop(['target_class'], axis = 1)\n",
        "y = df['target_class']\n",
        "X_train, X_test, y_train, y_test = train_test_split(X, y, test_size = 0.3, random_state =0)"
      ]
    },
    {
      "cell_type": "markdown",
      "metadata": {
        "id": "fmrpw-xPAT5i"
      },
      "source": [
        "##Q5 Implement SVM"
      ]
    },
    {
      "cell_type": "markdown",
      "metadata": {
        "id": "hnSv4K9cFBnk"
      },
      "source": [
        "Different types of kernels in SVM:\n",
        "https://www.kaggle.com/discussions/questions-and-answers/326336\n"
      ]
    },
    {
      "cell_type": "markdown",
      "metadata": {
        "id": "QXZCpBvDAZIQ"
      },
      "source": [
        "###Q5a Linear SVM\n",
        "\n",
        "Apply Linear SVM for costs (C) = [0.1, 1, 10, 100, 1000], predict for the test set and check f1 score for each of the costs. State the best cost "
      ]
    },
    {
      "cell_type": "code",
      "execution_count": 13,
      "metadata": {
        "id": "XQ_H9e8Z8WRY"
      },
      "outputs": [],
      "source": [
        "from sklearn.svm import SVC\n",
        "linear_svc=SVC(kernel='linear', C=0.1)\n",
        "\n",
        "linear_svc.fit(X_train, y_train)\n",
        "y_pred_test=linear_svc.predict(X_test)"
      ]
    },
    {
      "cell_type": "code",
      "execution_count": 14,
      "metadata": {
        "id": "60G5RVxLUaoE"
      },
      "outputs": [],
      "source": [
        "linear_svc=SVC(kernel='linear', C=1)\n",
        "linear_svc.fit(X_train, y_train)\n",
        "y_pred_test1=linear_svc.predict(X_test)"
      ]
    },
    {
      "cell_type": "code",
      "execution_count": 15,
      "metadata": {
        "id": "pig0Wcy2SyNQ"
      },
      "outputs": [],
      "source": [
        "linear_svc=SVC(kernel='linear', C=10)\n",
        "linear_svc.fit(X_train, y_train)\n",
        "y_pred_test2=linear_svc.predict(X_test)"
      ]
    },
    {
      "cell_type": "code",
      "execution_count": 16,
      "metadata": {
        "id": "4p-LLeNqUe3w"
      },
      "outputs": [],
      "source": [
        "linear_svc=SVC(kernel='linear', C=100)\n",
        "linear_svc.fit(X_train, y_train)\n",
        "y_pred_test3=linear_svc.predict(X_test)"
      ]
    },
    {
      "cell_type": "code",
      "execution_count": 17,
      "metadata": {
        "id": "UWYuvinxUo2x"
      },
      "outputs": [],
      "source": [
        "linear_svc=SVC(kernel='linear', C=1000)\n",
        "linear_svc.fit(X_train, y_train)\n",
        "y_pred_test4=linear_svc.predict(X_test)"
      ]
    },
    {
      "cell_type": "code",
      "execution_count": 19,
      "metadata": {
        "id": "c3nGuyXdWutp",
        "colab": {
          "base_uri": "https://localhost:8080/"
        },
        "outputId": "ccb87d7e-8ab6-40d5-d675-d9bda87cbdcf"
      },
      "outputs": [
        {
          "output_type": "stream",
          "name": "stdout",
          "text": [
            "Model accuracy score with linear kernel and C=0.1 : 0.8727\n",
            "Model accuracy score with linear kernel and C=1 : 0.8700\n",
            "Model accuracy score with linear kernel and C=10 : 0.8721\n",
            "Model accuracy score with linear kernel and C=100 : 0.8677\n",
            "Model accuracy score with linear kernel and C=1000 : 0.8649\n"
          ]
        }
      ],
      "source": [
        "from sklearn.metrics import f1_score,accuracy_score\n",
        "print('Model f1 score with linear kernel and C=0.1 : {0:0.4f}'. format(f1_score(y_test, y_pred_test)))\n",
        "print('Model f1 score with linear kernel and C=1 : {0:0.4f}'. format(f1_score(y_test, y_pred_test1)))\n",
        "print('Model f1 score with linear kernel and C=10 : {0:0.4f}'. format(f1_score(y_test, y_pred_test2)))\n",
        "print('Model f1 score with linear kernel and C=100 : {0:0.4f}'. format(f1_score(y_test, y_pred_test3)))\n",
        "print('Model f1 score with linear kernel and C=1000 : {0:0.4f}'. format(f1_score(y_test,y_pred_test4)))"
      ]
    },
    {
      "cell_type": "code",
      "source": [
        "y_pred_train = linear_svc.predict(X_train)\n",
        "print('Training-set f1 score: {0:0.4f}'. format(f1_score(y_train, y_pred_train)))"
      ],
      "metadata": {
        "colab": {
          "base_uri": "https://localhost:8080/"
        },
        "id": "WWqwxPveOtAi",
        "outputId": "e2fdc39e-7090-4446-f622-39b011b5969d"
      },
      "execution_count": 40,
      "outputs": [
        {
          "output_type": "stream",
          "name": "stdout",
          "text": [
            "Training-set f1 score: 0.8502\n"
          ]
        }
      ]
    },
    {
      "cell_type": "code",
      "source": [
        "#best cost is 1000 with an f1_score of 0.8649"
      ],
      "metadata": {
        "id": "Lp3YwjmVE9L1"
      },
      "execution_count": 41,
      "outputs": []
    },
    {
      "cell_type": "markdown",
      "metadata": {
        "id": "ZfPGIeT6EO1e"
      },
      "source": [
        "###Q5b Polynomial Kernel"
      ]
    },
    {
      "cell_type": "markdown",
      "metadata": {
        "id": "3vwpxFdTEOx3"
      },
      "source": [
        "Apply Linear SVM for degrees = [1,2,3,4,5], predict for the test set and check f1 score for each of the degrees. State the best degree. "
      ]
    },
    {
      "cell_type": "code",
      "source": [
        "poly_svc = SVC(kernel = 'poly', degree = 1)\n",
        "poly_svc.fit(X_train, y_train)\n",
        "y_pred_d1 = poly_svc.predict(X_test)\n",
        "print(\"model f1 score with polynomial kernel and degree is 1 : {0:0.3f}\". format(f1_score(y_test,y_pred_d1)))"
      ],
      "metadata": {
        "id": "cb5nKZag_qna",
        "colab": {
          "base_uri": "https://localhost:8080/"
        },
        "outputId": "79053724-3569-4085-9d3a-438462722914"
      },
      "execution_count": 21,
      "outputs": [
        {
          "output_type": "stream",
          "name": "stdout",
          "text": [
            "model accuracy score with polynomial kernel and degree is 1 : 0.828\n"
          ]
        }
      ]
    },
    {
      "cell_type": "code",
      "source": [
        "poly_svc = SVC(kernel = 'poly', degree = 2)\n",
        "poly_svc.fit(X_train, y_train)\n",
        "y_pred_d2 = poly_svc.predict(X_test)\n",
        "print(\"model f1 score with polynomial kernel and degree is 2 : {0:0.3f}\". format(f1_score(y_test,y_pred_d2)))"
      ],
      "metadata": {
        "colab": {
          "base_uri": "https://localhost:8080/"
        },
        "id": "3Jm-B9LHBUOV",
        "outputId": "856e1fd5-1d57-4adc-ec4c-c7df87d9222b"
      },
      "execution_count": 25,
      "outputs": [
        {
          "output_type": "stream",
          "name": "stdout",
          "text": [
            "model accuracy score with polynomial kernel and degree is 2 : 0.843\n"
          ]
        }
      ]
    },
    {
      "cell_type": "code",
      "source": [
        "poly_svc = SVC(kernel = 'poly', degree = 3)\n",
        "poly_svc.fit(X_train, y_train)\n",
        "y_pred_d3 = poly_svc.predict(X_test)\n",
        "print(\"model f1 score with polynomial kernel and degree is 3 : {0:0.3f}\". format(f1_score(y_test,y_pred_d3)))"
      ],
      "metadata": {
        "colab": {
          "base_uri": "https://localhost:8080/"
        },
        "id": "b3v5__tVBUuX",
        "outputId": "5129c50f-ff76-4276-f67e-aa43b98be10a"
      },
      "execution_count": 24,
      "outputs": [
        {
          "output_type": "stream",
          "name": "stdout",
          "text": [
            "model accuracy score with polynomial kernel and degree is 3 : 0.851\n"
          ]
        }
      ]
    },
    {
      "cell_type": "code",
      "source": [
        "poly_svc = SVC(kernel = 'poly', degree = 4)\n",
        "poly_svc.fit(X_train, y_train)\n",
        "y_pred_d4 = poly_svc.predict(X_test)\n",
        "print(\"model f1 score with polynomial kernel and degree is 4 : {0:0.3f}\". format(f1_score(y_test,y_pred_d4)))"
      ],
      "metadata": {
        "colab": {
          "base_uri": "https://localhost:8080/"
        },
        "id": "qVvV3Z0QBVIO",
        "outputId": "3f83be3f-ca41-4471-8796-b5fb615912aa"
      },
      "execution_count": 23,
      "outputs": [
        {
          "output_type": "stream",
          "name": "stdout",
          "text": [
            "model accuracy score with polynomial kernel and degree is 4 : 0.854\n"
          ]
        }
      ]
    },
    {
      "cell_type": "code",
      "source": [
        "poly_svc = SVC(kernel = 'poly', degree = 5)\n",
        "poly_svc.fit(X_train, y_train)\n",
        "y_pred_d5 = poly_svc.predict(X_test)\n",
        "print(\"model f1 score with polynomial kernel and degree is 5 : {0:0.3f}\". format(f1_score(y_test,y_pred_d5)))"
      ],
      "metadata": {
        "colab": {
          "base_uri": "https://localhost:8080/"
        },
        "id": "fUBJiEGlBVkd",
        "outputId": "934c102c-e29c-44e0-e6d7-ca7bd0763b9c"
      },
      "execution_count": 22,
      "outputs": [
        {
          "output_type": "stream",
          "name": "stdout",
          "text": [
            "model accuracy score with polynomial kernel and degree is 5 : 0.838\n"
          ]
        }
      ]
    },
    {
      "cell_type": "code",
      "source": [
        "y_pred_train = poly_svc.predict(X_train)\n",
        "print('Training-set f1 score: {0:0.4f}'. format(f1_score(y_train, y_pred_train)))"
      ],
      "metadata": {
        "colab": {
          "base_uri": "https://localhost:8080/"
        },
        "id": "ssto5YvzO9df",
        "outputId": "153ae1c0-7b8a-4a80-9abf-6282b210822d"
      },
      "execution_count": 42,
      "outputs": [
        {
          "output_type": "stream",
          "name": "stdout",
          "text": [
            "Training-set f1 score: 0.8117\n"
          ]
        }
      ]
    },
    {
      "cell_type": "code",
      "source": [
        "#degree 1 gave the best result with an f1_score of 0.828"
      ],
      "metadata": {
        "id": "FaXb5ZhWE01Y"
      },
      "execution_count": 43,
      "outputs": []
    },
    {
      "cell_type": "markdown",
      "metadata": {
        "id": "3RnH4YwDDt8_"
      },
      "source": [
        "\n",
        "###Q5c Sigmoid Kernel"
      ]
    },
    {
      "cell_type": "markdown",
      "metadata": {
        "id": "0xQpdX-6D5By"
      },
      "source": [
        "Apply Linear SVM for costs (C) = [0.1, 1, 10, 100, 1000], predict for the test set and check f1 score for each of the costs. State the best cost "
      ]
    },
    {
      "cell_type": "code",
      "source": [
        "sig_svc = SVC(kernel = 'sigmoid', C = 0.1)\n",
        "sig_svc.fit(X_train, y_train)\n",
        "y_pred_s1 = sig_svc.predict(X_test)\n",
        "print(\"Model f1 score with sigmoid kernel and cost 0.1 : {0:0.4f}\". format(f1_score(y_test,y_pred_s1)))"
      ],
      "metadata": {
        "colab": {
          "base_uri": "https://localhost:8080/"
        },
        "id": "FSNK_hyZFTF2",
        "outputId": "8a03dcc7-119a-4a8f-947b-484d680df94f"
      },
      "execution_count": 34,
      "outputs": [
        {
          "output_type": "stream",
          "name": "stdout",
          "text": [
            "Model f1 score with sigmoid kernel and cost 0.1 : 0.5681\n"
          ]
        }
      ]
    },
    {
      "cell_type": "code",
      "source": [
        "sig_svc = SVC(kernel = 'sigmoid', C = 1)\n",
        "sig_svc.fit(X_train, y_train)\n",
        "y_pred_s2 = sig_svc.predict(X_test)\n",
        "print(\"Model f1 score with sigmoid kernel and cost 1 : {0:0.4f}\". format(f1_score(y_test,y_pred_s2)))"
      ],
      "metadata": {
        "colab": {
          "base_uri": "https://localhost:8080/"
        },
        "id": "jmI3XOUSHDa1",
        "outputId": "f97851f7-e225-4f35-f19b-f33ec1f3259a"
      },
      "execution_count": 33,
      "outputs": [
        {
          "output_type": "stream",
          "name": "stdout",
          "text": [
            "Model f1 score with sigmoid kernel and cost 1 : 0.5313\n"
          ]
        }
      ]
    },
    {
      "cell_type": "code",
      "source": [
        "sig_svc = SVC(kernel = 'sigmoid', C = 10)\n",
        "sig_svc.fit(X_train, y_train)\n",
        "y_pred_s3 = sig_svc.predict(X_test)\n",
        "print(\"Model f1 score with sigmoid kernel and cost 10 : {0:0.4f}\". format(f1_score(y_test,y_pred_s3)))"
      ],
      "metadata": {
        "colab": {
          "base_uri": "https://localhost:8080/"
        },
        "id": "nQlyCQslHESA",
        "outputId": "171ae09b-81f8-4a97-d0d8-2e02b74871f7"
      },
      "execution_count": 32,
      "outputs": [
        {
          "output_type": "stream",
          "name": "stdout",
          "text": [
            "Model f1 score with sigmoid kernel and cost 10 : 0.5226\n"
          ]
        }
      ]
    },
    {
      "cell_type": "code",
      "source": [
        "sig_svc = SVC(kernel = 'sigmoid', C = 100)\n",
        "sig_svc.fit(X_train, y_train)\n",
        "y_pred_s4 = sig_svc.predict(X_test)\n",
        "print(\"Model f1 score with sigmoid kernel and cost 100 : {0:0.4f}\". format(f1_score(y_test,y_pred_s4)))"
      ],
      "metadata": {
        "colab": {
          "base_uri": "https://localhost:8080/"
        },
        "id": "9v1cirfpHFAA",
        "outputId": "f430a912-75cf-4f58-972e-375589301041"
      },
      "execution_count": 31,
      "outputs": [
        {
          "output_type": "stream",
          "name": "stdout",
          "text": [
            "Model f1 score with sigmoid kernel and cost 100 : 0.5219\n"
          ]
        }
      ]
    },
    {
      "cell_type": "code",
      "source": [
        "sig_svc = SVC(kernel = 'sigmoid', C = 1000)\n",
        "sig_svc.fit(X_train, y_train)\n",
        "y_pred_s5 = sig_svc.predict(X_test)\n",
        "print(\"Model f1 score with sigmoid kernel and cost 1000 : {0:0.4f}\". format(f1_score(y_test,y_pred_s5)))"
      ],
      "metadata": {
        "colab": {
          "base_uri": "https://localhost:8080/"
        },
        "id": "_smtF7otHFX8",
        "outputId": "85214c5d-876f-4fae-d783-9187a481a2be"
      },
      "execution_count": 30,
      "outputs": [
        {
          "output_type": "stream",
          "name": "stdout",
          "text": [
            "Model f1 score with sigmoid kernel and cost 1000 : 0.5219\n"
          ]
        }
      ]
    },
    {
      "cell_type": "code",
      "source": [
        "y_pred_train = sig_svc.predict(X_train)\n",
        "print('Training-set f1 score: {0:0.4f}'. format(f1_score(y_train, y_pred_train)))"
      ],
      "metadata": {
        "colab": {
          "base_uri": "https://localhost:8080/"
        },
        "id": "JoRxe9aKPb1Y",
        "outputId": "216f5c82-9d0f-424e-8149-f201d53c005c"
      },
      "execution_count": 44,
      "outputs": [
        {
          "output_type": "stream",
          "name": "stdout",
          "text": [
            "Training-set f1 score: 0.5733\n"
          ]
        }
      ]
    },
    {
      "cell_type": "code",
      "source": [
        "#best cost is 0.1"
      ],
      "metadata": {
        "id": "IcFMy5deP3J4"
      },
      "execution_count": null,
      "outputs": []
    },
    {
      "cell_type": "markdown",
      "metadata": {
        "id": "xtz9KvY6AcE9"
      },
      "source": [
        "###Q5d RBF Kernel"
      ]
    },
    {
      "cell_type": "markdown",
      "metadata": {
        "id": "S85NYKGkDj0D"
      },
      "source": [
        "Apply Linear SVM for costs (C) = [0.1, 1, 10, 100, 1000], predict for the test set and check f1 score for each of the costs. State the best cost "
      ]
    },
    {
      "cell_type": "code",
      "source": [
        "rbf_svc = SVC(kernel = 'rbf', C = 0.1)\n",
        "rbf_svc.fit(X_train, y_train)\n",
        "y_pred_r1 = rbf_svc.predict(X_test)\n",
        "print(\"Model f1 score with rbf kernel and cost 0.1 : {0:0.4f}\". format(f1_score(y_test,y_pred_r1)))"
      ],
      "metadata": {
        "colab": {
          "base_uri": "https://localhost:8080/"
        },
        "id": "oQoBof4AIcqY",
        "outputId": "ae263eca-df51-4af6-ac9d-1001c2f254dd"
      },
      "execution_count": 35,
      "outputs": [
        {
          "output_type": "stream",
          "name": "stdout",
          "text": [
            "Model f1 score with rbf kernel and cost 0.1 : 0.8079\n"
          ]
        }
      ]
    },
    {
      "cell_type": "code",
      "source": [
        "rbf_svc = SVC(kernel = 'rbf', C = 1)\n",
        "rbf_svc.fit(X_train, y_train)\n",
        "y_pred_r2 = rbf_svc.predict(X_test)\n",
        "print(\"Model f1 score with rbf kernel and cost 1 : {0:0.4f}\". format(f1_score(y_test,y_pred_r2)))"
      ],
      "metadata": {
        "colab": {
          "base_uri": "https://localhost:8080/"
        },
        "id": "9R5mlz5RIhod",
        "outputId": "5216c7f9-fa48-42ce-eb79-44db370091dc"
      },
      "execution_count": 36,
      "outputs": [
        {
          "output_type": "stream",
          "name": "stdout",
          "text": [
            "Model f1 score with rbf kernel and cost 1 : 0.8426\n"
          ]
        }
      ]
    },
    {
      "cell_type": "code",
      "source": [
        "rbf_svc = SVC(kernel = 'rbf', C = 10)\n",
        "rbf_svc.fit(X_train, y_train)\n",
        "y_pred_r3 = rbf_svc.predict(X_test)\n",
        "print(\"Model f1 score with rbf kernel and cost 10 : {0:0.4f}\". format(f1_score(y_test,y_pred_r3)))"
      ],
      "metadata": {
        "colab": {
          "base_uri": "https://localhost:8080/"
        },
        "id": "ij_Y59OtIiGf",
        "outputId": "4e4960d7-715b-4359-e273-1895dedf3037"
      },
      "execution_count": 37,
      "outputs": [
        {
          "output_type": "stream",
          "name": "stdout",
          "text": [
            "Model f1 score with rbf kernel and cost 10 : 0.8508\n"
          ]
        }
      ]
    },
    {
      "cell_type": "code",
      "source": [
        "rbf_svc = SVC(kernel = 'rbf', C = 100)\n",
        "rbf_svc.fit(X_train, y_train)\n",
        "y_pred_r4 = rbf_svc.predict(X_test)\n",
        "print(\"Model f1 score with rbf kernel and cost 100 : {0:0.4f}\". format(f1_score(y_test,y_pred_r4)))"
      ],
      "metadata": {
        "colab": {
          "base_uri": "https://localhost:8080/"
        },
        "id": "G3aRQI_eItpj",
        "outputId": "694e2da3-3c2d-4b22-ba69-a9ceca302296"
      },
      "execution_count": 38,
      "outputs": [
        {
          "output_type": "stream",
          "name": "stdout",
          "text": [
            "Model f1 score with rbf kernel and cost 100 : 0.8786\n"
          ]
        }
      ]
    },
    {
      "cell_type": "code",
      "source": [
        "rbf_svc = SVC(kernel = 'rbf', C = 1000)\n",
        "rbf_svc.fit(X_train, y_train)\n",
        "y_pred_r5 = rbf_svc.predict(X_test)\n",
        "print(\"Model f1 score with rbf kernel and cost 1000 : {0:0.4f}\". format(f1_score(y_test,y_pred_r5)))"
      ],
      "metadata": {
        "colab": {
          "base_uri": "https://localhost:8080/"
        },
        "id": "eyssfJjbIuG7",
        "outputId": "f0651598-bd7b-4c6c-8350-9a05a093d611"
      },
      "execution_count": 39,
      "outputs": [
        {
          "output_type": "stream",
          "name": "stdout",
          "text": [
            "Model f1 score with rbf kernel and cost 1000 : 0.8716\n"
          ]
        }
      ]
    },
    {
      "cell_type": "code",
      "source": [
        "y_pred_train = rbf_svc.predict(X_train)\n",
        "print('Training-set f1 score: {0:0.4f}'. format(f1_score(y_train, y_pred_train)))"
      ],
      "metadata": {
        "colab": {
          "base_uri": "https://localhost:8080/"
        },
        "id": "evE4H0MFJVh_",
        "outputId": "3cd30fc8-c9e4-4a04-bff5-70da16634618"
      },
      "execution_count": 45,
      "outputs": [
        {
          "output_type": "stream",
          "name": "stdout",
          "text": [
            "Training-set f1 score: 0.8783\n"
          ]
        }
      ]
    },
    {
      "cell_type": "code",
      "source": [
        "#best cost is 100"
      ],
      "metadata": {
        "id": "QvIFwPjFP8Wq"
      },
      "execution_count": null,
      "outputs": []
    }
  ],
  "metadata": {
    "colab": {
      "provenance": [],
      "include_colab_link": true
    },
    "kernelspec": {
      "display_name": "Python 3",
      "name": "python3"
    },
    "language_info": {
      "name": "python"
    }
  },
  "nbformat": 4,
  "nbformat_minor": 0
}