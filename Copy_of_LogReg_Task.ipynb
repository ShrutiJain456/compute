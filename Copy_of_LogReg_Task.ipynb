{
  "cells": [
    {
      "cell_type": "markdown",
      "metadata": {
        "id": "view-in-github",
        "colab_type": "text"
      },
      "source": [
        "<a href=\"https://colab.research.google.com/github/ShrutiJain456/compute/blob/main/Copy_of_LogReg_Task.ipynb\" target=\"_parent\"><img src=\"https://colab.research.google.com/assets/colab-badge.svg\" alt=\"Open In Colab\"/></a>"
      ]
    },
    {
      "cell_type": "code",
      "execution_count": 2,
      "id": "f3e598a8",
      "metadata": {
        "id": "f3e598a8"
      },
      "outputs": [],
      "source": [
        "import pandas as pd\n",
        "import numpy as np\n",
        "import statsmodels.api as sm\n",
        "import scipy.stats as st\n",
        "import matplotlib.pyplot as plt\n",
        "import seaborn as sn\n",
        "from sklearn.metrics import confusion_matrix\n",
        "import matplotlib.mlab as mlab\n",
        "%matplotlib inline"
      ]
    },
    {
      "cell_type": "markdown",
      "source": [
        "###Q1 Import the dataset and try to understand what information each column is giving. What is our target variable? Is this a classification or regression problem?\n",
        "\n",
        "Dataset link: https://drive.google.com/file/d/1A-iAsI3MUU6o9oh5AE1NG1kVU5KD60Ms/view?usp=sharing\n"
      ],
      "metadata": {
        "id": "lpvkZBRBTjWy"
      },
      "id": "lpvkZBRBTjWy"
    },
    {
      "cell_type": "markdown",
      "source": [
        "\n",
        "\n",
        "```\n",
        "target variable is : TenYearCHD\n",
        "classication problem \n",
        "```\n",
        "\n"
      ],
      "metadata": {
        "id": "0e-xx2EAVvwm"
      },
      "id": "0e-xx2EAVvwm"
    },
    {
      "cell_type": "code",
      "source": [
        "#Import dataset\n",
        "df = pd.read_csv('/content/heart_study.csv')\n",
        "df"
      ],
      "metadata": {
        "id": "Tk7yD3E2bPct",
        "colab": {
          "base_uri": "https://localhost:8080/",
          "height": 488
        },
        "outputId": "00efb030-3a57-4ca3-e92c-df250253cf75"
      },
      "id": "Tk7yD3E2bPct",
      "execution_count": 3,
      "outputs": [
        {
          "output_type": "execute_result",
          "data": {
            "text/plain": [
              "      male  age  education  currentSmoker  cigsPerDay  BPMeds  \\\n",
              "0        1   39        4.0              0         0.0     0.0   \n",
              "1        0   46        2.0              0         0.0     0.0   \n",
              "2        1   48        1.0              1        20.0     0.0   \n",
              "3        0   61        3.0              1        30.0     0.0   \n",
              "4        0   46        3.0              1        23.0     0.0   \n",
              "...    ...  ...        ...            ...         ...     ...   \n",
              "4235     0   48        2.0              1        20.0     NaN   \n",
              "4236     0   44        1.0              1        15.0     0.0   \n",
              "4237     0   52        2.0              0         0.0     0.0   \n",
              "4238     1   40        3.0              0         0.0     0.0   \n",
              "4239     0   39        3.0              1        30.0     0.0   \n",
              "\n",
              "      prevalentStroke  prevalentHyp  diabetes  totChol  sysBP  diaBP    BMI  \\\n",
              "0                   0             0         0    195.0  106.0   70.0  26.97   \n",
              "1                   0             0         0    250.0  121.0   81.0  28.73   \n",
              "2                   0             0         0    245.0  127.5   80.0  25.34   \n",
              "3                   0             1         0    225.0  150.0   95.0  28.58   \n",
              "4                   0             0         0    285.0  130.0   84.0  23.10   \n",
              "...               ...           ...       ...      ...    ...    ...    ...   \n",
              "4235                0             0         0    248.0  131.0   72.0  22.00   \n",
              "4236                0             0         0    210.0  126.5   87.0  19.16   \n",
              "4237                0             0         0    269.0  133.5   83.0  21.47   \n",
              "4238                0             1         0    185.0  141.0   98.0  25.60   \n",
              "4239                0             0         0    196.0  133.0   86.0  20.91   \n",
              "\n",
              "      heartRate  glucose  TenYearCHD  \n",
              "0          80.0     77.0           0  \n",
              "1          95.0     76.0           0  \n",
              "2          75.0     70.0           0  \n",
              "3          65.0    103.0           1  \n",
              "4          85.0     85.0           0  \n",
              "...         ...      ...         ...  \n",
              "4235       84.0     86.0           0  \n",
              "4236       86.0      NaN           0  \n",
              "4237       80.0    107.0           0  \n",
              "4238       67.0     72.0           0  \n",
              "4239       85.0     80.0           0  \n",
              "\n",
              "[4240 rows x 16 columns]"
            ],
            "text/html": [
              "\n",
              "  <div id=\"df-e919e102-8379-4658-ad27-2752cd7b1d5f\">\n",
              "    <div class=\"colab-df-container\">\n",
              "      <div>\n",
              "<style scoped>\n",
              "    .dataframe tbody tr th:only-of-type {\n",
              "        vertical-align: middle;\n",
              "    }\n",
              "\n",
              "    .dataframe tbody tr th {\n",
              "        vertical-align: top;\n",
              "    }\n",
              "\n",
              "    .dataframe thead th {\n",
              "        text-align: right;\n",
              "    }\n",
              "</style>\n",
              "<table border=\"1\" class=\"dataframe\">\n",
              "  <thead>\n",
              "    <tr style=\"text-align: right;\">\n",
              "      <th></th>\n",
              "      <th>male</th>\n",
              "      <th>age</th>\n",
              "      <th>education</th>\n",
              "      <th>currentSmoker</th>\n",
              "      <th>cigsPerDay</th>\n",
              "      <th>BPMeds</th>\n",
              "      <th>prevalentStroke</th>\n",
              "      <th>prevalentHyp</th>\n",
              "      <th>diabetes</th>\n",
              "      <th>totChol</th>\n",
              "      <th>sysBP</th>\n",
              "      <th>diaBP</th>\n",
              "      <th>BMI</th>\n",
              "      <th>heartRate</th>\n",
              "      <th>glucose</th>\n",
              "      <th>TenYearCHD</th>\n",
              "    </tr>\n",
              "  </thead>\n",
              "  <tbody>\n",
              "    <tr>\n",
              "      <th>0</th>\n",
              "      <td>1</td>\n",
              "      <td>39</td>\n",
              "      <td>4.0</td>\n",
              "      <td>0</td>\n",
              "      <td>0.0</td>\n",
              "      <td>0.0</td>\n",
              "      <td>0</td>\n",
              "      <td>0</td>\n",
              "      <td>0</td>\n",
              "      <td>195.0</td>\n",
              "      <td>106.0</td>\n",
              "      <td>70.0</td>\n",
              "      <td>26.97</td>\n",
              "      <td>80.0</td>\n",
              "      <td>77.0</td>\n",
              "      <td>0</td>\n",
              "    </tr>\n",
              "    <tr>\n",
              "      <th>1</th>\n",
              "      <td>0</td>\n",
              "      <td>46</td>\n",
              "      <td>2.0</td>\n",
              "      <td>0</td>\n",
              "      <td>0.0</td>\n",
              "      <td>0.0</td>\n",
              "      <td>0</td>\n",
              "      <td>0</td>\n",
              "      <td>0</td>\n",
              "      <td>250.0</td>\n",
              "      <td>121.0</td>\n",
              "      <td>81.0</td>\n",
              "      <td>28.73</td>\n",
              "      <td>95.0</td>\n",
              "      <td>76.0</td>\n",
              "      <td>0</td>\n",
              "    </tr>\n",
              "    <tr>\n",
              "      <th>2</th>\n",
              "      <td>1</td>\n",
              "      <td>48</td>\n",
              "      <td>1.0</td>\n",
              "      <td>1</td>\n",
              "      <td>20.0</td>\n",
              "      <td>0.0</td>\n",
              "      <td>0</td>\n",
              "      <td>0</td>\n",
              "      <td>0</td>\n",
              "      <td>245.0</td>\n",
              "      <td>127.5</td>\n",
              "      <td>80.0</td>\n",
              "      <td>25.34</td>\n",
              "      <td>75.0</td>\n",
              "      <td>70.0</td>\n",
              "      <td>0</td>\n",
              "    </tr>\n",
              "    <tr>\n",
              "      <th>3</th>\n",
              "      <td>0</td>\n",
              "      <td>61</td>\n",
              "      <td>3.0</td>\n",
              "      <td>1</td>\n",
              "      <td>30.0</td>\n",
              "      <td>0.0</td>\n",
              "      <td>0</td>\n",
              "      <td>1</td>\n",
              "      <td>0</td>\n",
              "      <td>225.0</td>\n",
              "      <td>150.0</td>\n",
              "      <td>95.0</td>\n",
              "      <td>28.58</td>\n",
              "      <td>65.0</td>\n",
              "      <td>103.0</td>\n",
              "      <td>1</td>\n",
              "    </tr>\n",
              "    <tr>\n",
              "      <th>4</th>\n",
              "      <td>0</td>\n",
              "      <td>46</td>\n",
              "      <td>3.0</td>\n",
              "      <td>1</td>\n",
              "      <td>23.0</td>\n",
              "      <td>0.0</td>\n",
              "      <td>0</td>\n",
              "      <td>0</td>\n",
              "      <td>0</td>\n",
              "      <td>285.0</td>\n",
              "      <td>130.0</td>\n",
              "      <td>84.0</td>\n",
              "      <td>23.10</td>\n",
              "      <td>85.0</td>\n",
              "      <td>85.0</td>\n",
              "      <td>0</td>\n",
              "    </tr>\n",
              "    <tr>\n",
              "      <th>...</th>\n",
              "      <td>...</td>\n",
              "      <td>...</td>\n",
              "      <td>...</td>\n",
              "      <td>...</td>\n",
              "      <td>...</td>\n",
              "      <td>...</td>\n",
              "      <td>...</td>\n",
              "      <td>...</td>\n",
              "      <td>...</td>\n",
              "      <td>...</td>\n",
              "      <td>...</td>\n",
              "      <td>...</td>\n",
              "      <td>...</td>\n",
              "      <td>...</td>\n",
              "      <td>...</td>\n",
              "      <td>...</td>\n",
              "    </tr>\n",
              "    <tr>\n",
              "      <th>4235</th>\n",
              "      <td>0</td>\n",
              "      <td>48</td>\n",
              "      <td>2.0</td>\n",
              "      <td>1</td>\n",
              "      <td>20.0</td>\n",
              "      <td>NaN</td>\n",
              "      <td>0</td>\n",
              "      <td>0</td>\n",
              "      <td>0</td>\n",
              "      <td>248.0</td>\n",
              "      <td>131.0</td>\n",
              "      <td>72.0</td>\n",
              "      <td>22.00</td>\n",
              "      <td>84.0</td>\n",
              "      <td>86.0</td>\n",
              "      <td>0</td>\n",
              "    </tr>\n",
              "    <tr>\n",
              "      <th>4236</th>\n",
              "      <td>0</td>\n",
              "      <td>44</td>\n",
              "      <td>1.0</td>\n",
              "      <td>1</td>\n",
              "      <td>15.0</td>\n",
              "      <td>0.0</td>\n",
              "      <td>0</td>\n",
              "      <td>0</td>\n",
              "      <td>0</td>\n",
              "      <td>210.0</td>\n",
              "      <td>126.5</td>\n",
              "      <td>87.0</td>\n",
              "      <td>19.16</td>\n",
              "      <td>86.0</td>\n",
              "      <td>NaN</td>\n",
              "      <td>0</td>\n",
              "    </tr>\n",
              "    <tr>\n",
              "      <th>4237</th>\n",
              "      <td>0</td>\n",
              "      <td>52</td>\n",
              "      <td>2.0</td>\n",
              "      <td>0</td>\n",
              "      <td>0.0</td>\n",
              "      <td>0.0</td>\n",
              "      <td>0</td>\n",
              "      <td>0</td>\n",
              "      <td>0</td>\n",
              "      <td>269.0</td>\n",
              "      <td>133.5</td>\n",
              "      <td>83.0</td>\n",
              "      <td>21.47</td>\n",
              "      <td>80.0</td>\n",
              "      <td>107.0</td>\n",
              "      <td>0</td>\n",
              "    </tr>\n",
              "    <tr>\n",
              "      <th>4238</th>\n",
              "      <td>1</td>\n",
              "      <td>40</td>\n",
              "      <td>3.0</td>\n",
              "      <td>0</td>\n",
              "      <td>0.0</td>\n",
              "      <td>0.0</td>\n",
              "      <td>0</td>\n",
              "      <td>1</td>\n",
              "      <td>0</td>\n",
              "      <td>185.0</td>\n",
              "      <td>141.0</td>\n",
              "      <td>98.0</td>\n",
              "      <td>25.60</td>\n",
              "      <td>67.0</td>\n",
              "      <td>72.0</td>\n",
              "      <td>0</td>\n",
              "    </tr>\n",
              "    <tr>\n",
              "      <th>4239</th>\n",
              "      <td>0</td>\n",
              "      <td>39</td>\n",
              "      <td>3.0</td>\n",
              "      <td>1</td>\n",
              "      <td>30.0</td>\n",
              "      <td>0.0</td>\n",
              "      <td>0</td>\n",
              "      <td>0</td>\n",
              "      <td>0</td>\n",
              "      <td>196.0</td>\n",
              "      <td>133.0</td>\n",
              "      <td>86.0</td>\n",
              "      <td>20.91</td>\n",
              "      <td>85.0</td>\n",
              "      <td>80.0</td>\n",
              "      <td>0</td>\n",
              "    </tr>\n",
              "  </tbody>\n",
              "</table>\n",
              "<p>4240 rows × 16 columns</p>\n",
              "</div>\n",
              "      <button class=\"colab-df-convert\" onclick=\"convertToInteractive('df-e919e102-8379-4658-ad27-2752cd7b1d5f')\"\n",
              "              title=\"Convert this dataframe to an interactive table.\"\n",
              "              style=\"display:none;\">\n",
              "        \n",
              "  <svg xmlns=\"http://www.w3.org/2000/svg\" height=\"24px\"viewBox=\"0 0 24 24\"\n",
              "       width=\"24px\">\n",
              "    <path d=\"M0 0h24v24H0V0z\" fill=\"none\"/>\n",
              "    <path d=\"M18.56 5.44l.94 2.06.94-2.06 2.06-.94-2.06-.94-.94-2.06-.94 2.06-2.06.94zm-11 1L8.5 8.5l.94-2.06 2.06-.94-2.06-.94L8.5 2.5l-.94 2.06-2.06.94zm10 10l.94 2.06.94-2.06 2.06-.94-2.06-.94-.94-2.06-.94 2.06-2.06.94z\"/><path d=\"M17.41 7.96l-1.37-1.37c-.4-.4-.92-.59-1.43-.59-.52 0-1.04.2-1.43.59L10.3 9.45l-7.72 7.72c-.78.78-.78 2.05 0 2.83L4 21.41c.39.39.9.59 1.41.59.51 0 1.02-.2 1.41-.59l7.78-7.78 2.81-2.81c.8-.78.8-2.07 0-2.86zM5.41 20L4 18.59l7.72-7.72 1.47 1.35L5.41 20z\"/>\n",
              "  </svg>\n",
              "      </button>\n",
              "      \n",
              "  <style>\n",
              "    .colab-df-container {\n",
              "      display:flex;\n",
              "      flex-wrap:wrap;\n",
              "      gap: 12px;\n",
              "    }\n",
              "\n",
              "    .colab-df-convert {\n",
              "      background-color: #E8F0FE;\n",
              "      border: none;\n",
              "      border-radius: 50%;\n",
              "      cursor: pointer;\n",
              "      display: none;\n",
              "      fill: #1967D2;\n",
              "      height: 32px;\n",
              "      padding: 0 0 0 0;\n",
              "      width: 32px;\n",
              "    }\n",
              "\n",
              "    .colab-df-convert:hover {\n",
              "      background-color: #E2EBFA;\n",
              "      box-shadow: 0px 1px 2px rgba(60, 64, 67, 0.3), 0px 1px 3px 1px rgba(60, 64, 67, 0.15);\n",
              "      fill: #174EA6;\n",
              "    }\n",
              "\n",
              "    [theme=dark] .colab-df-convert {\n",
              "      background-color: #3B4455;\n",
              "      fill: #D2E3FC;\n",
              "    }\n",
              "\n",
              "    [theme=dark] .colab-df-convert:hover {\n",
              "      background-color: #434B5C;\n",
              "      box-shadow: 0px 1px 3px 1px rgba(0, 0, 0, 0.15);\n",
              "      filter: drop-shadow(0px 1px 2px rgba(0, 0, 0, 0.3));\n",
              "      fill: #FFFFFF;\n",
              "    }\n",
              "  </style>\n",
              "\n",
              "      <script>\n",
              "        const buttonEl =\n",
              "          document.querySelector('#df-e919e102-8379-4658-ad27-2752cd7b1d5f button.colab-df-convert');\n",
              "        buttonEl.style.display =\n",
              "          google.colab.kernel.accessAllowed ? 'block' : 'none';\n",
              "\n",
              "        async function convertToInteractive(key) {\n",
              "          const element = document.querySelector('#df-e919e102-8379-4658-ad27-2752cd7b1d5f');\n",
              "          const dataTable =\n",
              "            await google.colab.kernel.invokeFunction('convertToInteractive',\n",
              "                                                     [key], {});\n",
              "          if (!dataTable) return;\n",
              "\n",
              "          const docLinkHtml = 'Like what you see? Visit the ' +\n",
              "            '<a target=\"_blank\" href=https://colab.research.google.com/notebooks/data_table.ipynb>data table notebook</a>'\n",
              "            + ' to learn more about interactive tables.';\n",
              "          element.innerHTML = '';\n",
              "          dataTable['output_type'] = 'display_data';\n",
              "          await google.colab.output.renderOutput(dataTable, element);\n",
              "          const docLink = document.createElement('div');\n",
              "          docLink.innerHTML = docLinkHtml;\n",
              "          element.appendChild(docLink);\n",
              "        }\n",
              "      </script>\n",
              "    </div>\n",
              "  </div>\n",
              "  "
            ]
          },
          "metadata": {},
          "execution_count": 3
        }
      ]
    },
    {
      "cell_type": "markdown",
      "source": [
        "sex : male or female (Nominal)\n",
        "\n",
        "age : age of the patient (Continuous)\n",
        "\n",
        "education: maximum level of education of the patient\n",
        "\n",
        "currentSmoker : whether or not the patient is a current smoker (Nominal)\n",
        "\n",
        "cigsPerDay : the number of cigarettes that the person smoked on average in one day (Continuous)\n",
        "\n",
        "BPMeds : whether or not the patient was on blood pressure medication (Nominal)\n",
        "\n",
        "prevalentStroke : whether or not the patient had previously had a stroke (Nominal)\n",
        "\n",
        "prevalentHyp : whether or not the patient was Hypertension (Nominal)\n",
        "\n",
        "diabetes : whether or not the patient had diabetes (Nominal)\n",
        "\n",
        "totChol : total cholesterol level (Continuous)\n",
        "\n",
        "sysBP : systolic blood pressure (Continuous)\n",
        "\n",
        "diaBP : diastolic blood pressure (Continuous)\n",
        "\n",
        "BMI : Body Mass Index (Continuous)\n",
        "\n",
        "heartRate : heart rate (Continuous)\n",
        "\n",
        "glucose : glucose level (Continuous)\n",
        "\n",
        "TenYearCHD : 10 year risk of Coronary Heart Disease (CHD) (binary: 1 (Yes), 0 (No))"
      ],
      "metadata": {
        "id": "xQCirxWhT03R"
      },
      "id": "xQCirxWhT03R"
    },
    {
      "cell_type": "markdown",
      "source": [
        "###Q2. Are there any columns which give information about something totally irrelevant to whether a person has a heart disease or not? If yes, drop the column. Also rename the column 'male' to 'sex_male'."
      ],
      "metadata": {
        "id": "W04MdijOULuY"
      },
      "id": "W04MdijOULuY"
    },
    {
      "cell_type": "code",
      "source": [
        "#drop and/or rename columns\n",
        "df.drop('education', axis = 1, inplace = True) #education is an irrelevant column to whether a person has a heart disease or not\n",
        "df.rename(columns = {'male' : 'sex_male'}, inplace = True)"
      ],
      "metadata": {
        "id": "-Tm933YkT2Tn"
      },
      "id": "-Tm933YkT2Tn",
      "execution_count": 4,
      "outputs": []
    },
    {
      "cell_type": "markdown",
      "source": [
        "###Q3. Find the number of null values in each column and decide whether you can drop them or not. If you cannot drop them, use an appropriate method to deal with them"
      ],
      "metadata": {
        "id": "rJ8_1AZ6UmF6"
      },
      "id": "rJ8_1AZ6UmF6"
    },
    {
      "cell_type": "code",
      "source": [
        "#df.info()\n",
        " #since dtype for all coluns is object, we need to convert it to numeric\n",
        "df =df.apply(pd.to_numeric, errors = 'coerce')\n",
        "df.info()"
      ],
      "metadata": {
        "colab": {
          "base_uri": "https://localhost:8080/"
        },
        "id": "EdkT4_WPFqbF",
        "outputId": "d32431cc-23b4-4188-9f82-840e606d233c"
      },
      "id": "EdkT4_WPFqbF",
      "execution_count": 5,
      "outputs": [
        {
          "output_type": "stream",
          "name": "stdout",
          "text": [
            "<class 'pandas.core.frame.DataFrame'>\n",
            "RangeIndex: 4240 entries, 0 to 4239\n",
            "Data columns (total 15 columns):\n",
            " #   Column           Non-Null Count  Dtype  \n",
            "---  ------           --------------  -----  \n",
            " 0   sex_male         4240 non-null   int64  \n",
            " 1   age              4240 non-null   int64  \n",
            " 2   currentSmoker    4240 non-null   int64  \n",
            " 3   cigsPerDay       4211 non-null   float64\n",
            " 4   BPMeds           4187 non-null   float64\n",
            " 5   prevalentStroke  4240 non-null   int64  \n",
            " 6   prevalentHyp     4240 non-null   int64  \n",
            " 7   diabetes         4240 non-null   int64  \n",
            " 8   totChol          4190 non-null   float64\n",
            " 9   sysBP            4240 non-null   float64\n",
            " 10  diaBP            4240 non-null   float64\n",
            " 11  BMI              4221 non-null   float64\n",
            " 12  heartRate        4239 non-null   float64\n",
            " 13  glucose          3852 non-null   float64\n",
            " 14  TenYearCHD       4240 non-null   int64  \n",
            "dtypes: float64(8), int64(7)\n",
            "memory usage: 497.0 KB\n"
          ]
        }
      ]
    },
    {
      "cell_type": "code",
      "source": [
        "#Deal with null values\n",
        "\n",
        " #lets find out the percentage of missing or NaN values to entire dataset \n",
        "count = 0\n",
        "for i in df.isnull().sum(axis = 1):\n",
        "  if i > 0:\n",
        "    count = count + 1\n",
        "percent = (count/len(df)*100)\n",
        "\n",
        "print(\"total number of rows with missing values is: \",count)\n",
        "print(\"percent of null/missing vlaues to entre dataset:\", percent)"
      ],
      "metadata": {
        "id": "wT_73n8EbWmm",
        "colab": {
          "base_uri": "https://localhost:8080/"
        },
        "outputId": "9c272a35-d868-4a8f-e565-58d91b0db67f"
      },
      "id": "wT_73n8EbWmm",
      "execution_count": 6,
      "outputs": [
        {
          "output_type": "stream",
          "name": "stdout",
          "text": [
            "total number of rows with missing values is:  489\n",
            "percent of null/missing vlaues to entre dataset: 11.533018867924529\n"
          ]
        }
      ]
    },
    {
      "cell_type": "code",
      "source": [
        "#Since percentage is less than 15, we will drop the missing values\n",
        "df = df.dropna()\n",
        "df.isnull().sum()"
      ],
      "metadata": {
        "colab": {
          "base_uri": "https://localhost:8080/"
        },
        "id": "7CsO2eN1H0IF",
        "outputId": "0a644163-c936-4b4a-eaf2-223953caed23"
      },
      "id": "7CsO2eN1H0IF",
      "execution_count": 7,
      "outputs": [
        {
          "output_type": "execute_result",
          "data": {
            "text/plain": [
              "sex_male           0\n",
              "age                0\n",
              "currentSmoker      0\n",
              "cigsPerDay         0\n",
              "BPMeds             0\n",
              "prevalentStroke    0\n",
              "prevalentHyp       0\n",
              "diabetes           0\n",
              "totChol            0\n",
              "sysBP              0\n",
              "diaBP              0\n",
              "BMI                0\n",
              "heartRate          0\n",
              "glucose            0\n",
              "TenYearCHD         0\n",
              "dtype: int64"
            ]
          },
          "metadata": {},
          "execution_count": 7
        }
      ]
    },
    {
      "cell_type": "markdown",
      "source": [
        "###Q4. The following code is set up for you, replace 'dataframe' with the name of the your variable. What do you understand from this EDA? Why do some graphs have only two bars, at 0 and 1 and others have multiple?"
      ],
      "metadata": {
        "id": "CIa2gyH9U17n"
      },
      "id": "CIa2gyH9U17n"
    },
    {
      "cell_type": "markdown",
      "source": [
        "\n",
        "\n",
        "```\n",
        "The given EDA simply shows the distribution of values of each of the features; dominating values or range of values can be figured.\n",
        "For eg. Age distribution reflects that the given data is majorly collected from people ranging from 37 to 48 years of age.\n",
        "Some columns are classifiers for if a person has a certain feature or not for the values are 1 and 0 respectively and hence \n",
        "their graphs have just 2 bars whereas other features which are a measurable quantity show multiple bars signifying counts of \n",
        "various different values.\n",
        "\n",
        "```\n",
        "\n"
      ],
      "metadata": {
        "id": "L83-cKuNWrhG"
      },
      "id": "L83-cKuNWrhG"
    },
    {
      "cell_type": "code",
      "execution_count": 8,
      "id": "2e63f28a",
      "metadata": {
        "id": "2e63f28a",
        "colab": {
          "base_uri": "https://localhost:8080/",
          "height": 994
        },
        "outputId": "498ba2e2-405e-4f2e-993e-c6dbacb60da3"
      },
      "outputs": [
        {
          "output_type": "display_data",
          "data": {
            "text/plain": [
              "<Figure size 1440x1440 with 15 Axes>"
            ],
            "image/png": "[encoded data removed]"
          },
          "metadata": {
            "needs_background": "light"
          }
        }
      ],
      "source": [
        "def draw_histograms(dataframe, features, rows, cols):\n",
        "    fig=plt.figure(figsize=(20,20))\n",
        "    for i, feature in enumerate(features):\n",
        "        ax=fig.add_subplot(rows,cols,i+1)\n",
        "        dataframe[feature].hist(bins=20,ax=ax,facecolor='red')\n",
        "        ax.set_title(feature+\"Distribution\", color='blue')\n",
        "    fig.tight_layout()\n",
        "    plt.show()\n",
        "draw_histograms(df, df.columns, 6, 3)"
      ]
    },
    {
      "cell_type": "markdown",
      "source": [
        "###Q5. Using sns.countplot find out number of Positive cases and Negative cases in the dataset, i.e., in your target column."
      ],
      "metadata": {
        "id": "ejFQdFbDVZ_Z"
      },
      "id": "ejFQdFbDVZ_Z"
    },
    {
      "cell_type": "code",
      "execution_count": 9,
      "id": "80c234a7",
      "metadata": {
        "id": "80c234a7",
        "colab": {
          "base_uri": "https://localhost:8080/",
          "height": 296
        },
        "outputId": "18872f06-c84d-4cc0-99f3-25ea6446928b"
      },
      "outputs": [
        {
          "output_type": "execute_result",
          "data": {
            "text/plain": [
              "<matplotlib.axes._subplots.AxesSubplot at 0x7ff34541bdc0>"
            ]
          },
          "metadata": {},
          "execution_count": 9
        },
        {
          "output_type": "display_data",
          "data": {
            "text/plain": [
              "<Figure size 432x288 with 1 Axes>"
            ],
            "image/png": "[encoded data removed]"
          },
          "metadata": {
            "needs_background": "light"
          }
        }
      ],
      "source": [
        "#Code\n",
        "import seaborn as sns\n",
        "sns.countplot(x = 'TenYearCHD', data = df)"
      ]
    },
    {
      "cell_type": "code",
      "source": [
        "df['TenYearCHD'].value_counts()"
      ],
      "metadata": {
        "colab": {
          "base_uri": "https://localhost:8080/"
        },
        "id": "BjI9dZ_kl61R",
        "outputId": "e9504c73-a4da-4aae-9f54-25faea2fa212"
      },
      "id": "BjI9dZ_kl61R",
      "execution_count": 10,
      "outputs": [
        {
          "output_type": "execute_result",
          "data": {
            "text/plain": [
              "0    3179\n",
              "1     572\n",
              "Name: TenYearCHD, dtype: int64"
            ]
          },
          "metadata": {},
          "execution_count": 10
        }
      ]
    },
    {
      "cell_type": "markdown",
      "source": [
        "###Q6a. Split the dataset into train and test and fit the training dataset in the Logistic Regression. "
      ],
      "metadata": {
        "id": "mj0ExaFaWZlH"
      },
      "id": "mj0ExaFaWZlH"
    },
    {
      "cell_type": "code",
      "source": [
        "#Split the dataset and fit the model\n",
        "from sklearn.model_selection import train_test_split\n",
        "X = df.drop('TenYearCHD', axis = 1)\n",
        "y = df['TenYearCHD']\n",
        "X_train, X_test, y_train, y_test = train_test_split(X, y)\n"
      ],
      "metadata": {
        "id": "x2p0VehmWDpD"
      },
      "id": "x2p0VehmWDpD",
      "execution_count": 11,
      "outputs": []
    },
    {
      "cell_type": "markdown",
      "source": [
        "###Q6b. Does running the above code give a Convergence Warning? What could be the cause of this problem? Try to find out methods that can deal with this problem."
      ],
      "metadata": {
        "id": "40dI3XQSWrDh"
      },
      "id": "40dI3XQSWrDh"
    },
    {
      "cell_type": "markdown",
      "source": [
        "\n",
        "\n",
        "```\n",
        "#doubt : no warning received above but in later stages.\n",
        "```\n",
        "\n"
      ],
      "metadata": {
        "id": "BesnQX_BhQUj"
      },
      "id": "BesnQX_BhQUj"
    },
    {
      "cell_type": "markdown",
      "id": "2caf8c74",
      "metadata": {
        "id": "2caf8c74"
      },
      "source": [
        "Although there are several methods, we will use backward feature selection to solve this problem. You can learn more about feature selection using the below link. \n",
        "\n",
        "https://www.javatpoint.com/feature-selection-techniques-in-machine-learning\n",
        "\n",
        "Understand and run the following 4 cells which carry out backward feature selection for you. Make sure to replace 'df' by your dataframe variable"
      ]
    },
    {
      "cell_type": "code",
      "execution_count": 12,
      "id": "fff22648",
      "metadata": {
        "id": "fff22648",
        "colab": {
          "base_uri": "https://localhost:8080/",
          "height": 305
        },
        "outputId": "1397fda5-603b-42f2-d30d-196396fd9787"
      },
      "outputs": [
        {
          "output_type": "stream",
          "name": "stderr",
          "text": [
            "/usr/local/lib/python3.8/dist-packages/statsmodels/tsa/tsatools.py:142: FutureWarning: In a future version of pandas all arguments of concat except for the argument 'objs' will be keyword-only\n",
            "  x = pd.concat(x[::order], 1)\n"
          ]
        },
        {
          "output_type": "execute_result",
          "data": {
            "text/plain": [
              "   const  sex_male  age  currentSmoker  cigsPerDay  BPMeds  prevalentStroke  \\\n",
              "0    1.0         1   39              0         0.0     0.0                0   \n",
              "1    1.0         0   46              0         0.0     0.0                0   \n",
              "2    1.0         1   48              1        20.0     0.0                0   \n",
              "3    1.0         0   61              1        30.0     0.0                0   \n",
              "4    1.0         0   46              1        23.0     0.0                0   \n",
              "\n",
              "   prevalentHyp  diabetes  totChol  sysBP  diaBP    BMI  heartRate  glucose  \\\n",
              "0             0         0    195.0  106.0   70.0  26.97       80.0     77.0   \n",
              "1             0         0    250.0  121.0   81.0  28.73       95.0     76.0   \n",
              "2             0         0    245.0  127.5   80.0  25.34       75.0     70.0   \n",
              "3             1         0    225.0  150.0   95.0  28.58       65.0    103.0   \n",
              "4             0         0    285.0  130.0   84.0  23.10       85.0     85.0   \n",
              "\n",
              "   TenYearCHD  \n",
              "0           0  \n",
              "1           0  \n",
              "2           0  \n",
              "3           1  \n",
              "4           0  "
            ],
            "text/html": [
              "\n",
              "  <div id=\"df-5fa67809-ac19-4ffa-a844-227ca36754d6\">\n",
              "    <div class=\"colab-df-container\">\n",
              "      <div>\n",
              "<style scoped>\n",
              "    .dataframe tbody tr th:only-of-type {\n",
              "        vertical-align: middle;\n",
              "    }\n",
              "\n",
              "    .dataframe tbody tr th {\n",
              "        vertical-align: top;\n",
              "    }\n",
              "\n",
              "    .dataframe thead th {\n",
              "        text-align: right;\n",
              "    }\n",
              "</style>\n",
              "<table border=\"1\" class=\"dataframe\">\n",
              "  <thead>\n",
              "    <tr style=\"text-align: right;\">\n",
              "      <th></th>\n",
              "      <th>const</th>\n",
              "      <th>sex_male</th>\n",
              "      <th>age</th>\n",
              "      <th>currentSmoker</th>\n",
              "      <th>cigsPerDay</th>\n",
              "      <th>BPMeds</th>\n",
              "      <th>prevalentStroke</th>\n",
              "      <th>prevalentHyp</th>\n",
              "      <th>diabetes</th>\n",
              "      <th>totChol</th>\n",
              "      <th>sysBP</th>\n",
              "      <th>diaBP</th>\n",
              "      <th>BMI</th>\n",
              "      <th>heartRate</th>\n",
              "      <th>glucose</th>\n",
              "      <th>TenYearCHD</th>\n",
              "    </tr>\n",
              "  </thead>\n",
              "  <tbody>\n",
              "    <tr>\n",
              "      <th>0</th>\n",
              "      <td>1.0</td>\n",
              "      <td>1</td>\n",
              "      <td>39</td>\n",
              "      <td>0</td>\n",
              "      <td>0.0</td>\n",
              "      <td>0.0</td>\n",
              "      <td>0</td>\n",
              "      <td>0</td>\n",
              "      <td>0</td>\n",
              "      <td>195.0</td>\n",
              "      <td>106.0</td>\n",
              "      <td>70.0</td>\n",
              "      <td>26.97</td>\n",
              "      <td>80.0</td>\n",
              "      <td>77.0</td>\n",
              "      <td>0</td>\n",
              "    </tr>\n",
              "    <tr>\n",
              "      <th>1</th>\n",
              "      <td>1.0</td>\n",
              "      <td>0</td>\n",
              "      <td>46</td>\n",
              "      <td>0</td>\n",
              "      <td>0.0</td>\n",
              "      <td>0.0</td>\n",
              "      <td>0</td>\n",
              "      <td>0</td>\n",
              "      <td>0</td>\n",
              "      <td>250.0</td>\n",
              "      <td>121.0</td>\n",
              "      <td>81.0</td>\n",
              "      <td>28.73</td>\n",
              "      <td>95.0</td>\n",
              "      <td>76.0</td>\n",
              "      <td>0</td>\n",
              "    </tr>\n",
              "    <tr>\n",
              "      <th>2</th>\n",
              "      <td>1.0</td>\n",
              "      <td>1</td>\n",
              "      <td>48</td>\n",
              "      <td>1</td>\n",
              "      <td>20.0</td>\n",
              "      <td>0.0</td>\n",
              "      <td>0</td>\n",
              "      <td>0</td>\n",
              "      <td>0</td>\n",
              "      <td>245.0</td>\n",
              "      <td>127.5</td>\n",
              "      <td>80.0</td>\n",
              "      <td>25.34</td>\n",
              "      <td>75.0</td>\n",
              "      <td>70.0</td>\n",
              "      <td>0</td>\n",
              "    </tr>\n",
              "    <tr>\n",
              "      <th>3</th>\n",
              "      <td>1.0</td>\n",
              "      <td>0</td>\n",
              "      <td>61</td>\n",
              "      <td>1</td>\n",
              "      <td>30.0</td>\n",
              "      <td>0.0</td>\n",
              "      <td>0</td>\n",
              "      <td>1</td>\n",
              "      <td>0</td>\n",
              "      <td>225.0</td>\n",
              "      <td>150.0</td>\n",
              "      <td>95.0</td>\n",
              "      <td>28.58</td>\n",
              "      <td>65.0</td>\n",
              "      <td>103.0</td>\n",
              "      <td>1</td>\n",
              "    </tr>\n",
              "    <tr>\n",
              "      <th>4</th>\n",
              "      <td>1.0</td>\n",
              "      <td>0</td>\n",
              "      <td>46</td>\n",
              "      <td>1</td>\n",
              "      <td>23.0</td>\n",
              "      <td>0.0</td>\n",
              "      <td>0</td>\n",
              "      <td>0</td>\n",
              "      <td>0</td>\n",
              "      <td>285.0</td>\n",
              "      <td>130.0</td>\n",
              "      <td>84.0</td>\n",
              "      <td>23.10</td>\n",
              "      <td>85.0</td>\n",
              "      <td>85.0</td>\n",
              "      <td>0</td>\n",
              "    </tr>\n",
              "  </tbody>\n",
              "</table>\n",
              "</div>\n",
              "      <button class=\"colab-df-convert\" onclick=\"convertToInteractive('df-5fa67809-ac19-4ffa-a844-227ca36754d6')\"\n",
              "              title=\"Convert this dataframe to an interactive table.\"\n",
              "              style=\"display:none;\">\n",
              "        \n",
              "  <svg xmlns=\"http://www.w3.org/2000/svg\" height=\"24px\"viewBox=\"0 0 24 24\"\n",
              "       width=\"24px\">\n",
              "    <path d=\"M0 0h24v24H0V0z\" fill=\"none\"/>\n",
              "    <path d=\"M18.56 5.44l.94 2.06.94-2.06 2.06-.94-2.06-.94-.94-2.06-.94 2.06-2.06.94zm-11 1L8.5 8.5l.94-2.06 2.06-.94-2.06-.94L8.5 2.5l-.94 2.06-2.06.94zm10 10l.94 2.06.94-2.06 2.06-.94-2.06-.94-.94-2.06-.94 2.06-2.06.94z\"/><path d=\"M17.41 7.96l-1.37-1.37c-.4-.4-.92-.59-1.43-.59-.52 0-1.04.2-1.43.59L10.3 9.45l-7.72 7.72c-.78.78-.78 2.05 0 2.83L4 21.41c.39.39.9.59 1.41.59.51 0 1.02-.2 1.41-.59l7.78-7.78 2.81-2.81c.8-.78.8-2.07 0-2.86zM5.41 20L4 18.59l7.72-7.72 1.47 1.35L5.41 20z\"/>\n",
              "  </svg>\n",
              "      </button>\n",
              "      \n",
              "  <style>\n",
              "    .colab-df-container {\n",
              "      display:flex;\n",
              "      flex-wrap:wrap;\n",
              "      gap: 12px;\n",
              "    }\n",
              "\n",
              "    .colab-df-convert {\n",
              "      background-color: #E8F0FE;\n",
              "      border: none;\n",
              "      border-radius: 50%;\n",
              "      cursor: pointer;\n",
              "      display: none;\n",
              "      fill: #1967D2;\n",
              "      height: 32px;\n",
              "      padding: 0 0 0 0;\n",
              "      width: 32px;\n",
              "    }\n",
              "\n",
              "    .colab-df-convert:hover {\n",
              "      background-color: #E2EBFA;\n",
              "      box-shadow: 0px 1px 2px rgba(60, 64, 67, 0.3), 0px 1px 3px 1px rgba(60, 64, 67, 0.15);\n",
              "      fill: #174EA6;\n",
              "    }\n",
              "\n",
              "    [theme=dark] .colab-df-convert {\n",
              "      background-color: #3B4455;\n",
              "      fill: #D2E3FC;\n",
              "    }\n",
              "\n",
              "    [theme=dark] .colab-df-convert:hover {\n",
              "      background-color: #434B5C;\n",
              "      box-shadow: 0px 1px 3px 1px rgba(0, 0, 0, 0.15);\n",
              "      filter: drop-shadow(0px 1px 2px rgba(0, 0, 0, 0.3));\n",
              "      fill: #FFFFFF;\n",
              "    }\n",
              "  </style>\n",
              "\n",
              "      <script>\n",
              "        const buttonEl =\n",
              "          document.querySelector('#df-5fa67809-ac19-4ffa-a844-227ca36754d6 button.colab-df-convert');\n",
              "        buttonEl.style.display =\n",
              "          google.colab.kernel.accessAllowed ? 'block' : 'none';\n",
              "\n",
              "        async function convertToInteractive(key) {\n",
              "          const element = document.querySelector('#df-5fa67809-ac19-4ffa-a844-227ca36754d6');\n",
              "          const dataTable =\n",
              "            await google.colab.kernel.invokeFunction('convertToInteractive',\n",
              "                                                     [key], {});\n",
              "          if (!dataTable) return;\n",
              "\n",
              "          const docLinkHtml = 'Like what you see? Visit the ' +\n",
              "            '<a target=\"_blank\" href=https://colab.research.google.com/notebooks/data_table.ipynb>data table notebook</a>'\n",
              "            + ' to learn more about interactive tables.';\n",
              "          element.innerHTML = '';\n",
              "          dataTable['output_type'] = 'display_data';\n",
              "          await google.colab.output.renderOutput(dataTable, element);\n",
              "          const docLink = document.createElement('div');\n",
              "          docLink.innerHTML = docLinkHtml;\n",
              "          element.appendChild(docLink);\n",
              "        }\n",
              "      </script>\n",
              "    </div>\n",
              "  </div>\n",
              "  "
            ]
          },
          "metadata": {},
          "execution_count": 12
        }
      ],
      "source": [
        "from statsmodels.tools import add_constant as add_constant\n",
        "df_constant = add_constant(df)\n",
        "df_constant.head()"
      ]
    },
    {
      "cell_type": "code",
      "execution_count": 13,
      "id": "c9ae3c88",
      "metadata": {
        "id": "c9ae3c88",
        "colab": {
          "base_uri": "https://localhost:8080/",
          "height": 582
        },
        "outputId": "0ab467f4-c240-4597-b30b-b6ea0ec44fd6"
      },
      "outputs": [
        {
          "output_type": "stream",
          "name": "stdout",
          "text": [
            "Optimization terminated successfully.\n",
            "         Current function value: 0.377036\n",
            "         Iterations 7\n"
          ]
        },
        {
          "output_type": "execute_result",
          "data": {
            "text/plain": [
              "<class 'statsmodels.iolib.summary.Summary'>\n",
              "\"\"\"\n",
              "                           Logit Regression Results                           \n",
              "==============================================================================\n",
              "Dep. Variable:             TenYearCHD   No. Observations:                 3751\n",
              "Model:                          Logit   Df Residuals:                     3736\n",
              "Method:                           MLE   Df Model:                           14\n",
              "Date:                Thu, 05 Jan 2023   Pseudo R-squ.:                  0.1170\n",
              "Time:                        06:22:56   Log-Likelihood:                -1414.3\n",
              "converged:                       True   LL-Null:                       -1601.7\n",
              "Covariance Type:            nonrobust   LLR p-value:                 2.439e-71\n",
              "===================================================================================\n",
              "                      coef    std err          z      P>|z|      [0.025      0.975]\n",
              "-----------------------------------------------------------------------------------\n",
              "const              -8.6532      0.687    -12.589      0.000     -10.000      -7.306\n",
              "sex_male            0.5742      0.107      5.345      0.000       0.364       0.785\n",
              "age                 0.0641      0.007      9.799      0.000       0.051       0.077\n",
              "currentSmoker       0.0739      0.155      0.478      0.633      -0.229       0.377\n",
              "cigsPerDay          0.0184      0.006      3.000      0.003       0.006       0.030\n",
              "BPMeds              0.1448      0.232      0.623      0.533      -0.310       0.600\n",
              "prevalentStroke     0.7193      0.489      1.471      0.141      -0.239       1.678\n",
              "prevalentHyp        0.2142      0.136      1.571      0.116      -0.053       0.481\n",
              "diabetes            0.0022      0.312      0.007      0.994      -0.610       0.614\n",
              "totChol             0.0023      0.001      2.081      0.037       0.000       0.004\n",
              "sysBP               0.0154      0.004      4.082      0.000       0.008       0.023\n",
              "diaBP              -0.0040      0.006     -0.623      0.533      -0.016       0.009\n",
              "BMI                 0.0103      0.013      0.827      0.408      -0.014       0.035\n",
              "heartRate          -0.0023      0.004     -0.549      0.583      -0.010       0.006\n",
              "glucose             0.0076      0.002      3.409      0.001       0.003       0.012\n",
              "===================================================================================\n",
              "\"\"\""
            ],
            "text/html": [
              "<table class=\"simpletable\">\n",
              "<caption>Logit Regression Results</caption>\n",
              "<tr>\n",
              "  <th>Dep. Variable:</th>      <td>TenYearCHD</td>    <th>  No. Observations:  </th>  <td>  3751</td>  \n",
              "</tr>\n",
              "<tr>\n",
              "  <th>Model:</th>                 <td>Logit</td>      <th>  Df Residuals:      </th>  <td>  3736</td>  \n",
              "</tr>\n",
              "<tr>\n",
              "  <th>Method:</th>                 <td>MLE</td>       <th>  Df Model:          </th>  <td>    14</td>  \n",
              "</tr>\n",
              "<tr>\n",
              "  <th>Date:</th>            <td>Thu, 05 Jan 2023</td> <th>  Pseudo R-squ.:     </th>  <td>0.1170</td>  \n",
              "</tr>\n",
              "<tr>\n",
              "  <th>Time:</th>                <td>06:22:56</td>     <th>  Log-Likelihood:    </th> <td> -1414.3</td> \n",
              "</tr>\n",
              "<tr>\n",
              "  <th>converged:</th>             <td>True</td>       <th>  LL-Null:           </th> <td> -1601.7</td> \n",
              "</tr>\n",
              "<tr>\n",
              "  <th>Covariance Type:</th>     <td>nonrobust</td>    <th>  LLR p-value:       </th> <td>2.439e-71</td>\n",
              "</tr>\n",
              "</table>\n",
              "<table class=\"simpletable\">\n",
              "<tr>\n",
              "         <td></td>            <th>coef</th>     <th>std err</th>      <th>z</th>      <th>P>|z|</th>  <th>[0.025</th>    <th>0.975]</th>  \n",
              "</tr>\n",
              "<tr>\n",
              "  <th>const</th>           <td>   -8.6532</td> <td>    0.687</td> <td>  -12.589</td> <td> 0.000</td> <td>  -10.000</td> <td>   -7.306</td>\n",
              "</tr>\n",
              "<tr>\n",
              "  <th>sex_male</th>        <td>    0.5742</td> <td>    0.107</td> <td>    5.345</td> <td> 0.000</td> <td>    0.364</td> <td>    0.785</td>\n",
              "</tr>\n",
              "<tr>\n",
              "  <th>age</th>             <td>    0.0641</td> <td>    0.007</td> <td>    9.799</td> <td> 0.000</td> <td>    0.051</td> <td>    0.077</td>\n",
              "</tr>\n",
              "<tr>\n",
              "  <th>currentSmoker</th>   <td>    0.0739</td> <td>    0.155</td> <td>    0.478</td> <td> 0.633</td> <td>   -0.229</td> <td>    0.377</td>\n",
              "</tr>\n",
              "<tr>\n",
              "  <th>cigsPerDay</th>      <td>    0.0184</td> <td>    0.006</td> <td>    3.000</td> <td> 0.003</td> <td>    0.006</td> <td>    0.030</td>\n",
              "</tr>\n",
              "<tr>\n",
              "  <th>BPMeds</th>          <td>    0.1448</td> <td>    0.232</td> <td>    0.623</td> <td> 0.533</td> <td>   -0.310</td> <td>    0.600</td>\n",
              "</tr>\n",
              "<tr>\n",
              "  <th>prevalentStroke</th> <td>    0.7193</td> <td>    0.489</td> <td>    1.471</td> <td> 0.141</td> <td>   -0.239</td> <td>    1.678</td>\n",
              "</tr>\n",
              "<tr>\n",
              "  <th>prevalentHyp</th>    <td>    0.2142</td> <td>    0.136</td> <td>    1.571</td> <td> 0.116</td> <td>   -0.053</td> <td>    0.481</td>\n",
              "</tr>\n",
              "<tr>\n",
              "  <th>diabetes</th>        <td>    0.0022</td> <td>    0.312</td> <td>    0.007</td> <td> 0.994</td> <td>   -0.610</td> <td>    0.614</td>\n",
              "</tr>\n",
              "<tr>\n",
              "  <th>totChol</th>         <td>    0.0023</td> <td>    0.001</td> <td>    2.081</td> <td> 0.037</td> <td>    0.000</td> <td>    0.004</td>\n",
              "</tr>\n",
              "<tr>\n",
              "  <th>sysBP</th>           <td>    0.0154</td> <td>    0.004</td> <td>    4.082</td> <td> 0.000</td> <td>    0.008</td> <td>    0.023</td>\n",
              "</tr>\n",
              "<tr>\n",
              "  <th>diaBP</th>           <td>   -0.0040</td> <td>    0.006</td> <td>   -0.623</td> <td> 0.533</td> <td>   -0.016</td> <td>    0.009</td>\n",
              "</tr>\n",
              "<tr>\n",
              "  <th>BMI</th>             <td>    0.0103</td> <td>    0.013</td> <td>    0.827</td> <td> 0.408</td> <td>   -0.014</td> <td>    0.035</td>\n",
              "</tr>\n",
              "<tr>\n",
              "  <th>heartRate</th>       <td>   -0.0023</td> <td>    0.004</td> <td>   -0.549</td> <td> 0.583</td> <td>   -0.010</td> <td>    0.006</td>\n",
              "</tr>\n",
              "<tr>\n",
              "  <th>glucose</th>         <td>    0.0076</td> <td>    0.002</td> <td>    3.409</td> <td> 0.001</td> <td>    0.003</td> <td>    0.012</td>\n",
              "</tr>\n",
              "</table>"
            ]
          },
          "metadata": {},
          "execution_count": 13
        }
      ],
      "source": [
        "st.chisqprob = lambda chisq, df: st.chi2.sf(chisq, df)\n",
        "cols = df_constant.columns[:-1]\n",
        "model = sm.Logit(df.TenYearCHD, df_constant[cols])\n",
        "result = model.fit()\n",
        "result.summary()"
      ]
    },
    {
      "cell_type": "code",
      "execution_count": 14,
      "id": "9b196481",
      "metadata": {
        "id": "9b196481",
        "colab": {
          "base_uri": "https://localhost:8080/",
          "height": 359
        },
        "outputId": "27026068-1efd-4f23-8241-629e6a0eb8a1"
      },
      "outputs": [
        {
          "output_type": "execute_result",
          "data": {
            "text/plain": [
              "<class 'statsmodels.iolib.summary.Summary'>\n",
              "\"\"\"\n",
              "                           Logit Regression Results                           \n",
              "==============================================================================\n",
              "Dep. Variable:             TenYearCHD   No. Observations:                 3751\n",
              "Model:                          Logit   Df Residuals:                     3744\n",
              "Method:                           MLE   Df Model:                            6\n",
              "Date:                Thu, 05 Jan 2023   Pseudo R-squ.:                  0.1149\n",
              "Time:                        06:22:57   Log-Likelihood:                -1417.7\n",
              "converged:                       True   LL-Null:                       -1601.7\n",
              "Covariance Type:            nonrobust   LLR p-value:                 2.127e-76\n",
              "==============================================================================\n",
              "                 coef    std err          z      P>|z|      [0.025      0.975]\n",
              "------------------------------------------------------------------------------\n",
              "const         -9.1264      0.468    -19.504      0.000     -10.043      -8.209\n",
              "sex_male       0.5815      0.105      5.524      0.000       0.375       0.788\n",
              "age            0.0655      0.006     10.343      0.000       0.053       0.078\n",
              "cigsPerDay     0.0197      0.004      4.805      0.000       0.012       0.028\n",
              "totChol        0.0023      0.001      2.106      0.035       0.000       0.004\n",
              "sysBP          0.0174      0.002      8.162      0.000       0.013       0.022\n",
              "glucose        0.0076      0.002      4.574      0.000       0.004       0.011\n",
              "==============================================================================\n",
              "\"\"\""
            ],
            "text/html": [
              "<table class=\"simpletable\">\n",
              "<caption>Logit Regression Results</caption>\n",
              "<tr>\n",
              "  <th>Dep. Variable:</th>      <td>TenYearCHD</td>    <th>  No. Observations:  </th>  <td>  3751</td>  \n",
              "</tr>\n",
              "<tr>\n",
              "  <th>Model:</th>                 <td>Logit</td>      <th>  Df Residuals:      </th>  <td>  3744</td>  \n",
              "</tr>\n",
              "<tr>\n",
              "  <th>Method:</th>                 <td>MLE</td>       <th>  Df Model:          </th>  <td>     6</td>  \n",
              "</tr>\n",
              "<tr>\n",
              "  <th>Date:</th>            <td>Thu, 05 Jan 2023</td> <th>  Pseudo R-squ.:     </th>  <td>0.1149</td>  \n",
              "</tr>\n",
              "<tr>\n",
              "  <th>Time:</th>                <td>06:22:57</td>     <th>  Log-Likelihood:    </th> <td> -1417.7</td> \n",
              "</tr>\n",
              "<tr>\n",
              "  <th>converged:</th>             <td>True</td>       <th>  LL-Null:           </th> <td> -1601.7</td> \n",
              "</tr>\n",
              "<tr>\n",
              "  <th>Covariance Type:</th>     <td>nonrobust</td>    <th>  LLR p-value:       </th> <td>2.127e-76</td>\n",
              "</tr>\n",
              "</table>\n",
              "<table class=\"simpletable\">\n",
              "<tr>\n",
              "       <td></td>         <th>coef</th>     <th>std err</th>      <th>z</th>      <th>P>|z|</th>  <th>[0.025</th>    <th>0.975]</th>  \n",
              "</tr>\n",
              "<tr>\n",
              "  <th>const</th>      <td>   -9.1264</td> <td>    0.468</td> <td>  -19.504</td> <td> 0.000</td> <td>  -10.043</td> <td>   -8.209</td>\n",
              "</tr>\n",
              "<tr>\n",
              "  <th>sex_male</th>   <td>    0.5815</td> <td>    0.105</td> <td>    5.524</td> <td> 0.000</td> <td>    0.375</td> <td>    0.788</td>\n",
              "</tr>\n",
              "<tr>\n",
              "  <th>age</th>        <td>    0.0655</td> <td>    0.006</td> <td>   10.343</td> <td> 0.000</td> <td>    0.053</td> <td>    0.078</td>\n",
              "</tr>\n",
              "<tr>\n",
              "  <th>cigsPerDay</th> <td>    0.0197</td> <td>    0.004</td> <td>    4.805</td> <td> 0.000</td> <td>    0.012</td> <td>    0.028</td>\n",
              "</tr>\n",
              "<tr>\n",
              "  <th>totChol</th>    <td>    0.0023</td> <td>    0.001</td> <td>    2.106</td> <td> 0.035</td> <td>    0.000</td> <td>    0.004</td>\n",
              "</tr>\n",
              "<tr>\n",
              "  <th>sysBP</th>      <td>    0.0174</td> <td>    0.002</td> <td>    8.162</td> <td> 0.000</td> <td>    0.013</td> <td>    0.022</td>\n",
              "</tr>\n",
              "<tr>\n",
              "  <th>glucose</th>    <td>    0.0076</td> <td>    0.002</td> <td>    4.574</td> <td> 0.000</td> <td>    0.004</td> <td>    0.011</td>\n",
              "</tr>\n",
              "</table>"
            ]
          },
          "metadata": {},
          "execution_count": 14
        }
      ],
      "source": [
        "def back_feature_elem (data_frame, dep_var, col_list):\n",
        "    while len(col_list)>0 :\n",
        "        model = sm.Logit(dep_var,data_frame[col_list])\n",
        "        result = model.fit(disp=0)\n",
        "        largest_pvalue = round(result.pvalues,3).nlargest(1)\n",
        "        if largest_pvalue[0]<(0.05):\n",
        "            return result\n",
        "            break\n",
        "        else:\n",
        "            col_list = col_list.drop(largest_pvalue.index)\n",
        "result = back_feature_elem(df_constant, df.TenYearCHD, cols)\n",
        "result.summary()"
      ]
    },
    {
      "cell_type": "code",
      "execution_count": 15,
      "id": "a2a9efac",
      "metadata": {
        "id": "a2a9efac",
        "colab": {
          "base_uri": "https://localhost:8080/"
        },
        "outputId": "91086487-e7b3-4512-c8b4-2af48937d478"
      },
      "outputs": [
        {
          "output_type": "stream",
          "name": "stdout",
          "text": [
            "            CI 95%(2.5%)  CI 95%(97.5%)  Odds Ratio  pvalue\n",
            "const           0.000043       0.000272    0.000109   0.000\n",
            "sex_male        1.455242       2.198536    1.788687   0.000\n",
            "age             1.054483       1.080969    1.067644   0.000\n",
            "cigsPerDay      1.011733       1.028128    1.019897   0.000\n",
            "totChol         1.000158       1.004394    1.002273   0.035\n",
            "sysBP           1.013292       1.021784    1.017529   0.000\n",
            "glucose         1.004346       1.010898    1.007617   0.000\n"
          ]
        }
      ],
      "source": [
        "params = np.exp(result.params)\n",
        "conf = np.exp(result.conf_int())\n",
        "conf['OR'] = params\n",
        "pvalue = round(result.pvalues,3)\n",
        "conf['pvalue'] = pvalue\n",
        "conf.columns = ['CI 95%(2.5%)','CI 95%(97.5%)','Odds Ratio', 'pvalue']\n",
        "print((conf))"
      ]
    },
    {
      "cell_type": "markdown",
      "source": [
        "###Q7. The above table mentions the columns with the highest importance. Create a new dataframe with just these columns and your target column. Split it into training and testing dataset and fit the training data into Logistic regression model. Also predict the y values for the test set."
      ],
      "metadata": {
        "id": "kB_Av3nKaDK4"
      },
      "id": "kB_Av3nKaDK4"
    },
    {
      "cell_type": "code",
      "source": [
        "#Split the new dataset and fit the model\n",
        "from sklearn.linear_model import LogisticRegression\n",
        "X = df_constant[['const', 'sex_male', 'age', 'cigsPerDay', 'totChol','sysBP', 'glucose']]\n",
        "y = df_constant['TenYearCHD']\n",
        "X_train, X_test, y_train, y_test = train_test_split(X, y)\n",
        "log_model = LogisticRegression()\n",
        "log_model.fit(X_train, y_train)\n",
        "y_pred = log_model.predict(X_test)"
      ],
      "metadata": {
        "id": "kXQbeSsQbra-",
        "colab": {
          "base_uri": "https://localhost:8080/"
        },
        "outputId": "c29c1bf8-5d85-4df1-a699-358e1d6ad45e"
      },
      "id": "kXQbeSsQbra-",
      "execution_count": 26,
      "outputs": [
        {
          "output_type": "stream",
          "name": "stderr",
          "text": [
            "/usr/local/lib/python3.8/dist-packages/sklearn/linear_model/_logistic.py:814: ConvergenceWarning: lbfgs failed to converge (status=1):\n",
            "STOP: TOTAL NO. of ITERATIONS REACHED LIMIT.\n",
            "\n",
            "Increase the number of iterations (max_iter) or scale the data as shown in:\n",
            "    https://scikit-learn.org/stable/modules/preprocessing.html\n",
            "Please also refer to the documentation for alternative solver options:\n",
            "    https://scikit-learn.org/stable/modules/linear_model.html#logistic-regression\n",
            "  n_iter_i = _check_optimize_result(\n"
          ]
        }
      ]
    },
    {
      "cell_type": "markdown",
      "source": [
        "###Q8a. Create a confusion matrix for y test and y predcted values. Since this is prediction of heart disease which metric should be given more importance - Precision or Recall? Justify."
      ],
      "metadata": {
        "id": "5o18bJF7ajfp"
      },
      "id": "5o18bJF7ajfp"
    },
    {
      "cell_type": "code",
      "execution_count": 30,
      "id": "af51ede7",
      "metadata": {
        "id": "af51ede7",
        "colab": {
          "base_uri": "https://localhost:8080/"
        },
        "outputId": "ae52196a-fffd-4e2c-ac20-d6758f27e4e9"
      },
      "outputs": [
        {
          "output_type": "execute_result",
          "data": {
            "text/plain": [
              "array([[794,   2],\n",
              "       [135,   7]])"
            ]
          },
          "metadata": {},
          "execution_count": 30
        }
      ],
      "source": [
        "#Code for confusion matrix\n",
        "con_m = confusion_matrix(y_test, y_pred)\n",
        "con_m"
      ]
    },
    {
      "cell_type": "markdown",
      "source": [
        "###Q8b. Using the above confusion matrix, how would you find out Accuracy, Precision and Recall values. Calculate them using the formulae which takes into account True Positive, False Positive, True Negative and False Negative values."
      ],
      "metadata": {
        "id": "2zGZNIB8b_-0"
      },
      "id": "2zGZNIB8b_-0"
    },
    {
      "cell_type": "code",
      "source": [
        "conf_mat = pd.DataFrame(data = con_m, columns = ['Predicted:0', 'Prediction:1'], index = ['Actual: 0', 'Actual: 1'])\n",
        "conf_mat"
      ],
      "metadata": {
        "colab": {
          "base_uri": "https://localhost:8080/",
          "height": 112
        },
        "id": "5JxmPbKm6Gzw",
        "outputId": "c8889e45-ae8d-4bae-c0f9-eb4531d747b2"
      },
      "id": "5JxmPbKm6Gzw",
      "execution_count": 31,
      "outputs": [
        {
          "output_type": "execute_result",
          "data": {
            "text/plain": [
              "           Predicted:0  Prediction:1\n",
              "Actual: 0          794             2\n",
              "Actual: 1          135             7"
            ],
            "text/html": [
              "\n",
              "  <div id=\"df-022f6c68-d502-484f-a9c8-996ddb7bdac0\">\n",
              "    <div class=\"colab-df-container\">\n",
              "      <div>\n",
              "<style scoped>\n",
              "    .dataframe tbody tr th:only-of-type {\n",
              "        vertical-align: middle;\n",
              "    }\n",
              "\n",
              "    .dataframe tbody tr th {\n",
              "        vertical-align: top;\n",
              "    }\n",
              "\n",
              "    .dataframe thead th {\n",
              "        text-align: right;\n",
              "    }\n",
              "</style>\n",
              "<table border=\"1\" class=\"dataframe\">\n",
              "  <thead>\n",
              "    <tr style=\"text-align: right;\">\n",
              "      <th></th>\n",
              "      <th>Predicted:0</th>\n",
              "      <th>Prediction:1</th>\n",
              "    </tr>\n",
              "  </thead>\n",
              "  <tbody>\n",
              "    <tr>\n",
              "      <th>Actual: 0</th>\n",
              "      <td>794</td>\n",
              "      <td>2</td>\n",
              "    </tr>\n",
              "    <tr>\n",
              "      <th>Actual: 1</th>\n",
              "      <td>135</td>\n",
              "      <td>7</td>\n",
              "    </tr>\n",
              "  </tbody>\n",
              "</table>\n",
              "</div>\n",
              "      <button class=\"colab-df-convert\" onclick=\"convertToInteractive('df-022f6c68-d502-484f-a9c8-996ddb7bdac0')\"\n",
              "              title=\"Convert this dataframe to an interactive table.\"\n",
              "              style=\"display:none;\">\n",
              "        \n",
              "  <svg xmlns=\"http://www.w3.org/2000/svg\" height=\"24px\"viewBox=\"0 0 24 24\"\n",
              "       width=\"24px\">\n",
              "    <path d=\"M0 0h24v24H0V0z\" fill=\"none\"/>\n",
              "    <path d=\"M18.56 5.44l.94 2.06.94-2.06 2.06-.94-2.06-.94-.94-2.06-.94 2.06-2.06.94zm-11 1L8.5 8.5l.94-2.06 2.06-.94-2.06-.94L8.5 2.5l-.94 2.06-2.06.94zm10 10l.94 2.06.94-2.06 2.06-.94-2.06-.94-.94-2.06-.94 2.06-2.06.94z\"/><path d=\"M17.41 7.96l-1.37-1.37c-.4-.4-.92-.59-1.43-.59-.52 0-1.04.2-1.43.59L10.3 9.45l-7.72 7.72c-.78.78-.78 2.05 0 2.83L4 21.41c.39.39.9.59 1.41.59.51 0 1.02-.2 1.41-.59l7.78-7.78 2.81-2.81c.8-.78.8-2.07 0-2.86zM5.41 20L4 18.59l7.72-7.72 1.47 1.35L5.41 20z\"/>\n",
              "  </svg>\n",
              "      </button>\n",
              "      \n",
              "  <style>\n",
              "    .colab-df-container {\n",
              "      display:flex;\n",
              "      flex-wrap:wrap;\n",
              "      gap: 12px;\n",
              "    }\n",
              "\n",
              "    .colab-df-convert {\n",
              "      background-color: #E8F0FE;\n",
              "      border: none;\n",
              "      border-radius: 50%;\n",
              "      cursor: pointer;\n",
              "      display: none;\n",
              "      fill: #1967D2;\n",
              "      height: 32px;\n",
              "      padding: 0 0 0 0;\n",
              "      width: 32px;\n",
              "    }\n",
              "\n",
              "    .colab-df-convert:hover {\n",
              "      background-color: #E2EBFA;\n",
              "      box-shadow: 0px 1px 2px rgba(60, 64, 67, 0.3), 0px 1px 3px 1px rgba(60, 64, 67, 0.15);\n",
              "      fill: #174EA6;\n",
              "    }\n",
              "\n",
              "    [theme=dark] .colab-df-convert {\n",
              "      background-color: #3B4455;\n",
              "      fill: #D2E3FC;\n",
              "    }\n",
              "\n",
              "    [theme=dark] .colab-df-convert:hover {\n",
              "      background-color: #434B5C;\n",
              "      box-shadow: 0px 1px 3px 1px rgba(0, 0, 0, 0.15);\n",
              "      filter: drop-shadow(0px 1px 2px rgba(0, 0, 0, 0.3));\n",
              "      fill: #FFFFFF;\n",
              "    }\n",
              "  </style>\n",
              "\n",
              "      <script>\n",
              "        const buttonEl =\n",
              "          document.querySelector('#df-022f6c68-d502-484f-a9c8-996ddb7bdac0 button.colab-df-convert');\n",
              "        buttonEl.style.display =\n",
              "          google.colab.kernel.accessAllowed ? 'block' : 'none';\n",
              "\n",
              "        async function convertToInteractive(key) {\n",
              "          const element = document.querySelector('#df-022f6c68-d502-484f-a9c8-996ddb7bdac0');\n",
              "          const dataTable =\n",
              "            await google.colab.kernel.invokeFunction('convertToInteractive',\n",
              "                                                     [key], {});\n",
              "          if (!dataTable) return;\n",
              "\n",
              "          const docLinkHtml = 'Like what you see? Visit the ' +\n",
              "            '<a target=\"_blank\" href=https://colab.research.google.com/notebooks/data_table.ipynb>data table notebook</a>'\n",
              "            + ' to learn more about interactive tables.';\n",
              "          element.innerHTML = '';\n",
              "          dataTable['output_type'] = 'display_data';\n",
              "          await google.colab.output.renderOutput(dataTable, element);\n",
              "          const docLink = document.createElement('div');\n",
              "          docLink.innerHTML = docLinkHtml;\n",
              "          element.appendChild(docLink);\n",
              "        }\n",
              "      </script>\n",
              "    </div>\n",
              "  </div>\n",
              "  "
            ]
          },
          "metadata": {},
          "execution_count": 31
        }
      ]
    },
    {
      "cell_type": "code",
      "source": [
        "from sklearn.metrics import precision_score, recall_score, accuracy_score\n",
        "\n",
        "print('Precision:{0:0.4f}'.format(precision_score(y_test, y_pred)))\n",
        "print('Recall: {0:0.4f}'.format(recall_score(y_test, y_pred)))\n",
        "print('Accuracy: {0:0.4f}'.format(accuracy_score(y_test, y_pred)))"
      ],
      "metadata": {
        "colab": {
          "base_uri": "https://localhost:8080/"
        },
        "id": "3JDIRN5Elh1n",
        "outputId": "58c9062d-940a-4dbf-d820-f80775a76685"
      },
      "id": "3JDIRN5Elh1n",
      "execution_count": 32,
      "outputs": [
        {
          "output_type": "stream",
          "name": "stdout",
          "text": [
            "Precision:0.7778\n",
            "Recall: 0.0493\n",
            "Accuracy: 0.8539\n"
          ]
        }
      ]
    },
    {
      "cell_type": "markdown",
      "source": [
        "\n",
        "\n",
        "```\n",
        "#doubt\n",
        "```\n",
        "\n"
      ],
      "metadata": {
        "id": "0NU8cTuTJ4ZO"
      },
      "id": "0NU8cTuTJ4ZO"
    },
    {
      "cell_type": "code",
      "source": [
        "plt.figure(figsize = (8,5))\n",
        "sns.heatmap(data = conf_mat, annot = True, fmt = 'd', cmap=\"YlGnBu\")"
      ],
      "metadata": {
        "colab": {
          "base_uri": "https://localhost:8080/",
          "height": 337
        },
        "id": "AGDaWk1c6hnt",
        "outputId": "53ff8303-6e6a-4be9-91af-0e384dfce056"
      },
      "id": "AGDaWk1c6hnt",
      "execution_count": 20,
      "outputs": [
        {
          "output_type": "execute_result",
          "data": {
            "text/plain": [
              "<matplotlib.axes._subplots.AxesSubplot at 0x7ff33e31fdc0>"
            ]
          },
          "metadata": {},
          "execution_count": 20
        },
        {
          "output_type": "display_data",
          "data": {
            "text/plain": [
              "<Figure size 576x360 with 2 Axes>"
            ],
            "image/png": "[encoded data removed]"
          },
          "metadata": {
            "needs_background": "light"
          }
        }
      ]
    },
    {
      "cell_type": "markdown",
      "source": [
        "\n",
        "\n",
        "```\n",
        "The above heatmap shows the following values:\n",
        "False Positives - 113\n",
        "True Positives - 15\n",
        "False Negatives - 8\n",
        "True Negatives - 802\n",
        "\n",
        "```\n",
        "\n"
      ],
      "metadata": {
        "id": "LQp66eXsMGDU"
      },
      "id": "LQp66eXsMGDU"
    }
  ],
  "metadata": {
    "kernelspec": {
      "display_name": "Python 3",
      "language": "python",
      "name": "python3"
    },
    "language_info": {
      "codemirror_mode": {
        "name": "ipython",
        "version": 3
      },
      "file_extension": ".py",
      "mimetype": "text/x-python",
      "name": "python",
      "nbconvert_exporter": "python",
      "pygments_lexer": "ipython3",
      "version": "3.8.8"
    },
    "colab": {
      "provenance": [],
      "include_colab_link": true
    }
  },
  "nbformat": 4,
  "nbformat_minor": 5
}